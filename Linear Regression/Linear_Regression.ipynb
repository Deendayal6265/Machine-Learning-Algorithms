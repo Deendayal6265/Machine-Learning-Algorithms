{
  "nbformat": 4,
  "nbformat_minor": 0,
  "metadata": {
    "colab": {
      "name": "Linear Regression.ipynb",
      "provenance": [],
      "mount_file_id": "1kJhtz-nI2-ZyHalioJvzfgPmcFlc-ZDi",
      "authorship_tag": "ABX9TyMX7vtkHI4nc+Yxs4GcKS8e"
    },
    "kernelspec": {
      "name": "python3",
      "display_name": "Python 3"
    },
    "language_info": {
      "name": "python"
    }
  },
  "cells": [
    {
      "cell_type": "markdown",
      "source": [
        "# **Code By Deendayal Jatav**\n",
        "\n"
      ],
      "metadata": {
        "id": "RnsU3FoTrqaX"
      }
    },
    {
      "cell_type": "markdown",
      "source": [
        "# **Linear Regression**\n",
        "                     is the assuming Linear Relation between X and Y. "
      ],
      "metadata": {
        "id": "YaAHMLg6swPc"
      }
    },
    {
      "cell_type": "code",
      "execution_count": null,
      "metadata": {
        "id": "3kDSPqQ5rcqR"
      },
      "outputs": [],
      "source": [
        "import numpy as np\n",
        "import pandas as pd"
      ]
    },
    {
      "cell_type": "code",
      "source": [
        "data= pd.read_csv('/content/drive/MyDrive/Colab Notebooks/Sample_LR_dataset.csv')"
      ],
      "metadata": {
        "id": "YFiQsX5RyrRe"
      },
      "execution_count": null,
      "outputs": []
    },
    {
      "cell_type": "code",
      "source": [
        "data.describe"
      ],
      "metadata": {
        "colab": {
          "base_uri": "https://localhost:8080/"
        },
        "id": "F51kq4dq0HH9",
        "outputId": "aa48104f-e684-43d4-9cd9-ec4f8e5a915d"
      },
      "execution_count": null,
      "outputs": [
        {
          "output_type": "execute_result",
          "data": {
            "text/plain": [
              "<bound method NDFrame.describe of         x          y\n",
              "0    24.0  21.549452\n",
              "1    50.0  47.464463\n",
              "2    15.0  17.218656\n",
              "3    38.0  36.586398\n",
              "4    87.0  87.288984\n",
              "..    ...        ...\n",
              "695  58.0  58.595006\n",
              "696  93.0  94.625094\n",
              "697  82.0  88.603770\n",
              "698  66.0  63.648685\n",
              "699  97.0  94.975266\n",
              "\n",
              "[700 rows x 2 columns]>"
            ]
          },
          "metadata": {},
          "execution_count": 31
        }
      ]
    },
    {
      "cell_type": "code",
      "source": [
        "df=data.iloc[0:150]"
      ],
      "metadata": {
        "id": "BAmzCsq70RzQ"
      },
      "execution_count": null,
      "outputs": []
    },
    {
      "cell_type": "code",
      "source": [
        "df"
      ],
      "metadata": {
        "colab": {
          "base_uri": "https://localhost:8080/",
          "height": 424
        },
        "id": "ec8LGv8T0YMA",
        "outputId": "5351564a-eb13-47e8-c9ef-935e8c049a47"
      },
      "execution_count": null,
      "outputs": [
        {
          "output_type": "execute_result",
          "data": {
            "text/html": [
              "\n",
              "  <div id=\"df-0efc7749-80ef-4afd-b8c7-fa7b052a587d\">\n",
              "    <div class=\"colab-df-container\">\n",
              "      <div>\n",
              "<style scoped>\n",
              "    .dataframe tbody tr th:only-of-type {\n",
              "        vertical-align: middle;\n",
              "    }\n",
              "\n",
              "    .dataframe tbody tr th {\n",
              "        vertical-align: top;\n",
              "    }\n",
              "\n",
              "    .dataframe thead th {\n",
              "        text-align: right;\n",
              "    }\n",
              "</style>\n",
              "<table border=\"1\" class=\"dataframe\">\n",
              "  <thead>\n",
              "    <tr style=\"text-align: right;\">\n",
              "      <th></th>\n",
              "      <th>x</th>\n",
              "      <th>y</th>\n",
              "    </tr>\n",
              "  </thead>\n",
              "  <tbody>\n",
              "    <tr>\n",
              "      <th>0</th>\n",
              "      <td>24.0</td>\n",
              "      <td>21.549452</td>\n",
              "    </tr>\n",
              "    <tr>\n",
              "      <th>1</th>\n",
              "      <td>50.0</td>\n",
              "      <td>47.464463</td>\n",
              "    </tr>\n",
              "    <tr>\n",
              "      <th>2</th>\n",
              "      <td>15.0</td>\n",
              "      <td>17.218656</td>\n",
              "    </tr>\n",
              "    <tr>\n",
              "      <th>3</th>\n",
              "      <td>38.0</td>\n",
              "      <td>36.586398</td>\n",
              "    </tr>\n",
              "    <tr>\n",
              "      <th>4</th>\n",
              "      <td>87.0</td>\n",
              "      <td>87.288984</td>\n",
              "    </tr>\n",
              "    <tr>\n",
              "      <th>...</th>\n",
              "      <td>...</td>\n",
              "      <td>...</td>\n",
              "    </tr>\n",
              "    <tr>\n",
              "      <th>145</th>\n",
              "      <td>95.0</td>\n",
              "      <td>95.460922</td>\n",
              "    </tr>\n",
              "    <tr>\n",
              "      <th>146</th>\n",
              "      <td>94.0</td>\n",
              "      <td>88.641838</td>\n",
              "    </tr>\n",
              "    <tr>\n",
              "      <th>147</th>\n",
              "      <td>54.0</td>\n",
              "      <td>58.703187</td>\n",
              "    </tr>\n",
              "    <tr>\n",
              "      <th>148</th>\n",
              "      <td>7.0</td>\n",
              "      <td>6.815491</td>\n",
              "    </tr>\n",
              "    <tr>\n",
              "      <th>149</th>\n",
              "      <td>99.0</td>\n",
              "      <td>99.403947</td>\n",
              "    </tr>\n",
              "  </tbody>\n",
              "</table>\n",
              "<p>150 rows × 2 columns</p>\n",
              "</div>\n",
              "      <button class=\"colab-df-convert\" onclick=\"convertToInteractive('df-0efc7749-80ef-4afd-b8c7-fa7b052a587d')\"\n",
              "              title=\"Convert this dataframe to an interactive table.\"\n",
              "              style=\"display:none;\">\n",
              "        \n",
              "  <svg xmlns=\"http://www.w3.org/2000/svg\" height=\"24px\"viewBox=\"0 0 24 24\"\n",
              "       width=\"24px\">\n",
              "    <path d=\"M0 0h24v24H0V0z\" fill=\"none\"/>\n",
              "    <path d=\"M18.56 5.44l.94 2.06.94-2.06 2.06-.94-2.06-.94-.94-2.06-.94 2.06-2.06.94zm-11 1L8.5 8.5l.94-2.06 2.06-.94-2.06-.94L8.5 2.5l-.94 2.06-2.06.94zm10 10l.94 2.06.94-2.06 2.06-.94-2.06-.94-.94-2.06-.94 2.06-2.06.94z\"/><path d=\"M17.41 7.96l-1.37-1.37c-.4-.4-.92-.59-1.43-.59-.52 0-1.04.2-1.43.59L10.3 9.45l-7.72 7.72c-.78.78-.78 2.05 0 2.83L4 21.41c.39.39.9.59 1.41.59.51 0 1.02-.2 1.41-.59l7.78-7.78 2.81-2.81c.8-.78.8-2.07 0-2.86zM5.41 20L4 18.59l7.72-7.72 1.47 1.35L5.41 20z\"/>\n",
              "  </svg>\n",
              "      </button>\n",
              "      \n",
              "  <style>\n",
              "    .colab-df-container {\n",
              "      display:flex;\n",
              "      flex-wrap:wrap;\n",
              "      gap: 12px;\n",
              "    }\n",
              "\n",
              "    .colab-df-convert {\n",
              "      background-color: #E8F0FE;\n",
              "      border: none;\n",
              "      border-radius: 50%;\n",
              "      cursor: pointer;\n",
              "      display: none;\n",
              "      fill: #1967D2;\n",
              "      height: 32px;\n",
              "      padding: 0 0 0 0;\n",
              "      width: 32px;\n",
              "    }\n",
              "\n",
              "    .colab-df-convert:hover {\n",
              "      background-color: #E2EBFA;\n",
              "      box-shadow: 0px 1px 2px rgba(60, 64, 67, 0.3), 0px 1px 3px 1px rgba(60, 64, 67, 0.15);\n",
              "      fill: #174EA6;\n",
              "    }\n",
              "\n",
              "    [theme=dark] .colab-df-convert {\n",
              "      background-color: #3B4455;\n",
              "      fill: #D2E3FC;\n",
              "    }\n",
              "\n",
              "    [theme=dark] .colab-df-convert:hover {\n",
              "      background-color: #434B5C;\n",
              "      box-shadow: 0px 1px 3px 1px rgba(0, 0, 0, 0.15);\n",
              "      filter: drop-shadow(0px 1px 2px rgba(0, 0, 0, 0.3));\n",
              "      fill: #FFFFFF;\n",
              "    }\n",
              "  </style>\n",
              "\n",
              "      <script>\n",
              "        const buttonEl =\n",
              "          document.querySelector('#df-0efc7749-80ef-4afd-b8c7-fa7b052a587d button.colab-df-convert');\n",
              "        buttonEl.style.display =\n",
              "          google.colab.kernel.accessAllowed ? 'block' : 'none';\n",
              "\n",
              "        async function convertToInteractive(key) {\n",
              "          const element = document.querySelector('#df-0efc7749-80ef-4afd-b8c7-fa7b052a587d');\n",
              "          const dataTable =\n",
              "            await google.colab.kernel.invokeFunction('convertToInteractive',\n",
              "                                                     [key], {});\n",
              "          if (!dataTable) return;\n",
              "\n",
              "          const docLinkHtml = 'Like what you see? Visit the ' +\n",
              "            '<a target=\"_blank\" href=https://colab.research.google.com/notebooks/data_table.ipynb>data table notebook</a>'\n",
              "            + ' to learn more about interactive tables.';\n",
              "          element.innerHTML = '';\n",
              "          dataTable['output_type'] = 'display_data';\n",
              "          await google.colab.output.renderOutput(dataTable, element);\n",
              "          const docLink = document.createElement('div');\n",
              "          docLink.innerHTML = docLinkHtml;\n",
              "          element.appendChild(docLink);\n",
              "        }\n",
              "      </script>\n",
              "    </div>\n",
              "  </div>\n",
              "  "
            ],
            "text/plain": [
              "        x          y\n",
              "0    24.0  21.549452\n",
              "1    50.0  47.464463\n",
              "2    15.0  17.218656\n",
              "3    38.0  36.586398\n",
              "4    87.0  87.288984\n",
              "..    ...        ...\n",
              "145  95.0  95.460922\n",
              "146  94.0  88.641838\n",
              "147  54.0  58.703187\n",
              "148   7.0   6.815491\n",
              "149  99.0  99.403947\n",
              "\n",
              "[150 rows x 2 columns]"
            ]
          },
          "metadata": {},
          "execution_count": 33
        }
      ]
    },
    {
      "cell_type": "code",
      "source": [
        "print(type(df))"
      ],
      "metadata": {
        "colab": {
          "base_uri": "https://localhost:8080/"
        },
        "id": "eVfykW5f2eHh",
        "outputId": "e87144d1-79b4-4352-81eb-4a038ddb3763"
      },
      "execution_count": null,
      "outputs": [
        {
          "output_type": "stream",
          "name": "stdout",
          "text": [
            "<class 'pandas.core.frame.DataFrame'>\n"
          ]
        }
      ]
    },
    {
      "cell_type": "code",
      "source": [
        "x=df.iloc[0:150,0:1]\n",
        "print(x)\n",
        "print(type(x))"
      ],
      "metadata": {
        "colab": {
          "base_uri": "https://localhost:8080/"
        },
        "id": "jUBhMmTu1Ms8",
        "outputId": "3d994f09-f1ee-4f78-e34c-a692837b819e"
      },
      "execution_count": null,
      "outputs": [
        {
          "output_type": "stream",
          "name": "stdout",
          "text": [
            "        x\n",
            "0    24.0\n",
            "1    50.0\n",
            "2    15.0\n",
            "3    38.0\n",
            "4    87.0\n",
            "..    ...\n",
            "145  95.0\n",
            "146  94.0\n",
            "147  54.0\n",
            "148   7.0\n",
            "149  99.0\n",
            "\n",
            "[150 rows x 1 columns]\n",
            "<class 'pandas.core.frame.DataFrame'>\n"
          ]
        }
      ]
    },
    {
      "cell_type": "code",
      "source": [
        "y=df.iloc[0:150,1:2]\n",
        "print(y)"
      ],
      "metadata": {
        "id": "Q8tvKVny1YG3",
        "colab": {
          "base_uri": "https://localhost:8080/"
        },
        "outputId": "aa4c27de-9f85-4a04-8453-3828812ab526"
      },
      "execution_count": null,
      "outputs": [
        {
          "output_type": "stream",
          "name": "stdout",
          "text": [
            "             y\n",
            "0    21.549452\n",
            "1    47.464463\n",
            "2    17.218656\n",
            "3    36.586398\n",
            "4    87.288984\n",
            "..         ...\n",
            "145  95.460922\n",
            "146  88.641838\n",
            "147  58.703187\n",
            "148   6.815491\n",
            "149  99.403947\n",
            "\n",
            "[150 rows x 1 columns]\n"
          ]
        }
      ]
    },
    {
      "cell_type": "code",
      "source": [
        "from sklearn.model_selection import train_test_split\n",
        "x_train,x_test,y_train,y_test=train_test_split(x,y)"
      ],
      "metadata": {
        "id": "kh6tMmpN0lK7"
      },
      "execution_count": null,
      "outputs": []
    },
    {
      "cell_type": "code",
      "source": [
        ""
      ],
      "metadata": {
        "id": "W1i0dC4R1LaV"
      },
      "execution_count": null,
      "outputs": []
    },
    {
      "cell_type": "code",
      "source": [
        "from sklearn.linear_model import LinearRegression\n",
        "model = LinearRegression()\n",
        "model.fit(x_train,y_train)"
      ],
      "metadata": {
        "colab": {
          "base_uri": "https://localhost:8080/"
        },
        "id": "MW0x8MjF0eUW",
        "outputId": "d82cb1e8-63ba-4136-a65b-6bd2c0e456f3"
      },
      "execution_count": null,
      "outputs": [
        {
          "output_type": "execute_result",
          "data": {
            "text/plain": [
              "LinearRegression()"
            ]
          },
          "metadata": {},
          "execution_count": 38
        }
      ]
    },
    {
      "cell_type": "code",
      "source": [
        "y_pred = model.predict(x_test)"
      ],
      "metadata": {
        "id": "OWPk7x4z1sW3"
      },
      "execution_count": null,
      "outputs": []
    },
    {
      "cell_type": "code",
      "source": [
        "y_pred"
      ],
      "metadata": {
        "id": "7ciQDioI108o",
        "colab": {
          "base_uri": "https://localhost:8080/"
        },
        "outputId": "aeb3fc81-6653-411e-8015-c47b79d898b2"
      },
      "execution_count": null,
      "outputs": [
        {
          "output_type": "execute_result",
          "data": {
            "text/plain": [
              "array([[68.59591407],\n",
              "       [16.18939721],\n",
              "       [37.94304572],\n",
              "       [ 5.31257295],\n",
              "       [73.53992509],\n",
              "       [ 7.29017736],\n",
              "       [86.39435376],\n",
              "       [40.90945233],\n",
              "       [ 8.27897957],\n",
              "       [12.23418839],\n",
              "       [24.09981485],\n",
              "       [84.41674935],\n",
              "       [ 4.32377075],\n",
              "       [59.69669423],\n",
              "       [ 3.33496854],\n",
              "       [74.5287273 ],\n",
              "       [88.37195817],\n",
              "       [44.86466115],\n",
              "       [38.93184792],\n",
              "       [15.200595  ],\n",
              "       [57.71908982],\n",
              "       [ 7.29017736],\n",
              "       [38.93184792],\n",
              "       [41.89825454],\n",
              "       [89.36076037],\n",
              "       [45.85346336],\n",
              "       [25.08861705],\n",
              "       [26.07741926],\n",
              "       [83.42794714],\n",
              "       [53.763881  ],\n",
              "       [47.83106777],\n",
              "       [83.42794714],\n",
              "       [73.53992509],\n",
              "       [27.06622146],\n",
              "       [45.85346336],\n",
              "       [21.13340823],\n",
              "       [32.01023249],\n",
              "       [72.55112289]])"
            ]
          },
          "metadata": {},
          "execution_count": 40
        }
      ]
    },
    {
      "cell_type": "code",
      "source": [
        "print(type(y_pred))"
      ],
      "metadata": {
        "colab": {
          "base_uri": "https://localhost:8080/"
        },
        "id": "ws_scVQJqTNU",
        "outputId": "a9427e9c-a40a-47a0-ce43-fb83fa30d8a7"
      },
      "execution_count": null,
      "outputs": [
        {
          "output_type": "stream",
          "name": "stdout",
          "text": [
            "<class 'numpy.ndarray'>\n"
          ]
        }
      ]
    },
    {
      "cell_type": "code",
      "source": [
        "x.shape"
      ],
      "metadata": {
        "colab": {
          "base_uri": "https://localhost:8080/"
        },
        "id": "-PHpQwilqYzb",
        "outputId": "c780cb06-61ae-43cf-8641-3c23c54f6881"
      },
      "execution_count": null,
      "outputs": [
        {
          "output_type": "execute_result",
          "data": {
            "text/plain": [
              "(150, 1)"
            ]
          },
          "metadata": {},
          "execution_count": 42
        }
      ]
    },
    {
      "cell_type": "code",
      "source": [
        "model.coef_[0]  \n",
        "                            # this is the m  in y=mx+c"
      ],
      "metadata": {
        "colab": {
          "base_uri": "https://localhost:8080/"
        },
        "id": "ykh2kvxtJRAd",
        "outputId": "eb0e6502-3224-4d12-87ea-d369e67eb11d"
      },
      "execution_count": null,
      "outputs": [
        {
          "output_type": "execute_result",
          "data": {
            "text/plain": [
              "array([0.9888022])"
            ]
          },
          "metadata": {},
          "execution_count": 43
        }
      ]
    },
    {
      "cell_type": "code",
      "source": [
        "model.intercept_    # intercept . "
      ],
      "metadata": {
        "colab": {
          "base_uri": "https://localhost:8080/"
        },
        "id": "8-filNvjJgHe",
        "outputId": "33ceadc1-8e40-42bc-cadf-e4d64bdba423"
      },
      "execution_count": null,
      "outputs": [
        {
          "output_type": "execute_result",
          "data": {
            "text/plain": [
              "array([0.36856193])"
            ]
          },
          "metadata": {},
          "execution_count": 44
        }
      ]
    },
    {
      "cell_type": "code",
      "source": [
        "import matplotlib.pyplot as plt\n",
        "m = model.coef_[0]\n",
        "c = model.intercept_\n",
        "\n",
        "x_line = np.arange(0,100,0.1)\n",
        "y_line = m*x_line + c\n",
        "plt.axis([0,120,0,120])\n",
        "plt.plot(x_line,y_line,color=\"red\")\n",
        "\n",
        "plt.scatter(x_train,y_train)\n",
        "plt.show\n",
        "\n"
      ],
      "metadata": {
        "colab": {
          "base_uri": "https://localhost:8080/",
          "height": 286
        },
        "id": "_B7GoejfJmL9",
        "outputId": "f598ae7f-0495-4964-d54a-f3e91cfb6d1e"
      },
      "execution_count": null,
      "outputs": [
        {
          "output_type": "execute_result",
          "data": {
            "text/plain": [
              "<function matplotlib.pyplot.show>"
            ]
          },
          "metadata": {},
          "execution_count": 45
        },
        {
          "output_type": "display_data",
          "data": {
            "image/png": "[encoded data removed]",
            "text/plain": [
              "<Figure size 432x288 with 1 Axes>"
            ]
          },
          "metadata": {
            "needs_background": "light"
          }
        }
      ]
    },
    {
      "cell_type": "code",
      "source": [
        "import matplotlib.pyplot as plt\n",
        "m = model.coef_[0]\n",
        "c = model.intercept_\n",
        "\n",
        "x_line = np.arange(0,100,0.1)\n",
        "y_line = m*x_line + c\n",
        "plt.axis([0,120,0,120])\n",
        "plt.plot(x_line,y_line,color=\"red\")\n",
        "\n",
        "plt.scatter(x_test,y_test)\n",
        "plt.show\n",
        "\n"
      ],
      "metadata": {
        "colab": {
          "base_uri": "https://localhost:8080/",
          "height": 286
        },
        "id": "DK3OCxpHN3lx",
        "outputId": "20650175-8cc3-426a-bf68-53584905e513"
      },
      "execution_count": null,
      "outputs": [
        {
          "output_type": "execute_result",
          "data": {
            "text/plain": [
              "<function matplotlib.pyplot.show>"
            ]
          },
          "metadata": {},
          "execution_count": 46
        },
        {
          "output_type": "display_data",
          "data": {
            "image/png": "[encoded data removed]",
            "text/plain": [
              "<Figure size 432x288 with 1 Axes>"
            ]
          },
          "metadata": {
            "needs_background": "light"
          }
        }
      ]
    },
    {
      "cell_type": "markdown",
      "source": [
        "#**Score Of the algorithm**\n",
        "\n",
        "![Capture.JPG](data:image/jpeg;base64,/9j/4AAQSkZJRgABAQEAYABgAAD/4RD6RXhpZgAATU0AKgAAAAgABAE7AAIAAAAQAAAISodpAAQAAAABAAAIWpydAAEAAAAgAAAQ0uocAAcAAAgMAAAAPgAAAAAc6gAAAAgAAAAAAAAAAAAAAAAAAAAAAAAAAAAAAAAAAAAAAAAAAAAAAAAAAAAAAAAAAAAAAAAAAAAAAAAAAAAAAAAAAAAAAAAAAAAAAAAAAAAAAAAAAAAAAAAAAAAAAAAAAAAAAAAAAAAAAAAAAAAAAAAAAAAAAAAAAAAAAAAAAAAAAAAAAAAAAAAAAAAAAAAAAAAAAAAAAAAAAAAAAAAAAAAAAAAAAAAAAAAAAAAAAAAAAAAAAAAAAAAAAAAAAAAAAAAAAAAAAAAAAAAAAAAAAAAAAAAAAAAAAAAAAAAAAAAAAAAAAAAAAAAAAAAAAAAAAAAAAAAAAAAAAAAAAAAAAAAAAAAAAAAAAAAAAAAAAAAAAAAAAAAAAAAAAAAAAAAAAAAAAAAAAAAAAAAAAAAAAAAAAAAAAAAAAAAAAAAAAAAAAAAAAAAAAAAAAAAAAAAAAAAAAAAAAAAAAAAAAAAAAAAAAAAAAAAAAAAAAAAAAAAAAAAAAAAAAAAAAAAAAAAAAAAAAAAAAAAAAAAAAAAAAAAAAAAAAAAAAAAAAAAAAAAAAAAAAAAAAAAAAAAAAAAAAAAAAAAAAAAAAAAAAAAAAAAAAAAAAAAAAAAAAAAAAAAAAAAAAAAAAAAAAAAAAAAAAAAAAAAAAAAAAAAAAAAAAAAAAAAAAAAAAAAAAAAAAAAAAAAAAAAAAAAAAAAAAAAAAAAAAAAAAAAAAAAAAAAAAAAAAAAAAAAAAAAAAAAAAAAAAAAAAAAAAAAAAAAAAAAAAAAAAAAAAAAAAAAAAAAAAAAAAAAAAAAAAAAAAAAAAAAAAAAAAAAAAAAAAAAAAAAAAAAAAAAAAAAAAAAAAAAAAAAAAAAAAAAAAAAAAAAAAAAAAAAAAAAAAAAAAAAAAAAAAAAAAAAAAAAAAAAAAAAAAAAAAAAAAAAAAAAAAAAAAAAAAAAAAAAAAAAAAAAAAAAAAAAAAAAAAAAAAAAAAAAAAAAAAAAAAAAAAAAAAAAAAAAAAAAAAAAAAAAAAAAAAAAAAAAAAAAAAAAAAAAAAAAAAAAAAAAAAAAAAAAAAAAAAAAAAAAAAAAAAAAAAAAAAAAAAAAAAAAAAAAAAAAAAAAAAAAAAAAAAAAAAAAAAAAAAAAAAAAAAAAAAAAAAAAAAAAAAAAAAAAAAAAAAAAAAAAAAAAAAAAAAAAAAAAAAAAAAAAAAAAAAAAAAAAAAAAAAAAAAAAAAAAAAAAAAAAAAAAAAAAAAAAAAAAAAAAAAAAAAAAAAAAAAAAAAAAAAAAAAAAAAAAAAAAAAAAAAAAAAAAAAAAAAAAAAAAAAAAAAAAAAAAAAAAAAAAAAAAAAAAAAAAAAAAAAAAAAAAAAAAAAAAAAAAAAAAAAAAAAAAAAAAAAAAAAAAAAAAAAAAAAAAAAAAAAAAAAAAAAAAAAAAAAAAAAAAAAAAAAAAAAAAAAAAAAAAAAAAAAAAAAAAAAAAAAAAAAAAAAAAAAAAAAAAAAAAAAAAAAAAAAAAAAAAAAAAAAAAAAAAAAAAAAAAAAAAAAAAAAAAAAAAAAAAAAAAAAAAAAAAAAAAAAAAAAAAAAAAAAAAAAAAAAAAAAAAAAAAAAAAAAAAAAAAAAAAAAAAAAAAAAAAAAAAAAAAAAAAAAAAAAAAAAAAAAAAAAAAAAAAAAAAAAAAAAAAAAAAAAAAAAAAAAAAAAAAAAAAAAAAAAAAAAAAAAAAAAAAAAAAAAAAAAAAAAAAAAAAAAAAAAAAAAAAAAAAAAAAAAAAAAAAAAAAAAAAAAAAAAAAAAAAAAAAAAAAAAAAAAAAAAAAAAAAAAAAAAAAAAAAAAAAAAAAAAAAAAAAAAAAAAAAAAAAAAAAAAAAAAAAAAAAAAAAAAAAAAAAAAAAAAAAAAAAAAAAAAAAAAAAAAAAAAAAAAAAAAAAAAAAAAAAAAAAAAAAAAAAAAAAAAAAAAAAAAAAAAAAAAAAAAAAAAAAAAAAAAAAAAAAAAAAAAAAAAAAAAAAAAAAAAAAAAAAAAAAAAAAAAAAAAAAAAAAAAAAAAAAAAAAAAAAAAAAAAAAAAAAAAAAAAAAAAAAAAAAAAAAAAAAAAAAAAAAAAAAAAAAAAAAAAAAAAAAAAAAAAAAAAAAAAAAAAAAAAAAAAAAAAAAAAAAAAAAAAAAAAAAAAAAAAAAAAAAAAAAAAAAAAAAAAAAAAAAAAAAAAAAAAAAAAAAAAAAAAAAAAAAAAAAAAAAAAAAAAAAAAAAAAAAAAAAAAAAAAAAAAAAAAAAAAAAAAAAAAAAAAAAAAAAAAAAAAAAAAAAAAAAAAAAAAAAAAAAAAAAAAAAAAAAAAAAAAAAAAAAAAAAAAAAAAAAAAAAAAAAAAAAAAAAAAAAAAAAAAAAAAAAAAAAAAAAAAAAAAAAAAAAAAAAAAAAAAAAAAAAAAAAAAAAAAAAAAAAAAAAAAAAAAAAAAAAAAAAAAAAAAAAAAAAAAAAAAAAAAAAAAAAAAAAAAAAAAAAAAAAAAAAAAAAAAAAAAAAAAAAAAAAAAAAAAAAAAAAAAAAAAAAAAAAAAAAAAAAAAAAAAAAAAAAAAAAAAAAAAAAAAAAAAAAAAAAAAAAAAAAAAAAAAAAAAAAAAAAAAAAAAAAAAAAAAAAAAAAAAAAAAAAAAAAAAAAAAAAAAAAAAAAAAAAAAAAAAAAAAAAAAAAAAAAAAAAAAAAAAAAAAAAAAAAAAAAAAAAAAAAAAAAAAAAAAAAAAAAAAAAAAAAAAAAAAAAAAGRlZW5kYXlhbCBqYXRhdgAABZADAAIAAAAUAAAQqJAEAAIAAAAUAAAQvJKRAAIAAAADOTEAAJKSAAIAAAADOTEAAOocAAcAAAgMAAAInAAAAAAc6gAAAAgAAAAAAAAAAAAAAAAAAAAAAAAAAAAAAAAAAAAAAAAAAAAAAAAAAAAAAAAAAAAAAAAAAAAAAAAAAAAAAAAAAAAAAAAAAAAAAAAAAAAAAAAAAAAAAAAAAAAAAAAAAAAAAAAAAAAAAAAAAAAAAAAAAAAAAAAAAAAAAAAAAAAAAAAAAAAAAAAAAAAAAAAAAAAAAAAAAAAAAAAAAAAAAAAAAAAAAAAAAAAAAAAAAAAAAAAAAAAAAAAAAAAAAAAAAAAAAAAAAAAAAAAAAAAAAAAAAAAAAAAAAAAAAAAAAAAAAAAAAAAAAAAAAAAAAAAAAAAAAAAAAAAAAAAAAAAAAAAAAAAAAAAAAAAAAAAAAAAAAAAAAAAAAAAAAAAAAAAAAAAAAAAAAAAAAAAAAAAAAAAAAAAAAAAAAAAAAAAAAAAAAAAAAAAAAAAAAAAAAAAAAAAAAAAAAAAAAAAAAAAAAAAAAAAAAAAAAAAAAAAAAAAAAAAAAAAAAAAAAAAAAAAAAAAAAAAAAAAAAAAAAAAAAAAAAAAAAAAAAAAAAAAAAAAAAAAAAAAAAAAAAAAAAAAAAAAAAAAAAAAAAAAAAAAAAAAAAAAAAAAAAAAAAAAAAAAAAAAAAAAAAAAAAAAAAAAAAAAAAAAAAAAAAAAAAAAAAAAAAAAAAAAAAAAAAAAAAAAAAAAAAAAAAAAAAAAAAAAAAAAAAAAAAAAAAAAAAAAAAAAAAAAAAAAAAAAAAAAAAAAAAAAAAAAAAAAAAAAAAAAAAAAAAAAAAAAAAAAAAAAAAAAAAAAAAAAAAAAAAAAAAAAAAAAAAAAAAAAAAAAAAAAAAAAAAAAAAAAAAAAAAAAAAAAAAAAAAAAAAAAAAAAAAAAAAAAAAAAAAAAAAAAAAAAAAAAAAAAAAAAAAAAAAAAAAAAAAAAAAAAAAAAAAAAAAAAAAAAAAAAAAAAAAAAAAAAAAAAAAAAAAAAAAAAAAAAAAAAAAAAAAAAAAAAAAAAAAAAAAAAAAAAAAAAAAAAAAAAAAAAAAAAAAAAAAAAAAAAAAAAAAAAAAAAAAAAAAAAAAAAAAAAAAAAAAAAAAAAAAAAAAAAAAAAAAAAAAAAAAAAAAAAAAAAAAAAAAAAAAAAAAAAAAAAAAAAAAAAAAAAAAAAAAAAAAAAAAAAAAAAAAAAAAAAAAAAAAAAAAAAAAAAAAAAAAAAAAAAAAAAAAAAAAAAAAAAAAAAAAAAAAAAAAAAAAAAAAAAAAAAAAAAAAAAAAAAAAAAAAAAAAAAAAAAAAAAAAAAAAAAAAAAAAAAAAAAAAAAAAAAAAAAAAAAAAAAAAAAAAAAAAAAAAAAAAAAAAAAAAAAAAAAAAAAAAAAAAAAAAAAAAAAAAAAAAAAAAAAAAAAAAAAAAAAAAAAAAAAAAAAAAAAAAAAAAAAAAAAAAAAAAAAAAAAAAAAAAAAAAAAAAAAAAAAAAAAAAAAAAAAAAAAAAAAAAAAAAAAAAAAAAAAAAAAAAAAAAAAAAAAAAAAAAAAAAAAAAAAAAAAAAAAAAAAAAAAAAAAAAAAAAAAAAAAAAAAAAAAAAAAAAAAAAAAAAAAAAAAAAAAAAAAAAAAAAAAAAAAAAAAAAAAAAAAAAAAAAAAAAAAAAAAAAAAAAAAAAAAAAAAAAAAAAAAAAAAAAAAAAAAAAAAAAAAAAAAAAAAAAAAAAAAAAAAAAAAAAAAAAAAAAAAAAAAAAAAAAAAAAAAAAAAAAAAAAAAAAAAAAAAAAAAAAAAAAAAAAAAAAAAAAAAAAAAAAAAAAAAAAAAAAAAAAAAAAAAAAAAAAAAAAAAAAAAAAAAAAAAAAAAAAAAAAAAAAAAAAAAAAAAAAAAAAAAAAAAAAAAAAAAAAAAAAAAAAAAAAAAAAAAAAAAAAAAAAAAAAAAAAAAAAAAAAAAAAAAAAAAAAAAAAAAAAAAAAAAAAAAAAAAAAAAAAAAAAAAAAAAAAAAAAAAAAAAAAAAAAAAAAAAAAAAAAAAAAAAAAAAAAAAAAAAAAAAAAAAAAAAAAAAAAAAAAAAAAAAAAAAAAAAAAAAAAAAAAAAAAAAAAAAAAAAAAAAAAAAAAAAAAAAAAAAAAAAAAAAAAAAAAAAAAAAAAAAAAAAAAAAAAAAAAAAAAAAAAAAAAAAAAAAAAAAAAAAAAAAAAAAAAAAAAAAAAAAAAAAAAAAAAAAAAAAAAAAAAAAAAAAAAAAAAAAAAAAAAAAAAAAAAAAAAAAAAAAAAAAAAAAAAAAAAAAAAAAAAAAAAAAAAAAAAAAAAAAAAAAAAAAAAAAAAAAAAAAAAAAAAAAAAAAAAAAAAAAAAAAAAAAAAAAAAAAAAAAAAAAAAAAAAAAAAAAAAAAAAAAAAAAAAAAAAAAAAAAAAAAAAAAAAAAAAAAAAAAAAAAAAAAAAAAAAAAAAAAAAAAAAAAAAAAAAAAAAAAAAAAAAAAAAAAAAAAAAAAAAAAAAAAAAAAAAAAAAAAAAAAAAAAAAAAAAAAAAAAAAAAAAAAAAAAAAAAAAAAAAAAAAAAAAAAAAAAAAAAAAAAAAAAAAAAAAAAAAAAAAAAAAAAAAAAAAAAAAAAAAAAAAAAAAAAAAAAAAAAAAAAAAAAAAAAAAAAAAAAAAAAAAAAAAAAAAAAAAAAAAAAAAAAAAAAAAAAAAAAAAAAAAAAAAAAAAAAAAAAAAAAAAAAAAAAAAAAAAAAAAAAAAAAAAAAAAAAAAAAAAAAAAAAAAAAAAAAAAAAAAAAAAAAAADIwMjI6MDI6MTcgMTg6Mzc6MTUAMjAyMjowMjoxNyAxODozNzoxNQAAAGQAZQBlAG4AZABhAHkAYQBsACAAagBhAHQAYQB2AAAA/+ELImh0dHA6Ly9ucy5hZG9iZS5jb20veGFwLzEuMC8APD94cGFja2V0IGJlZ2luPSfvu78nIGlkPSdXNU0wTXBDZWhpSHpyZVN6TlRjemtjOWQnPz4NCjx4OnhtcG1ldGEgeG1sbnM6eD0iYWRvYmU6bnM6bWV0YS8iPjxyZGY6UkRGIHhtbG5zOnJkZj0iaHR0cDovL3d3dy53My5vcmcvMTk5OS8wMi8yMi1yZGYtc3ludGF4LW5zIyI+PHJkZjpEZXNjcmlwdGlvbiByZGY6YWJvdXQ9InV1aWQ6ZmFmNWJkZDUtYmEzZC0xMWRhLWFkMzEtZDMzZDc1MTgyZjFiIiB4bWxuczpkYz0iaHR0cDovL3B1cmwub3JnL2RjL2VsZW1lbnRzLzEuMS8iLz48cmRmOkRlc2NyaXB0aW9uIHJkZjphYm91dD0idXVpZDpmYWY1YmRkNS1iYTNkLTExZGEtYWQzMS1kMzNkNzUxODJmMWIiIHhtbG5zOnhtcD0iaHR0cDovL25zLmFkb2JlLmNvbS94YXAvMS4wLyI+PHhtcDpDcmVhdGVEYXRlPjIwMjItMDItMTdUMTg6Mzc6MTUuOTA3PC94bXA6Q3JlYXRlRGF0ZT48L3JkZjpEZXNjcmlwdGlvbj48cmRmOkRlc2NyaXB0aW9uIHJkZjphYm91dD0idXVpZDpmYWY1YmRkNS1iYTNkLTExZGEtYWQzMS1kMzNkNzUxODJmMWIiIHhtbG5zOmRjPSJodHRwOi8vcHVybC5vcmcvZGMvZWxlbWVudHMvMS4xLyI+PGRjOmNyZWF0b3I+PHJkZjpTZXEgeG1sbnM6cmRmPSJodHRwOi8vd3d3LnczLm9yZy8xOTk5LzAyLzIyLXJkZi1zeW50YXgtbnMjIj48cmRmOmxpPmRlZW5kYXlhbCBqYXRhdjwvcmRmOmxpPjwvcmRmOlNlcT4NCgkJCTwvZGM6Y3JlYXRvcj48L3JkZjpEZXNjcmlwdGlvbj48L3JkZjpSREY+PC94OnhtcG1ldGE+DQogICAgICAgICAgICAgICAgICAgICAgICAgICAgICAgICAgICAgICAgICAgICAgICAgICAgICAgICAgICAgICAgICAgICAgICAgICAgICAgICAgICAgICAgICAgICAgICAgICAgCiAgICAgICAgICAgICAgICAgICAgICAgICAgICAgICAgICAgICAgICAgICAgICAgICAgICAgICAgICAgICAgICAgICAgICAgICAgICAgICAgICAgICAgICAgICAgICAgICAgICAKICAgICAgICAgICAgICAgICAgICAgICAgICAgICAgICAgICAgICAgICAgICAgICAgICAgICAgICAgICAgICAgICAgICAgICAgICAgICAgICAgICAgICAgICAgICAgICAgICAgIAogICAgICAgICAgICAgICAgICAgICAgICAgICAgICAgICAgICAgICAgICAgICAgICAgICAgICAgICAgICAgICAgICAgICAgICAgICAgICAgICAgICAgICAgICAgICAgICAgICAgCiAgICAgICAgICAgICAgICAgICAgICAgICAgICAgICAgICAgICAgICAgICAgICAgICAgICAgICAgICAgICAgICAgICAgICAgICAgICAgICAgICAgICAgICAgICAgICAgICAgICAKICAgICAgICAgICAgICAgICAgICAgICAgICAgICAgICAgICAgICAgICAgICAgICAgICAgICAgICAgICAgICAgICAgICAgICAgICAgICAgICAgICAgICAgICAgICAgICAgICAgIAogICAgICAgICAgICAgICAgICAgICAgICAgICAgICAgICAgICAgICAgICAgICAgICAgICAgICAgICAgICAgICAgICAgICAgICAgICAgICAgICAgICAgICAgICAgICAgICAgICAgCiAgICAgICAgICAgICAgICAgICAgICAgICAgICAgICAgICAgICAgICAgICAgICAgICAgICAgICAgICAgICAgICAgICAgICAgICAgICAgICAgICAgICAgICAgICAgICAgICAgICAKICAgICAgICAgICAgICAgICAgICAgICAgICAgICAgICAgICAgICAgICAgICAgICAgICAgICAgICAgICAgICAgICAgICAgICAgICAgICAgICAgICAgICAgICAgICAgICAgICAgIAogICAgICAgICAgICAgICAgICAgICAgICAgICAgICAgICAgICAgICAgICAgICAgICAgICAgICAgICAgICAgICAgICAgICAgICAgICAgICAgICAgICAgICAgICAgICAgICAgICAgCiAgICAgICAgICAgICAgICAgICAgICAgICAgICAgICAgICAgICAgICAgICAgICAgICAgICAgICAgICAgICAgICAgICAgICAgICAgICAgICAgICAgICAgICAgICAgICAgICAgICAKICAgICAgICAgICAgICAgICAgICAgICAgICAgICAgICAgICAgICAgICAgICAgICAgICAgICAgICAgICAgICAgICAgICAgICAgICAgICAgICAgICAgICAgICAgICAgICAgICAgIAogICAgICAgICAgICAgICAgICAgICAgICAgICAgICAgICAgICAgICAgICAgICAgICAgICAgICAgICAgICAgICAgICAgICAgICAgICAgICAgICAgICAgICAgICAgICAgICAgICAgCiAgICAgICAgICAgICAgICAgICAgICAgICAgICAgICAgICAgICAgICAgICAgICAgICAgICAgICAgICAgICAgICAgICAgICAgICAgICAgICAgICAgICAgICAgICAgICAgICAgICAKICAgICAgICAgICAgICAgICAgICAgICAgICAgICAgICAgICAgICAgICAgICAgICAgICAgICAgICAgICAgICAgICAgICAgICAgICAgICAgICAgICAgICAgICAgICAgICAgICAgIAogICAgICAgICAgICAgICAgICAgICAgICAgICAgICAgICAgICAgICAgICAgICAgICAgICAgICAgICAgICAgICAgICAgICAgICAgICAgICAgICAgICAgICAgICAgICAgICAgICAgCiAgICAgICAgICAgICAgICAgICAgICAgICAgICAgICAgICAgICAgICAgICAgICAgICAgICAgICAgICAgICAgICAgICAgICAgICAgICAgICAgICAgICAgICAgICAgICAgICAgICAKICAgICAgICAgICAgICAgICAgICAgICAgICAgICAgICAgICAgICAgICAgICAgICAgICAgICAgICAgICAgICAgICAgICAgICAgICAgICAgICAgICAgICAgICAgICAgICAgICAgIAogICAgICAgICAgICAgICAgICAgICAgICAgICAgICAgICAgICAgICAgICAgICAgICAgICAgICAgICAgICAgICAgICAgICAgICAgICAgICAgICAgICAgICAgICAgICAgICAgICAgCiAgICAgICAgICAgICAgICAgICAgICAgICAgICAgICAgICAgICAgICAgICAgICAgICAgICAgICAgICAgICAgICAgICAgICAgICAgICAgICAgICAgICAgICAgICAgICAgICAgICAKICAgICAgICAgICAgICAgICAgICAgICAgICAgIDw/eHBhY2tldCBlbmQ9J3cnPz7/2wBDAAcFBQYFBAcGBQYIBwcIChELCgkJChUPEAwRGBUaGRgVGBcbHichGx0lHRcYIi4iJSgpKywrGiAvMy8qMicqKyr/2wBDAQcICAoJChQLCxQqHBgcKioqKioqKioqKioqKioqKioqKioqKioqKioqKioqKioqKioqKioqKioqKioqKioqKir/wAARCAEPA9IDASIAAhEBAxEB/8QAHwAAAQUBAQEBAQEAAAAAAAAAAAECAwQFBgcICQoL/8QAtRAAAgEDAwIEAwUFBAQAAAF9AQIDAAQRBRIhMUEGE1FhByJxFDKBkaEII0KxwRVS0fAkM2JyggkKFhcYGRolJicoKSo0NTY3ODk6Q0RFRkdISUpTVFVWV1hZWmNkZWZnaGlqc3R1dnd4eXqDhIWGh4iJipKTlJWWl5iZmqKjpKWmp6ipqrKztLW2t7i5usLDxMXGx8jJytLT1NXW19jZ2uHi4+Tl5ufo6erx8vP09fb3+Pn6/8QAHwEAAwEBAQEBAQEBAQAAAAAAAAECAwQFBgcICQoL/8QAtREAAgECBAQDBAcFBAQAAQJ3AAECAxEEBSExBhJBUQdhcRMiMoEIFEKRobHBCSMzUvAVYnLRChYkNOEl8RcYGRomJygpKjU2Nzg5OkNERUZHSElKU1RVVldYWVpjZGVmZ2hpanN0dXZ3eHl6goOEhYaHiImKkpOUlZaXmJmaoqOkpaanqKmqsrO0tba3uLm6wsPExcbHyMnK0tPU1dbX2Nna4uPk5ebn6Onq8vP09fb3+Pn6/9oADAMBAAIRAxEAPwD6RooooAKKK53VfFn9malLafYvN8vHz+bjOQD0x71jWrU6Meao7ImUlFXZ0VFc2njawKKZLe5VsfMFCkA/XPNO/wCE207/AJ43X/fC/wDxVY/XsN/OiPaw7nRUVylz44jGRZ2bNleGlYLhvoM5H4isufxfqs23y3igxnPlx53fXdmsZ5nhobO/oS68Ed/RXnEviTV5ozG96wB6lFVT+YANZ89xNcuHuZpJmAwGkYsQPTmuaecU18EW/wAP8yHiV0R6PPrul26BpL6EgnH7tt5/JcmqEvjLTI5CqLcSgdHRBg/mQf0rg6K455tXfwpIyeIn0Ozn8cWy7fs1nLJ13eYwTH0xnNZ03jXUH3iKK3jDZ2naSy+nOcE/h+Fc7RXPPMMTP7VvQh1qj6mv/wAJTrP/AD+f+Qk/wqvPruqXDhpL6YEDH7ttg/JcCqFFc7xFaSs5v72RzyfUfLNJPIZJ5GkdurOxJP4mmUUVi23qyAooopAFFFFABRRRQAUUUUAFFFFABRVpNMv5EV47G5ZWGVZYWII9elSRaJqc0gjSwuAT0LxlR+ZwK0VKo9ov7iuWXYo0VtweEdWlcrJFHAMZ3SSAg+3y5NT/APCE6j/z2tf++2/+JrdYPENX5GV7Kb6HO0V1cXgaQxgz3yo/dUiLAfiSP5VcTwTYBFElxcs2PmKlQCfpjito5biZfZt80UqFR9DiKK7n/hCdO/57XX/fa/8AxNPi8G6ZHIGdriUDqjuMH8gD+tWsrxHl95X1eZwdFekweHdJt3LR2UZJGP3hLj8mJFT/ANk6d/0D7X/vyv8AhWyyirbWSK+rS7nl9Feof2Tp3/QPtf8Avyv+FTwW8NshS2hjhUnJWNQoJ9eKtZPK+s/wH9Wfc8oqxFp17PGJILO4kRujJExB/ECvU6K0WTrrP8P+CV9WXVnl/wDZOo/9A+6/78t/hR/ZOo/9A+6/78t/hXqFFV/Y9P8AmY/qy7nnEXhvV5oxIlkwB6B2VT+RINP/AOEW1n/nz/8AIqf416JRVrKKHVv8P8h/Vodzg4vBupyRhna3iJ6o7nI/IEfrT/8AhCdR/wCe1r/323/xNdzRWiyvD+f3j+rwOG/4QnUf+e1r/wB9t/8AE1aTwMxRTJqAVsfMFhyAfrnmuvoqo5Zhlur/ADGqFPscj/wgv/UR/wDIH/2VOTwModTJqBZc/MFhwSPrniusoq/7Owv8v4v/ADH7Cn2Od/4QnTv+e11/32v/AMTT4vBumRyBna4lA6o7jB/IA/rW/RWiwWHX2EV7KHYyP+EW0b/nz/8AIr/41LB4d0m3ctHZRkkY/eEuPyYkVpUVosPRTuoL7kPkh2Kn9k6d/wBA+1/78r/hR/ZOnf8AQPtf+/K/4Vboq/ZU/wCVFcq7EcFvDbIUtoY4VJyVjUKCfXipKKKtJJWQwooopgFFFFABRRRQAUUUUAFFFFABRRRQAUUUUAFFFFABRRRQAUUUUAFFFFABRRRQAUUUUAFFFFABRRRQAUUUUAFFFFABRRRQAUUUUAFFFFABRRRQAUUUUAFFFFABRRRQAUUUUAFFFFABRRRQAUUUUAFFFFADJoknheGUbkkUqwzjIIwa8qmieCZ4ZRteNirDOcEHBr1ivMdZRk1y9DqVPnucEY4JJB/KvCziK5YSOTErRM9D0n/kC2X/AF7x/wDoIq3VTSf+QLZf9e8f/oIq3Xs0v4cfQ6Y7IKKKK0KCiiigArzvxT/yMt1/wD/0Ba9ErzvxT/yMt1/wD/0Ba8jN/wCAvX9Gc2J+AyKKKK+YOAKKKKACinxQyTyCOCNpHboqKST+Aq9B4f1W53eXYyjbjPmDZ+W7Ga0jTnP4U2NRb2RnUV0KeC9SZFYyWyEjJVnOR7cDFWIPA8zITc3scbZ4EaFxj6kiumOBxMtoGio1H0OWorvYPB2lxOWk86cYxtkfAHv8oBrRTRtNRFVbC2IUYG6IE/meTXXDKaz+JpGiw0up5jViLTr2eMSQWdxIjdGSJiD+IFemwWlta7vs1vFDuxu8tAufripq6I5P/NP8C1hu7PO/+EW1n/nz/wDIqf40qeFNYZ1U2oQE4LNKuB78HNeh0Vv/AGTQ7v8AD/Iv6tA4mLwRemQCe5t0TuybmI/Agfzqx/wgv/UR/wDIH/2VddRWyy3DLeN/myvYU+xy0HgeFXJub2SRccCNAhz9STU//CE6d/z2uv8Avtf/AImuiorRYDDJW5CvY010MWLwnpEcYV4GlI6u8jZP5ED9Kf8A8Ito3/Pn/wCRX/xrXorVYWgvsL7kV7OHYqf2Tp3/AED7X/vyv+FH9k6d/wBA+1/78r/hVuitPZU/5UVyrsQwWlta7vs1vFDuxu8tAufripqKKtJJWQ9gooopgFFFFABRRRQAUUUUAFFFFABRRRQAUUUUAFFFFABRRRQAUUUUAFFFFABRRRQAUUUUAFFFFABRRRQAUUUUAFFFFABRRRQAUUUUAFFFFABRRRQAUUUUAFFFFABRRRQAUUUUAFFFFABRRRQAUUUUAFFFFABRRRQAUUUUAFFFFABRRRQAUUUUAFFFFABRRRQAUUUUAFFFFABRRRQAUUUUAFFRwTw3MKzW0qTRN9142DKe3UVJQNpp2YUUUUCCiiigAooooAKKKKACuD8ZRJHrqsgwZIVZznqckfyArvK4bxt/yGof+vdf/Qmry80X+z/NHPiPgOu0n/kC2X/XvH/6CKt1U0n/AJAtl/17x/8AoIq3XoUv4cfQ2jsgooorQoKKKKACud8U6XZ/2bdah5P+lfJ+83H1VemcdK6KsjxT/wAi1df8A/8AQ1rlxcYyoT5leyf5GdRJwdzB8K6Zp2p2twt5bmSaJwd29gNpHA4PqDW9/wAIto3/AD5/+RX/AMayPAv/AC//APbP/wBmrrq5cDRpTw0ZSgm/RdzOjGLgm0ZH/CLaN/z5/wDkV/8AGrn9k6d/0D7X/vyv+FW6K7o0KUdor7kbKEVshERY0VI1CqowqqMAD0paKK2KCiiigAooooAKKKKACiiigAooooAKKKKACiiigAooooAKKKKACiiigAooooAKKKKACiiigAooooAKKKKACiiigAooooAKKKKACiiigAooooAKKKKACiiigAooooAKKKKACiiigAooooAKKKKACiiq1vqNleTSRWl5bzyRf6xIpVYp9QDxSuilGTTaWxZooopkjIpop0LwSJIoJUsjAjIOCOPQ0+uH+Fh8rSdbs24a01q5iI9OV/8Ar13FZ0588FI68Zh1hsRKine3UKKKK0OQKKKKACiiigAooooAKKKKACiiigAooooAKKKr3t/badCJbyTy0ZtoO0nnGe30pSkoq8nZCbS1ZYorI/4SnRv+fz/yE/8AhR/wlOjf8/n/AJCf/CsPrND+dfeifaQ7mvRVG21vTbzHkXkRJbaFY7WJ9gcE9avVtGcZq8XcpNPYKKKKoYUUVS1e4vrXSZ5tJsVv7xAPKtmlEQc5GfmPA4yfwpN2VyoRc5KK699PxeiLtFec6z4u8d6To9zqN54a0+yt4I9zPLeiQqegGFPJycUmkXHxSm0C3Yx6K7yxB1muSwlG45BYL8vAIGMduaw+sR5uVJ/cev8A2PVVP2kqkEr2+NP12utNL+p6PRUFj9q/s+3/ALR8r7X5S+f5Odm/Hzbc84znGaS91Gy02HzdRvLe0j/vzyqg/Mmt76XZ5PI3Lljq/IsUVHBcQ3Vuk9rLHNDINySRsGVh6gjg1nXPiPTYdBv9XguY7u2sVkMpgcN8yDJX0z0/OhySV2ONKpN8sU73t82atFUtF1OPWtDs9ThjaNLuFZVRuqgjODXJS/EW9uZ7yXw94YutX0uykMc19HcKm4r97YhBLge1RKrCKTb3OmjgcRWnKEI6x3u0kulrtpX7Lqd1RVHRNYtdf0W21TT2Y29ym5NwwRzgg+4II/Cs/wAcardaJ4J1LUdPlWK5t4w0bum4A7gOn403NKHP03MqeHqTrrD2tJvl16O9tTeoqppU811o9lcXIAmlt0eQKMAMVBP61n6F4lh8QahqsNpbyC3064+z/aSRtmcD5wv+7x9cinzLTzF7Co1NpaR3++35m3WB451M6P4F1e9RtrpbMiN6M3yqfzYVzVx4v8T66+p3ng2DT10jTNy/ab0OTduoywTb29PXjn0TxjqUvij4FXGpRReW9xbxTPGvIG2VS34DaT+Fc86ylCXL2Z6+GyypSxNF1rWc4pq+qu72fbT/AIInwbFxZ6Fqej3b7n0+9Kgf3Qyg4/PJ/GvRq8/+GdzHfax4pvLdlaCa8jMbL0I2cfoRWl4i8S6la+NtD8P6LbrK1ywuL1mGdluG2kjn6n8B60qM1Cir+n42KzLD1MTmVRRSTa5n0S91SZ1hdQ6oWUOwJCk8nHX+dVdT1aw0Wya71W7itIFON8rYBPoPU+wri9XeWX49aBCM+XBpssp/4F5in+S1l+JpNT1j4oTR2ehprsOh28eyykuUiRZJRu807uGwMDH0PanKu0nZdbEUMqjOcOeejhzvZW1aSu3bV21fc77RfFOieIt40XUobtoxl0QkMo9Spwce9a1cF4Y0DWZ/G7eI9Y0i00NI7I2sdpbSq5kJbO5ivH+RXe1rSlKUbyRw4+jRoVuSjK6suqdn2utH6oKKKK1OAKKKKACuG8bf8hqH/r3X/wBCau5rhvG3/Iah/wCvdf8A0Jq8zNP92fqjDEfAddpP/IFsv+veP/0EVbqvp0TwaXawyja8cKKwznBCgGrFehTTUEn2No7IKKKKsYUUUUAFZHin/kWrr/gH/oa1r1keKf8AkWrr/gH/AKGtc+J/gT9H+RFT4GYfgefbe3Vvtz5kYfdnptOMf+PfpXZ1wfg2VI9dZXODJCyoMdTkH+QNd5XJlcr4ZLs2Z4d+4FFFFembhRRRQAUUUUAFFFFABRRRQAUUUUAFFFFABRRRQAUUUUAFFFFABRRRQAUUUUAFFFFABRRRQAUUUUAFFFFABRRRQAUUUUAFFFFABRRRQAUUUUAFFFFABRRRQAUUUUAFFFFABRRRQAUUUUAFFYniPxdpXhaOH+0pJGmuDiG3gTfLJ6kL6e9TeHfEdh4n0s32ltIY1kaKRJU2vG4xlSPXkfnUe0jzct9TpeFrqj7dwfJ3toJ4n8QQ+F9Bl1W6hkmhhdFcR4yAzBc8+ma1gQQCDkHoRWD45sRqPgPWrYjJNnI6j1ZRuH6gVN4RvjqXgzSLtjuaWziLn/a2gN+oNTzP2nL5f1+hq6MHglWW/M0/Sya/9uL+o2MWqaZc2NyXENzE0TmNtrYIwcGvPZfD+meFfil4St/D9stqLmG6S5CsSZVWPILZ9xn6iu81zVotC0O61OeKWZLZNxjhXczc4AA+p69uteT+HPHejf2/P4n8ZXk0WpSKYLS0W2kKWsWegOOSe5/xwMMRKmpRT3018kz1soo4udCrOmm4WkuVXd5Si0tF2ve72t3PZ6K5DTviXoer6lBZ6XDqN007qgkSzbYuf4mJ6D3rr66YzjNXi7nh4jC18NJRrRcW+5w/g3/QviB4z048A3MN2g9fMQlj/Ku4riIf9E+OlynRb3RFkPuyy7f5A129Z0dItdm/zOzM/eqwqfzQg/8AyVJ/igooorc8sKKKKACiiigAooooAKKKKACiiigAooooAK8w8c+BJLi2e5uvFOvPHNdblt1uwsceQxwFxjivT653xt/yBYf+vhf/AEFq4scl7CT7GkcTVw8Jezdr+SPAPEnhW1sLvSbe0ur4vfXixSNLcFsJ/FxxzzXV6X4T03SLxbq0+0GVVKgyTsw59icVn+KDu8XeFoSPla4lfPfKquP511dfMVKs3CKu/wCmRisXiHhqSc37yd/P3mv0I4tc0vSNc08anfwWpaZGAlcDgMMmvSNP8V6Bqt4trpusWd1cMCViimDMQOTgV5ZqEQN1YTp4eh12WK5TEEmwFVJySCwPoBgda6S28VRWVwGsPhpq0F2BtV49OVACe3mAcD3r1MsqckHr1/rY7MtwMMRh3KEW5f4opX809bHo1FR20kktrFJNCYJHQM8TEEoSOVyODjpUlfQHG1Z2CiiigRxHxXPmeFbOyIJS+1O3t3A7gtu/9lFduBgYHArlfiHo19rHhlDpMfm3ljdRXkUWceYUJ+UH1wTV7w14lPiKOffpGpaXJblVdL6DywxOfunPzYxz06isE7Vmn1tb8T1qkHUy6nKG0XLm8r8tnbz/AELOvaFbeItN+w3k1zDFvDk20xjY47EjqOeleJWui6fYfEj/AEm1W70hNWGk/Z7tjIVLL8r5PuCa+gK52bwJoFx4qXxBLasb5XWT/WEIZFGFfb0yKzxFD2jUlumdWU5r9ThUpVG+WUWlbu/mrevQy/iLL/YPw6ks9FRLJJ5I7NDEu1YUdvmIA9sj8areObOw8MfCefR9KiWPzxHa28S43TOzDJ92IyTXaappVjremy2Gq263NrLjfG2RnByORyD7iuf0r4a+GdH1KK+tbKR5oDmHzp3kWI+qgnFOpSm5PltqregsHjsPTpQ9q5c0JudkrqT0td3VrWfR7u2pmeCPEVnqHhKHw1FMbPXbSza2ktZUZXjdF27umPQ1w/hq91jSNOHh6XxZF4fuItyvY6nYKqrknLJL0YHOece3rXuQtoFuGuFhjEzDBkCjcR6Z61X1HSNO1eHytUsbe8jHRZ4g+PpnpUyw8mlrqtOq0+TNKObUKc6i9n7s2pO/LJqWu3NG1tdt/MyvBsWkaR4fs9D0vVbW+a1jOTFKpZiSWZtoJwMk0z4h6Zc6x8P9WsrGMy3DxBkRRkttYNge+Fq1pfg7w9ot8LzS9Jt7a4VSokReQD1rarZQbp8ktOmh5tTFRhjFiqTcmmpe8kru9+jPOpvippDeGVh0Vp59ckhEMFgtu/mJNtxg8YwD157V0XhXw02h+BYNId9t08LGeQHJ81wSxz3wTj8BW+IIRMZhEglIwX2jcR9akojTlfmm79Cq+MpOn7LDwcU3zO7u21t0Wiu/vPGLnwX47fwxZ+G7eKG0tbHzP9Ktr4qtwGJJ3oBluvH1rQ8I+P8Aw3ovw5tNK1m4aW+hjkgl0/7M5diXb93jGOQQOT9a9XqIWtuLg3Agi848GTYNx/HrWKwzhLmg+ltddPwPQqZ1HE0nSxVPTm5vdfK+bW921Le/S1uh5d4Q8EeLNK0Q3ejavHoj30jTPps9qJViBPy/MckHbjj8+a3rrwPrOpCz1G68SG18QWqvF9utbYbHiJyFZCRnHPPHXpXcUVccNCMeXX72ctbOsVVqur7qb68sb22s21dq2mt/M4AfC1rq6bUdX8T6pcaxwsd/bMLcxoARtVRnAOTnn+uUufB2veH76LXPDGovqmoiLyb2DUXH+moDlfm4wwGACewHuD6BRT+r0+mhP9sYxv32pLazStbtZJWXkra6rU4mL4izxSRwat4P8QWs7sFPlWwmjHOPvgjI+grtqKK1hGS+J3OLEVaNSzpU+Tvq3+f+bCiiirOUKKKKACuG8bf8hqH/AK91/wDQmrua4bxt/wAhqH/r3X/0Jq8zNP8Adn6owxHwHa2863NrFPGCFlQOobqARmpKz9CnW40GzdAQBEE59V+U/qK0K9CnLngpd0bRd0mFFFFWMKKKKACqmrf8gW9/695P/QTVuoL6BrnT7iCMgNLEyKW6AkEVFRNwaXYT2OC8Lf8AIy2v/A//AEBq9ErzPQp2t9es3QAkyhOfRvlP6GvTK8rKGvYyXn+iOfDfCwooor2DpCiiigAooooAKKKKACiiigAooooAKKKKACiiigAooooAKKKKACiiigAooooAKKKKACiiigAooooAKKKKACiiigAooooAKKKKACiiigAooooArXWo2Vj/AMft5b2/Gf30qpx68ms+bxj4at8+d4g0xSOq/a4yfyzmoNY8D6Br+sxanq1gtzcRxeUAzHay5yMjuRk/nXG6d4P8PT/FzVLFtItWs7OwiZICnyB2IOSO5x61zVJ1YtJJaux7WEw2Aq05SnKd4x5nZLulZa+Z6Rp2p2WrWYutMuoruAkqJIXDLkdRkVaqG0s7awtlt7G2htoE+7FDGEVfoBxU1dCvbU8ifJzPk26X3CiiimQFFFFABRTJZooE3zyJGuQu52AGScAc+9PoHZ2uFFFFAjxnQdY1SfxTr2oaf4ZvNV1o381tbXV022GziB4jJJwCvOQMcHGea9F8FeHJ/DeizRX9wlxfXl1JeXTxjCeY+MhfbgVkfDs7NV8YQHOV1yaTB/2v/wBVdxXHh6eim33Pos5xjdSWHhFKNo923ZKy12SvsrDJ4lnt5IX5WRSrfQjFcd8JZmf4b2EUhy9vJNC3tiRv6EV2lcR8KcDwve46f2pcYx/vCtZfxY+j/Q4aOuX1l2lB/hNfqdvRRRW55YUUUUAcPe8/HPTdvVdGkLcdvMOP1ruK4Xw9INb+K+v6tF89vp9ummRSdi2dzgfRhj8a7qsKOqk+7f8AkepmXuypU3vGEb/P3v1CiiitzywooooAKKKKACiiigAooooAKKKKACiiigAqlqmlw6tarBctIqq4cGMgHOCO4PrV2iplGM48sloJpNWZ5z4t+GL6g2nX/h+5Uahp8rOi3jfu3VhhhlVyDwP/AK1bC+B98EJa88qXy181dm8B8c4PHHpxXXUVySwGHlvEubVSlGlKKtG9u+utvS5xtj4Qv7bULeeSa2KxSq7BWbJAIP8AdrsqKK1oYanh01DqZQgoLQKKKK6CwooooAKKKKACiiigAooooAKKKKACiiigAooooAKKKKACiiigAooooAKKKKACiiigAooooAK4bxt/yGof+vdf/Qmrua4rxvAy6hbTkja8RQDvlTk/+hCvMzRN4Z+qMMR8BveFv+Ratf8Agf8A6G1a9ZHhb/kWrX/gf/obVr114b+BD0X5GlP4EFFFFdBYUUUUAFFFFAHlNpP9lvYLjbv8qRX25xnBzivVq8s1GJINUuoYhtSOZ1UZzgBiBXqdeHlN17SL6W/U5MNpdBRRRXuHWFFFFABRRRQAUUUUAFFFFABRRRQAUUUUAFFFFABRRRQAUUUUAFFFFABRRRQAUUUUAFFFFABRRRQBzfjHX7vRF0eLTRGbjUdThtSJFyAjE7j+g/OukriPFH+m/FDwhYfwQ/aLuQfRML+ort6yg25y8v8AI9DFU4U8PQstZJt/+BNL8vxCiiuQ8S+NZLbUDoPha2/tTXXHMa/6u1H96Rugx6fy4zU5xgrs58PhquJnyU169ku7fRHSf2pYnV/7LFzH9u8nzzBn5gmcbvzq3XNeEvCR0H7Rf6ndNqGtX2Gu7xh/44g7KP6duAOlog5NXkrDxMKMKnLRlzJde7628u19QrkfiJq15Z6La6Zo8zQ6nrF0lpbyISGjBPzOCOmBxntnNddXEa0Rd/GTw7bPytnZXF0F9C3yZ/SorN8ll1svvOnLIxeI55K6gpSt/hTa/Gx2kMZit442dpCihS7dWwOp96fRWH411eTQvBWqajA22aGAiNv7rt8qn8yK0lJRi2+hx0acq9WNOO8ml82zcorhNXa/8N/BNmt7yYX1vZRk3Bclw7Mu7k/7xArstOmNzpdpOzbjLCjlvXKg5qY1Lvl62ubVsK6dP2qd48zj91tfncs1zmm6Dd2nxA1nWpGjNrfW8EcQDfMCgwciugWaJpmhWRDKgBZAw3KD0JFPqnFSafYyp1p0VOK+0rP0un+iCio7hZXtpVtpFjmZCI3ZdwVscEjvz2riRp3xMAx/beiH3Nu3P/jtTObj0bNMPho1026kY2/mv+iZ3VFczoFp4zh1Lf4j1LTLmz2EeXbQsr7uxycV01VGXMr2sZ16Koz5VJS81e34pBXDa/qKx/FzQLa8u/stpBZzXA3y7ElkbKbTzgkAZxXc1n6voGla9EkesafBeLGcp5qZK/Q9RU1IuUbLyNsFXp0ardROzTWm6umrq/qed/FrxVpktlp2kWN1FdXDXsc0vkuHESKe5HQkkYFeqV5x8RfC2jaJ8M9Vk0bTbazkUwsXijAY4lTjPXHPSvQ7eXzraKXGN6BsfUVjS5lVlzdl+p3450JYCh7BOylNa7t2g76bb2+RWstItNPvr67tldZb6QST7pCwLBccA8Dj0q7XI+A9XvdXuPEjXs7TR2+sTQW4boka4AUV11bU5KUbxPOxlKpRrOnVd2rfkrfctCKG0t7eWaS3t4onnbfKyIFMjYxliOpx3NS0VQ1qfUrbSZZdDs4729BHlwyy+Wp5559hVuyVzCKlUmo31emr/VlLxd4kg8L+H5b2T57h/wB3awAZaaU/dUD69faoPAWhTeHfBtnZXn/H2waa45z87ncR+GQPwqhofhTUrvXl8ReNJobi/iGLOzgyYbMeoz95vf8AU8Y7KsYKUpc8tOx6GInToUPqtJ8zbTk1tdXsl5K716t9kgooqvqF5/Z+nz3f2ee58lC/k20e+R/ZV7mt27K55sYuTUVuyxXH+MvFM8E0fhzw0yzeIL75UCnItUPWR/TA5H5/WpLr/jLxIv2bw/oMmhRPw9/qmA6D/Zi65+uR9K3PC3hCx8LW0nks91fXB3XV9PzLO3Xk9h7fzPNc7lKr7sNF3/yPXp0KWB/e4lqUltBNPXvJrRLy3fkix4Y8O2vhbw/BplmS4jy0krfelkP3mP1/lgVr0UVvGKirI8qrVnWm6lR3b1bCiiimZhRRRQAUUUUAFFFFABRRRQAUUUUAFFFFABRRRQAUUUUAFFFFABRRRQAUUUUAFFFFABRRRQAUUUUAFFFFABRRRQAUUUUAFFFFABRWJ4x8Qt4W8J3msJAtw9vs2xM20MWdV6/8Cz+FbEMnnQRyYxvUNj0yKnmXNy9TV0ZqkqzXuttfNWb/ADQ+iiiqMgoqqupWT6o+mpcxNexxCV4A3zKhOMkelc/4g8aTadrY0bQtGm1vUhF50sUUojWFD0LMQcE+lRKpGKu2dNHC1q8+SEdbX10Vu93ZJeZ1VVNR1Wx0iGKXUrlLdJplgjZ8/M7HAFQR63bQwWa6zNbaZfXSAizmuU3Bj1UHjdg8ZFcB8eJHj8J6bsYr/p4bg9wj4P61nVq8lNzXQ68vwDxWMp4epopO1/8ALoz1Gishdcjg8GJrt180a2Au3C/xfJuwPrWD4d+IK6r8PbzxNf2Rh+xtIJIomzv2gEbSfXcB9c1TqwTs30uYxwGInBzjG6UlH5vZHa1yPjr/AJcP+2n/ALLWvc+JtPsvCieIL52gs3t0nAYfNhgCFx3bkDFcNrnjw6p/Z1hd6DqOmi/lZ7SW6VQJAqEnjORwR+YrjzCUXh5Rvra/4mE8BialCc4x0je+3TV+tlvY7nwt/wAi1a/8D/8AQ2rXrm/Bd4ZtMltWJJt3yvAwFbnH5hvzrpK3wclLDwa7floclN3ggooorqNAooooAKKKKAPNfEEH2bxBeJu3Zk35xj73zY/XFejW863NrFPGCFlQOobqARmvP/FP/Iy3X/AP/QFrudJ/5Atl/wBe8f8A6CK8TL/dxNWK2v8Aqzlo6Tki3RRRXtnUFFFFABRXJ+IPGF9Za+uheHNFbWNSEH2iZTOsKRJnAyzdT7fSqD/EDVdFaJvGXhW40u1kcIbuG5S4RCTxuC9B+dYuvBOz/J2+/Y9KnleKqQUopa6pc0eZryjfm9NNTu6KKK2PNCiiigAooooAKKKKACiiigAooooAKKKKACiiigAooooAKKKKACiiigAooooA4aH/AE346XDHldP0ZYx7M8mf5E13NcR4aHm/FrxnKf8AlklnGPYGLP8ASu3rCjs35v8AOx6mZ6VKcO0IfjFS/U57xtD4iuPDUkHhFo0vpHCs7uFZY8HO0ngN0Gfr3xXI+HL3VPBWnG0f4f6gCTunubW5S6knb+82BknrxXo+o3Mllpd1dQwPcyQQvIkCfekIUkKPc4xXjVt4j07xQrTeOvGU9ipY7tHs4pIUjH91225b/PNYV2ozUk9flb8f0PVymM6+FnSlTTpp3dlNyb6aRetunNou9zv9E+Jnh7W9VTTEa6s7+Riq213blG3YzjjIB+prrq840PXvhZ4fkVtHuLGCboJmikaTn/bYEj866rS/Gnh/W9UGn6Tqcd1c+WZdsYJG0EA84x36VrSq3VpyTfkcGYYFxm54ehUjBLXmX47aL5v1N2uHvRt+OmmsSAG0Z1HuRITXcVynjPw9f301hrnh1kXWdKZmhSQ4W4Rhhoye2ex+vTORdZNxuujTOfLZwjWcJuylGUbvZNrS/lffsdXXNfEPSLvXvAOp6dpyeZcyqjImcbtsivge5C1lL8VdPtUEevaRq2mXg4eGS1LDP+yw+8PfAq5qPji4tZdOurDw9qeqaVe2xl86zt2eRHzwpQ4wMdz68dKiVWlODjf+mb0MBjsNiIVVDVO6vazcdd72e3R6nJeM/EOv+JfBV5p9p4Y1DTYIofNvrm/Xy1VIxvKpn72So5H5c5HoPhm6VPAekXVwwRBpsMkjHsPKBJrmLyLxX4+jNlNZN4b0KTiczMGurhf7oX+AHvn9elJ4k8ZaboFhqnhi7sLqyEdn9m05ljZ0uQYsKFIHGD8vJrGMuSTqSelra6HqVqP1mjDB0YLmUnJqL5rJ2Tu7u78leyWvU3vCN/pPiW3fxRp1gbe4vAYJJJPvsqMQAcHH+faukrgfhMb2y8LxaPfaLfWDWytI1xcx7FlZnJwB14BFd9XTQlzU03v+p4maU1RxlSnF3inZa393pr6BRRRWx5oUUUUAFYnia38Rz29sfCl5Z20ySZmF4hKyJjpkAkc8/wBfXboqZR5lY1o1HSmppJ26NXX3HCSeB9d1+SIeNPEYu7JGDtp9nAIo5CDkBm6kZ7Y/KtbxL4f1zVL62n0HxLLo6xxmKWJYBIrgn7wBI+btn8sV0tFZ+xhZrv5u/wB52PMsQ5xlp7t7Lljyq+/u2tr3tc5Pwz8PNO8L3kd3ZXuoST7SJg9wfLnYjl2Tuea6yiirhCMFaKsc2IxNbEz9pWlzPuFFFFWc4UUUUAFFFFABRRRQAUUUUAFFFFABRSMwVSzEAAZJJ6VUm1jTLfP2jUbSLHJ3zquPzNJtLcqMJS+FXLlFZEni7w5CcS+INLQ4zhryMHH51nXXxK8H2alpdetmA/55bpf0UGodWmt5I6YYHFVHaFKT9E/8jqKKzdC8Q6X4l09r3RLr7TbrIYy/lsmGABIwwB7itKrTUldHPUpzpScKiaa3T0YUUUUyAooooAKKKKACiiigDzv/AISnWf8An8/8hJ/hXRaV4ps/7Ni/tO8/0rnf+6PqcdBjpiuGrA8PeK4fEV/qFvb2skYs32+YxBDgkgH2PB4r5CjjMRTbmnf1u1+ZxUlXlGVSOqjv5XPY/wDhKdG/5/P/ACE/+FXLLVbLUc/Y7hZCvVeQ31wecc9a8H1DxxbQXE8Wl2VxqgtFLXUtuP3cIGf4u54P+PBx6J8PbuG/vRd2rb4ZrTejeoLLXp0MfXnVjGcVZ/13OlxxFPldSNk/6+XzO/ooor3DQKKKKACiivJdK0DT/GXjzxefFbT3dvplwqwRPcuqRKd+TwRjhB+tZVKjg0krtnoYPCQrxqVKkuWMEm7K71aSsrrq+561RXn3gO81s/Ce2m0mKO+uxJIlst5KVBjEhAyevABwPaqniHxp438J6Wb/AFzSNIaCU+VGbed8xyEHG4H7w46D86j6xFQU2na1zpWUVp4iWHpyi5KTik2k3byZ6WzBFLOQqgZJJwAKgtL+zv0Z7C7guVU7WaGQOAfQ4rxrxppWo6bY6TPrGs6nrNxrE4W7is5D5Zg4ZkijHHPr0OOgrq/hto5g1rW9Xs9Jn0bSrwQx2lncKUchF+ZyuTjJP6mojiJSqcnKdFbKaVLBvE+1v20sm00mtXfu1psmehVwvhfUrm/+Kvi2OS4ke3tlgjiiLEqmAQcDoOQfzqLWUufGPxAn8NtfXFlpOmWyTXSWz7HuZH5VS390Aj9fYjivAmsWngvxlrM2ovLFol3cTWkF7JmT54WyoYgf3W61FSt+8j0V9/wOnBZZ/slaz5qkoJqNujakte7SvZLY9tmntTMtnPNGJbhG2Qs4DOo+9gdTjPOOmajtrex0PSYraHZa2VrGETfJwijgDcx/ma4m/vbW8+MHhi6huEaCXTZZIZN2FkDZ24z1JzTJtOj8efETU7TWGeTR9BEaR2Ycqs0zrku2OuMEfl7519rd6K7vZfdc4I5fyxXtJtQ5eeWn95xSSurvZa7XZ39tdQXkCzWk8c8TdJInDKfxFYK+IrqX4kv4fhhiNnDpwuZpTneJC+AOuMY9u9alnpVtoukvaaDaQWyqGaKLkJvPrjnr1ryyz8O6vrnxS1C08UaxLZXT2Ec7rpEhiWRNwATJGSoPX3oqznHlSWrYZfhcPWdaUpWjGLtffda2XZee56F4p8baN4PihbWJn8yfPlwwpudgOpx0A+pqew8VaVf+F4/EBn+y6c6lvMuRs24Yrz+I/GvP9a+GSaN4itNU0fQv+EisxEUuLK6vMPvzkSZY4bjjbyOOnOQnie48R+JtHs9Js/A9zYLb3cUsYeRDDhcjawAHy8/pWTrVYuXMvRWb/E74ZZga1OkqM73fvScoRstdOVu9/P8AMb8UPHfh7WvAtxYaPqcd1cSzR5jVWBwGyTyB6V6pp7rJpts6EMrQoQR3GBXmmoeH9d8bX2m6frfhO30SxtpfNuriK5jfzQFICqFGR1966fwANWsdKn0LXLaVZNJcQwXZU+Xcw87GU98AYI7cUUZTdVuS302a29fUnMKOHjgIU6Mveg3JrmjLSVle8dH8K03V0dZRRRXcfLnA+HLqG28e+PNTvmVEtzbhnb+BFjYn8OB+VWfhray3Vhf+J75Ct1rtwZwp6pCuRGv5Z/Aiptb+HGma3rdxqE17qFul4I/ttrbzbIrrZ93cMf59jzXWRRRwQpDCixxxqFRFGAoAwAK5adOSl72yv+L/AMj3sZjaEqNqLfNNQT02UIpW87yV/kj5/wBXltNU0zUtb1GS3k1WTVSJvNuVEtlbxt8qRxEgsTgjj/E16L8ULS08RfC19QEvlLCkd9Az8ZyOFPuQ+PriumvvCPh7Url7i/0WxnnkHzyPAu5vcnHX3rDj+FPhdJI90N1LBG+9bWW6doh6DaT0rH6vUSlHR3/q56TzjCVJ0arcoOm7pJJq2nurVW2stNul735aTxYJvhlF4bu9C1q1vJNNjtYpGsi0chCBQwI5wcenfvVNn1W0+HE/g6w8F6zFeSrtlmKb4S24FmD9OccD6da9pAAAAGAOgFFaPDN7y6W26HFHOqcNIUdObn+J/F07aeTv8jw/xB4t0HWdH8M6VMtz9m02WM6pYvA6vGiJtJOByBz0Oea0jonw+htoNQ8JS28135uFH2lmdAVbPyMcj6kV6hfa3pOnTpb6lqdlaSyLuWK4uERmHTIBPI4NcD498O+CtW0uOYW+mmZpwTLayKjHKtyShGe3WuTFUkqUpSaenbVemo8RmEauEdJRqU4u+zund3d1aN/v201L/g+6aHXBCMlbhCpG7ABA3A479CPxrva8b8P/AGPRls4bKb7Qlq4dVebczYbdya9kqcpqc1KUOz/M+Uo2V4roFFFFeybhRRRQAUUUUAcN42/5DUP/AF7r/wChNXXaT/yBbL/r3j/9BFcj42/5DUP/AF7r/wChNXXaT/yBbL/r3j/9BFeRhf8AfKpzU/4si3RRRXrnSFFFFAHE+ItJ1rSPFn/CWeGrZNRaS3Fve6ezbWkQHIZG9eOn881oaF4y0TxU7WLI1vfxkGXTr6LZKhHOdp6468dPaqsfxL0QeKNS0fUJF04WBC+fdyBBK2eQoPb371g/ELXPB2q6DJeWusWh1mzHmWE9rJumEgOQuV7E8c8d64pVIwvKEl5r/I+np4WviHToYmjJSslGaT0T25ls0vk0u9rHY+LfEo8M6XFLFateXt3MttaWyHHmyt0BPYcVT0C/8ZvrHkeJtK0+OzkiLpPZSk+UwIwjBick56iqXiDSNZ1/w34f1eyWNdb07yr37LN8qyOUG9D6HPT+nWmxfFPSbT914os77QbteHjuLd3Un/ZZQdw98CqdS07zdl07GFPCuWF5MPTVSeqlu5LXSyT263s9dGdxXn6fFm0NzcSyaLqC6Pb3H2d9TVQyK2cZIHQe+T1HGeK6WXUI/E/gy7ufDF0spu7aVLWbBT58FR1AIw1efW9r4vPgJfB1t4LFoskPkPeyX6FAScvIVA7nJ4J/GitUkrcnbte/YeW4OhJTWJSupJNOSg4rXmlq1dra1n5ov/FHw/rWqyW+uaJMZbW0s3bEd0YjEwO8Sr2bgfpV3wN471bW9RstL1vSkt3uNOF5FdLOG89QQu7aB8uTnjPGOlRzeGPH0ujnQf7a0g6Y8H2Zp/IcTiLG0gDGD8vHX8atnwrqmk+NtCvdDit5dNs9NTTpvPkKuqBslgAOTjH456VlyzVT2kU1e1zvlUw0sF9UqyhJxUuRq6a0urvRXb6W9SlfeLNY1rWb6PRdY0zQdKsJmtvtl8FZrmVR84UMcbRkfmD3wNr4c69qXiHw7cXOqyQ3DRXkkENzCmxZ0XGHx7kn8q5zUvhTfNev/ZupWMtibh7iK31CyEhhZyCwDdSDgfl+Na1r4S8VytbW9/4mistOtypFtpFqICwB+7u/hHsOPanD2yneSf6fmRiVls8KqdGcVtrZ8ytv9m7b63dl00O5ooorvPkgrxrU/F19ouuX9gPiFGrR3D7lutIdvLP9wEKeB7cd+9ey0VjVpuaXK7ff+jR6WAxlPCyl7SHOn093/wBujL8LHmHg3xXqWt+JoLUeM7DU0Cs8tsmmSRMygdmKqAckd69Poop0oOEbN3/rzbM8diaeJqKdOHIrbaf+2xivwCiiitThCiiigAooooAKKKKACiiigDh9EP2D4yeJbWT5f7RtLa7iB/iCDYf1JruK4/xzouoPNYeJPD0fmarpLE+R/wA/MJ+/H9cZx9T3xWj4X8ZaV4sik/s5pUubdV+0200TK0JOeCSMHoehrnpyUJOm+91531PYxdOWJowxdNXSioy/uuKUVfyaSs+90b9QT2NpdEG6tYZiOhkjDY/Op6K6NzyFJxd0Uv7G0v8A6Btp/wB+F/wp9npdhp5Y2FjbWpbhjDCqZ+uBVqilyrsW6tRqzk7eoUUUUzMKKKKACiiigAooooAKKKKACiiigAooooAKKKCQqkscAckntQAUVmXfiTQ7DP23WLCAjqJLlFP5E1i3fxS8G2eRJrcUhHaGN5M/ioIrOVWnHeSOulgcVW/h0pP0TZ1tFcN/wtKyueNH0DXtSJ6GCyO38yf6Uf8ACW+M73/kGeBZIlPSS9vkjx9VwD+tR9Yp9NfRNnT/AGTi18aUf8Uox/No7miuG2/E2+6v4f0tP9kSSuPzyDR/whviy951fx3dqD1jsLZYMewYHP6Ue1k9ov8ABB9QpR/iV4L05pfkmvxO5JABJOAOpNZN74q0DTs/btasIGH8L3KbvyzmudHwn0Odg2sXmrau2ct9tvWbJ/4Ditay+H/hPT8fZ9AsiR0Msfmkfi+aL1nskvn/AMAPZ5dD4qkpekUl97k/yM6f4r+EYpPKt9QkvJf+edtbSOT9DgA/nUX/AAse4uh/xJ/B2v3Y7PLbCJD/AMCJNdnb2sFpH5drBHCn92NAo/IVLRy1XvL7l/ncPb4CHw0W/wDFP/5FR/M4c6/8QL3/AI8vCFnYqejXt+r/AKLg0n9n/Eu95n1nRdMB7Wls0pH/AH2K7mij2Le8n+X5WD+0FH+HRgvk5f8ApTkcN/whHiafm/8AH2oN6i2tlh/kaUfC61lwdR8SeIr09xLfnB/TP613FFH1en1X4sP7Wxi+GSXpGK/JI4hfhD4RLA3FncXJH/Pa7k/oRVuH4X+DIMbNChOBj55Hf+bGusopqhSX2V9xMs1zCW9ef/gT/wAzn4vAXhSHbs8PaedvTfbq38+tX4PDui2uPsuj2EOOnl2qL/IVo0VapwWyOaeLxE/jqN/NjURI1CxqqKOgUYFOooqzmCiiigAooooAKKKKACiiigDyKQMY2EeN+Dtz0zXjWgazp2j+DdWtJ8tql3L5awHcnygAAlhgDBLHGe3vXt19AttqFxBGSVilZFLdSASK4PwHptlqPg+GTUbG2uZDNIS00KvzuPqK+LptU1Lm7r9TXLq1Ohh6rqptc0Nnbbmf3aFW11nStF8IroGlzf2rqLQshSyUuGd85O7GMAnGeuMV6b8JLGbTLO2s7riaKxw4znadynH4ZxWVa2NpYpssrWG3T+7FGEH6V1Pgn/kNTf8AXu3/AKEtb4WopYiCXe5zVMXGrLlgnrLmbb1b+Vklq/8AM7eRS8bKrlCwIDLjK+/NcPL4LvYC0l/4/wBZjB5z56xgf0ruqwtb8FeHvEWoRX2tact1cRJ5aM0jgBck4wCAeSeor6irDmWi19WvyPUwOK9hJqUrRe9oxk//ACa35lfwhrNhcRy6Pb6+2u3diMzXWzghicDcPlYjpwTXS1V07TLHSLQWul2kNpAvIjhQKM+vHU+9WqqCaikznxVSnUrSnTTs+9v0SS9FsFeR2ug6r4h8W+LNJtL+Ox02TUFbUWUHz5EK5VEPQA85z+vIr1yuf0bw7NpfjDX9VM8bW2qmBkiAO5GRCGz25JzWdanzuPa+v3M7suxf1WFaSa5nFct1fVSj+KV2vQ2bGxt9NsILKxiWG3gQJGi9ABWH468Kf8Jl4abTFufssglWWOQpuGRkYI+hNdHRWkoRlHlexw0cTVo1lXg/eTvfzOX1jwWNT8O6VY2+oy2l9pAjNpfKgJV0ULkr3BxyM1n/AGP4mxMI01Pw9cRjjzZYpFdvcqoxXcUVDoxburr0Z008xrRjyTUZLV+9FO197dflscDH8PLnW7iW+8ZXkZ1EhUjudJZoG2Ds2eDz7fj6dVpPhvS9F0OLSbO1VrSMk7ZRvLsTks2epzWpRTjRhB3S1Jr5hia8VCcvdWyWiVuyKk+k6fc3FrPcWNvJLZnNu7RgmH/dPboOnpXO6v4E+2a1cavout3+i3t0FFwbZgY5dowCUPfHvXW0VUqcZLVGVHGV6DvTl0t3Vt7Wd1vr6nG23gK8+3wXGq+LdZv44XWQQeb5aMynIyB29q6QaLpy682si2X+0Gh8gz5Odmc4xnHXvjNXqKUacI7IqtjcRWd5S6W0stO1lYKKKK0OMKKKKACiiigAooooAKKKKACiiigDN1Xw5o2uMravplreOq7VeWIFlHoD1Fcvrvwt8IS6LeNHo0MTiMvuV37c4xu4zjHtXdUVlUowmndanVDGYqnD2cKkkuybX6nhOm+DtB0i+S80+wEVwgIVzK7YyMHgkjoa9u06V59LtZZTueSFGY4xklQTXmd7atZX01s+SYnK5K43Dsce45ruPCE/neH1TbjyZGTOfvfxZ/8AHsfhXhZXUkq8oTetvyPMhXq1ajdWTb83c3KKKK+iOkKKKKACiiigDhvG3/Iah/691/8AQmrrtJ/5Atl/17x/+giuR8bf8hqH/r3X/wBCauu0n/kC2X/XvH/6CK8jC/75VOan/FkW6KKK9c6QooooAp3uj6ZqX/IR060u+Mfv4Ff+YqC18NaFYzCay0XTraVTkPDaIjA/UCtOip5Y3vY2Veqo8ik7drhTXRJFKyKrqeoYZFOoqjERVVFCooVR0AGAKWiigAooooAKKKKACiiigAooooAKKKKACiiigArm/DXiC71jxB4is7hY1h027WGDYCGI285555H610lcR4E48VeMwRhv7TB6dtvFYzbU4pf1oehhqcJYavKS1SVvL3kjt6KKK2PPCiuHfw54/MjFPHUIXPA/sqLgUp8Da9esf7b8danMh6rZRJa5Hp8uaw9pN7Qf4f5nqfUsOtZYmPyU2/xil+J29FIi7I1XJbaMZY5Jpa3PLCisnxD4et/EljHbXN1eWvlyeYktnMY3U4I68+vpXOH4c3kPFl428RRr2WW68zA/SspSmnpG/wAzuo0MNUhepV5X25W/xX+R3NFcMPh7qjZE3jrXypHISbafzpf+FYQSc3ninxNcnGGD6hw3/juf1qeep/J+KNvquCW+I+6Mv1sdxUE19aW+ftF1DFg4O+QLj8647/hUfhqT/j7bUbvjB8+8Y5/LFTxfCfwVCONFVjjBL3ErZ/NqOas/sr7/APgB7LLo71Zv0gv1n+h0Mmv6NFjzdWsUz03XKDP61Xfxf4bjYrJ4h0pWHUNexgj/AMerPT4a+D412roNqR/tbifzJqwPAXhQDH/CPaf/AN+Fo/fdl+IWy1fam/lFfqyf/hMvDH/Qx6T/AOB0X/xVNfxp4XRSx8R6UQPS9jJ/IGov+ED8Kf8AQvad/wCA61MvgzwuqhR4c0nA9bKM/wBKP33l+If8JvTn/wDJSH/hPPCn/Qw6d/4ELQfHvhQD/kYdP/8AAhan/wCEN8Mf9C5pP/gDF/8AE0+Pwp4diBEWg6YgPXbZxjP6UfvvL8Qby3op/fH/ACM//hY/hD/oP2n/AH0f8Kjf4neDY2w2vW5P+yrt/IVr/wDCNaF/0BdO/wDARP8ACpk0XS4tvl6bZpt+7tgUY/Si1buvuf8AmHNlv8s//Ao//InMP8XfBKA41kuR2W1m5/8AHMVH/wALc8LyKDaNfXZOcCGzcnPpyBXaR28MTbooo0OMZVQKko5a38y+7/gh7XLltRm/Wa/SBw//AAswT/8AIO8JeJLr0b7DtU+nOTR/wmfiu540/wAA3hJ6G5vEhx+BH9a7iij2dR7z/Bf8EPreEj8OHT9ZSf5OJw/9ofEu6/1Gi6JYA/8AP1cNJj/vg/5xR/ZHxHu/+PjxNpdgD1+yWXm4/wC+xXcUUexvvJ/f/lYP7Sa+ClBf9u3/APSuY4b/AIQHWrn/AJCnjvWZQeotMW+fyJpV+Enh2Qg6lLqepnOT9rvWOf8AvnFdxRR9XpdVf11/MP7Xxq+GfL/hSj/6SkczafDnwhZY8nQLRsf89lMv/oZNbVppGm2GPsOn2ttjp5MKpj8hVyitI04R2Vjkq4vEVv4lRy9W2FFFFWcwUUUUAFFFFABRRRQAUUVWn1Gztby2tLi5jiuLssII2bDSbRlseuBSuluVGMpO0Vcs1z3inQNR8QvY29prNxpdiju159kcpNKMfKFbsOuc+vtXQ1yni/xVPp80Oh+HYxd6/fDEMfVbde8r+gHbPXFZ1XFQ97Y7MBGtLEL2FubXV2stNW76K29+hT+HMt1FdeItLnv7m/t9Nv8AybeW6l8yQDHILfhXb1zfhvTdN8GaCLS51KEzs7TXdzPKFMsrcsxyf8gVt2GpWWq2oudMu4buAkqJIXDrkdRkUqPuwUXuaZjJVsROtTXu6K9rJ6Wv87XLNFFFbHmhRRRQAUUUUAFFFFABRRRQAUUUUAcB4h0O8tLie+cK8EszNlCTsycjdxx1/wA8V5xptjq/h3XZrWzs/tukXtwZhIJQrWpb72Qeo9h/Ovoaquo6fDqdm1tc52kghlxuUjuMjj0/E141XLE3KVN79H/nciCdNSSs1Lo/we62PLq6XwRE51S4mA+RYdrHPQlgR/6Ca1P+EJ07/ntdf99r/wDE1tWFhBptotvaptReST1Y+pPrWGEy6rTrKdTZHNToSUrssUUUV9AdgUUUUAFFFFABRRRQAUUUUAFFFFABRRRQAUUUUAFFFFABRRRQAUUUUAFFFFABRRRQAUUUUAFFFFAHn/i6BovEMjsQRMiuuOwxt5/FTW94J/5As3/Xw3/oK1V8cW5KWlyqDALRu/GecFR69mq14J/5As3/AF8N/wCgrXg0YcmYyXq/v1OOKtXZ0VFFFe8dgUUUUAFFFFAHDeNv+Q1D/wBe6/8AoTV12k/8gWy/694//QRXI+Nv+Q1D/wBe6/8AoTV20MSQQpDENqRqFUZzgAYFeThU/rdZnPT/AIkmPooor1joCiiigAooooAKKKKACiiigAooooAKKKKACiiigAooooAKKKKACiiigArjdOsr7RPijqZS0ml0zW4UnE6LlIJoxgqx7bhz7kj3rsqKiUOZp9jpoYh0Yzja6krP700/k0mFFFFWcwUUUUAFFFFABRRRQAUUUUAFFFFABRUTXVul0lq88a3Eil0iLgOyjqQOpAyPzqWgbTW4UUUUCCiiigAoqG7uorGynu7gsIoI2kcqpY7QMnAHJ6Vwl/8AFZbewmvbTwtrc1pEMm5mg8mIjpncc8ZxWc6sKfxM7cLgcTi/4Mb9Oi1+dj0GiuO0fxP4r1a9tWfwd9j06Ygvcy6ghZUPO7bjPQ9K7GnCamrr8rGeIw1TDS5alr+UlL77NhRRRVnMFFFFABRRRQAVn67calaaHcz6HaJeX6KDDBI21XORnnjtk/hWhRSaurF05KE1Jq9uj2fkeXa/qnxF0240hLvUdHszqd4lqotIC/ls3TO/r+FdToXhzxBZast9rniyfUwEK/ZltlhiOe5A64+grP8Aid+7t/DVz3h1+1bPoPm/wFdxXLCmvaO7btbqz3cVi39TpuEIx5+ZO0Y30feza0fRhRRRXWfPhRRRQAUUUUAFcz490F9a8NvLYkx6np7fa7GVfvLIvOPxAx9celdNRUzipxcWb4evPD1Y1Ybp/wBff1MrwvrcfiPwxYatGNv2mIF1H8Ljhh+DA1l658N/DPiLVpNS1SyeS6lCh3Wd13YGBwDjoBVH4bD7B/wkOh9Bp2qyeUv92J/mT+tdvWUEqtNc6v8A5ndiJ1MBjJ/VZOK6WdnyvVfhY5CD4VeC7dtyaHGx/wCmk8rj8ixFdPYafZ6XaLa6baw2sC8iKFAig+uBViitI04Q+FJHJWxmJxCtWqSl6tv8woooqzlCiiigAooooAKKKKACiiigAooooAKKKKACiiigAooooAKKKKACiiigAooooAKKKKACiiigAooooAKKKKACiiigAooooAKKKKACiiigAooooAKKKKACiiigDmfG86rp9tAQdzylwe2FGD/6EKk8E/8AIFm/6+G/9BWsLxbe/atbaJWyluoQYbI3dSfY84P+7W74J/5As3/Xw3/oK14VKoqmYtrpp9xyRleuzoqKKK906wooooAKKKKAOG8bf8hqH/r3X/0Jq7muG8bf8hqH/r3X/wBCau5rzMJ/vNb1X6mFP45BRRRXpm4UUUUAFFFFABRRRQAUUUUAFFFFABRRRQAUUUUAFFFFABRRRQAUUUUAFFFFABRRRQAUUUUAFFFFABRRRQAUVieKG1+Oxjk8N3Gl27oxM76luCBcdivTn1rzm7+KPimyvfsUC+H9ZuicLFpQnlJ98jg/nmsKleFN2ketg8pr42HNRaflfVevT8T2Gisjwve6xqOgxXPiKwTT71ycwIc4XPBPXB9q162i+ZXPNq03SqOm2rrTR3X3nD6YP7V+M2sXbfNHo9jFaR+gaT5yfr1FdxXEfD0mbWvGFy33m1qWH8E4H867esaGsL92/wAz0M092uqfSMYr/wAlV/xbYUUVgnxG7ePh4dgtg6JY/a57jfjYS20LjHP/ANetZSUdzgpUZ1b8i2Tb9Eb1Fc/qHiGez8d6RoaRRtBfQTSSSHO5SgyMdvWugojJSbS6DqUZ0lGUvtK69LtfmmFch8VWK/DHWCP7kY/8ipW/YnVjqmojUVtRYh0+wtCTvK7fm35756YqPxLoy+IfDN/pTsE+1QlFYjhW6qfwIBqKic6ckuzOnByjhsZSnN6RlFu3a6f/AA/mXNOTy9LtUH8MKDj/AHRVisnwwmqReGbKHXo447+KPy5fLfcG28Bs+pAB/Gtari7xTOWtHlqyje9m9Vs/QKKKKoyCiuc8QePfDvhi9FnrN+YbkoJBEsDuSpJGcgY7HvWT/wALd8MzDGnC/wBQl6CK2s3LE9hzispVqUXZyVz0KeWY6rBThSk4vrZ2+/Y7msHXPEbaR4h0HS47YTNq00iFi2PLVFBJA79RWjpF7cajpNvd3ljLp80q7mtpiC0fPGce2D+NZnijwoviOSxuodQuNNv9PZ2trmAAld4AYEHqDgUTcnC8PIjDRowxHJidveXezs0npuk7bdO5B468WS+EdMsbqG3S4NzfR27qxIwhDEkY7/L+tdPXkvjLQdesJPD1zr/iY61brrNtGLZrCOEDJPzEqTu4GMH1NetVFKcpTldW2OrHYehRw1F05KTfNdq9nqrLVJ6ehw/xY+XwrZSnOIdTt3JHbk8/rXcVFdWlve27QXkEVxCxBaOVA6nByODx1qWtFC03LvY46mIU8NTo21i5P77f5BRXIa18SdI0e+utN8i7uNUhkSKKySEhrhmHGw9x7/zrntb+JOotpGoaS2lSaN4jd4YLW3M4lLed0ZWAHIGfoSPpWcsRTjfX+v8AM7KGT42tytQsnbey0dtbbtK6u0rI9Qorjfhnf3s/h+807VrmS6vdJv5rOSaRizOFOQcnk9cD2FcjZ6v4p8T/ABYlGn3N5Bp+m6j5UsaSbYFgQkMGXPzM2Pwz+SeISjF23LhlE5Vq1NzSVNXbez7W9T2CiuA8Z31xqvi218Mw6jLpllFZtqF/cQS+XI6A7VjVu3I59j7Vm/D6fU9b+FuoHVtUuobZWc211bzn7TCifMQWI7Y49QSOOKPbrn5Eu/4Aspl9VWJlNK7jpZ3tJtJ+b0bt2PUaK8KsX1vV/htfeMLjxNqv2+wlC28SzbYgFKZ3KB8xIPX8817dY3P2zT7e5xjzolkwO2QD/WnRre16W6meYZa8D9tSs3F2T0as+u++5x+kn7D8aNetR8o1DT4LvHqU/d5/Wu3rh7r5fjrZFTy2hsGHt5pI/Wu4p0ftLzf+ZOZaulPvCP4Ll/JBRRRW55YUUUUAFFFFABRRRQAUUUUAFFFFABRRRQAUUUUAFFFFABRRRQAUUUUAFFFFABRRRQAUUUUAFFFFABRRRQAUUUUAFFFFABRRRQAUUUUAFFFFABRRRQAUUUUAFZHiLWP7J0/90cXM2RF8uQMYyfwz+ePetevOPEV+NQ1uaSN98UeI4zx0HXBHUZyc+9efmGIdCj7u70Ma0+SOhmO7SOzyMWZjlmY5JPrXceCf+QLN/wBfDf8AoK1w1eleH4Ps3h+zTduzHvzjH3vmx+uK8jKouVdy7I5sOrzuaNFFFfTneFFFFABRRRQBw3jb/kNQ/wDXuv8A6E1dzXDeNv8AkNQ/9e6/+hNXc15mE/3mt6r9TCn8cgooor0zcKKKKACiiigAooooAKKKKACiiigAooooAKKKKACiiigAooooAKKKKACiiigAooooAKKKKACiiigArybWPi3Le61NpGiS2ujpE5R9Q1NWJyDg7YwDg/736V6zUFxZWt4MXdtDOB082MN/OsasJzVoSsejgMRhsPNyxFLn7a7edrNP0eh5dZad4K1eZJvFPjb+37jdwlzd+RCD/sxgjH54r0fRbHR7KyA0C3s4rdu9oq7W+pHU1heJ7bwNoGmm51/StLRSCI0FohkkPogAz/nms/4Z6BLYzatrLaedIttTdPsunEnMUag4ZgejHOcdvxrCmuSoo2V/Lf5/8Oeri5LFYSVfnmorZStyt32ilZaLV2jbT0O+ooortPmTiPh+fs+u+MbFz+8TWHuCP9mUZU/pXb1wPiCT/hDviFa+JH+XS9WjFlqD44ikH+rkPtgYz2APtXfAggEHIPQisKOicO39I9XMlzzhiV8M4r70kpL719zQVwWtjUfC/wAQZPEkGlXeq6de2a29wtmu+WBlOQdvcYH8+nfvaKupDnW9rHLhcT9Xk248ykrNd18vQ8kHiK41v4z+Hb46XfafYeVNbRG9h8tpH2MWIHp8yV63XCeNpY5PHvg23t3V7xLyRzEp+ZY9o3MR2GAfyNb/AIk8UQ+GFtXurG+uorhmVntIfM8rAyN316D8fSsKT9nz8z6/oj1cfB4tYZUIWbg0l6Sl37i6D4qsfEV/qtrYLKG0y48iVnAAc8jK89Mqa268h+GGuWGka3q9pqv2qz1LV9QDwWc9s4cowLKx44+8c56V69WmHqe0hd7nLm2CWDxTpwTUbK1+uiu131uFFFFbnkhRRRQBFPa290oW5gjmA6CRA2PzqWiigd3awVynjGDxBFqujat4ehkvY7F5Rdaelx5Xnq6gA88Hbg9fWuroqJx542N8PXdCoqlk91Z7NNWf4M89u4vE3jTWdJh1Lw8dF0zT71L2WSa6WRpigO1QF6ck16FRRShDlu73bNMTivbqMVFRjHZK/XVvVt3fqFFFFaHGcNe6BNcfG6w1ZrR2tINLP78oSglDMuM9M4YHFaF54FtL74hWvimacl7aEItts4LjOH3Z7A9MdQOa6misfYw1v3v8z0pZliPd5Ha0OT/t3X/M5OLwrqel+NLjVtD1KGKx1GVJL+ynh3ZIGCyMOhP8z36VNrPw88M67qBv77TsXbctNBI0TN7naRk+/Wumop+xhazWhH9oYpTVSM3GSVrrRtLu1vppqcWPhL4OLbp9NlnPbzbuU4/8erR8PeDrfw/pmqabHcNLYX1xJLHAE2+QjqAUByc9OvFdHRQqNOLuo2CpmWMqwcKlVyWm7vt2vt8jkj8N9FPha28PrNfJYwSGRglxtacnr5mBgj8BXUokVpaqiBYoYUAAzgKoH8gKy/EmhT65ZxJZ6td6VcwSeZFPbNxnGMMvRh7Vz0ngbXdZ2w+LPFk97YjG+0tLdbcTf77LyR7fyqLezdoQ/I6FJYqClicRbVtpqTd3u1ZWbfm0R+F5h4n+I+reJrfLada240y0l7TENudh6jPQ+9d7UFjY2um2MVnYQJb28K7Y40GAoqetKcHCOu5yYzERxFW8FaKSSXktNfN7vzYUUUVocYUUUUAFFFFABRRRQAUUUUAFFFFABRRRQAUUUUAFFFFABRRRQAUUUUAFFFFABRRRQAUUUUAFFFFABRRRQAUUUUAFFFFABRRRQAUUUUAFFFFABRRRQAUUUUAFeSV63XkleBnH2Pn+hx4roXdJ09tT1OK2XO0nMjD+FR1PTj0HuRXp1ZegaSNJ00I3+vlw8pIHBx93I7D/AB9a1K7svwrw9P3t3ubUafJHXcKKKK9E2CiiigAooooA8/8AF07S+IZEYACFFRcdxjdz+LGvQK878U/8jLdf8A/9AWvRK8nAtuvXv3/VnNR+OYUUUV6x0hRRRQAUUUUAFFFFABRRRQAUUUUAFFFFABRRRQAUUUUAFFFFABRRRQAUUUUAFFFFABRRRQAUUUUAFYfjHU9U0jwvdXWg2El/fjCxRRoXIycbto5OOuBW5RUyTaaTsa0Zxp1IzlHmSez2fkeNeHr6HTbw6z4n8K+K9V1ggFry407csR9I1JAUDsevpjpXWn4s6FHkXNjq9sQcYlsSOfzruKKwhRnBWjL8D18RmOGxU+etRb9J2suyVmkvJHHad8RrTW9XtLHRNK1G6WaQied4DGluuM7iT17ccdfwrsaKK2gpJe87nmYipRnJexhyr1u3+C/IqapplrrOl3Gn6hEJba4Qo6n09R6EdQfWuM0qfxN4Lnj0a902517SQwSzvrXBliTssinrgd+B/Id9RSlT5nzJ2ZpQxbpU3SnFSg9bPo+6a1T/AD6hXP8AiTwdZ+Jrq2uLm+1Gzkt1ZB9iuPL3q2MhuD6dsV0FFVKKkrSMKNepQn7Sk7MwPD/gnQ/DMz3Gm2pa7kGHup3Mkrf8CPT8MVv0UURjGKtFWCtXq1589WTk+71GmKMyiUxqZFGA+OQPTNOooqjG4UUUUAFFFFABRRRQAUUUUAFFFFABRRRQAUUUUAFFFFABRRRQAUUUUAFFFFABRRRQAUUUUAFFFFABRRRQAUUUUAFFFFABRRRQAUUUUAFFFFABRRRQAUUUUAFFFFABRRRQAUUUUAFFFFABRRRQAUUUUAFFFFABRRRQAVi+KL+507S45bOTy3aYKTtB42se/wBK2q5bxffWlzpESW11DMwnBKxyBiBtbniuTGT5KEmnZ2M6rtBmXB4x1SJCsnkznOd0iYI9vlIFSp42vw6mS3tmXPzBQwJH1zxXOUV8usbiF9tnn+1n3OvTxypdRJp5Vc/MVmyQPpjmrX/Cbad/zxuv++F/+KrhqK3jmeJW7v8AItV6nc7+DxfpU27zHlgxjHmR53fTbmpf+Ep0b/n8/wDIT/4V53RWizaulsv6+ZX1iZ3OqeKrD+zZlsZmlnkUou1WTbkfeyR2/wA+tcx4es1vtct4pULxqS7gDIwBnn2JwPxrNrovBP8AyGpv+vdv/QlqI154zEw9p3JU3UmuY7miiivqz0QooooAKKKKACiiigDzvxT/AMjLdf8AAP8A0Ba9ErzvxT/yMt1/wD/0Ba9EryMB/Hr+v6s5qPxzCiiivXOkKKKKACiiigAooooAKKKKACiiigAooooAKKKKACiiigAooooAKKKKACiiigAooooAKKKKACiiigAooooAKKKKACiiigAooooAKKKKACiiigAooooAKKKZLNHBGZJ5FjRerOwAH4mhu2rAfRVT+1tO/wCgha/9/l/xpkut6ZDGZHv7cgdQkgY/kMms3VprVyX3k80e5eorI/4SnRv+fz/yE/8AhTJfFmkRxlknaUjoiRtk/mAP1rN4qgvtr70L2kO5tUVzv/Cbad/zxuv++F/+Ko/4TbTv+eN1/wB8L/8AFVn9dw386F7WHc6Kiud/4TbTv+eN1/3wv/xVH/Cbad/zxuv++F/+Ko+u4b+dB7WHc6Kiud/4TbTv+eN1/wB8L/8AFUf8Jtp3/PG6/wC+F/8AiqPruG/nQe1h3Oiornf+E207/njdf98L/wDFVBP44hVwLaykkXHJkcIc/QA0njsMlfnF7amup1NFcj/wnX/UO/8AI/8A9jR/wnX/AFDv/I//ANjU/wBo4X+b8H/kL29PuddRXI/8J1/1Dv8AyP8A/Y0f8J1/1Dv/ACP/APY0f2jhf5vwf+Qe3p9zrqK5H/hOv+od/wCR/wD7GoJ/G92zg21rDGuORIS5z9RipeZYVL4vwYe3p9ztaK4b/hNtR/542v8A3w3/AMVR/wAJtqP/ADxtf++G/wDiqn+1MN3f3C+sQO5orhv+E21H/nja/wDfDf8AxVH/AAm2o/8APG1/74b/AOKo/tTDd39wfWIHc0Vw3/Cbaj/zxtf++G/+Ko/4TbUf+eNr/wB8N/8AFUf2phu7+4PrEDuaK4b/AITbUf8Anja/98N/8VR/wm2o/wDPG1/74b/4qj+1MN3f3B9YgdzRXDf8JtqP/PG1/wC+G/8AiqP+E21H/nja/wDfDf8AxVH9qYbu/uD6xA7miuG/4TbUf+eNr/3w3/xVH/Cbaj/zxtf++G/+Ko/tTDd39wfWIHc0Vw3/AAm2o/8APG1/74b/AOKo/wCE21H/AJ42v/fDf/FUf2phu7+4PrEDuaK4b/hNtR/542v/AHw3/wAVR/wm2o/88bX/AL4b/wCKo/tTDd39wfWIHc0Vw3/Cbaj/AM8bX/vhv/iqP+E21H/nja/98N/8VR/amG7v7g+sQO5orhv+E21H/nja/wDfDf8AxVQz+L9Vm2+W8UGM58uPO767s0nmuHS6/cL6xA7+ivO/+Ep1n/n8/wDISf4Uf8JTrP8Az+f+Qk/wqP7Xodn+H+YvrMD0SivO/wDhKdZ/5/P/ACEn+FH/AAlOs/8AP5/5CT/Cj+16HZ/h/mH1mB6JRXnf/CU6z/z+f+Qk/wAKhn8Qarc7fMvpRtzjyzs/PbjNJ5vRtpF/h/mH1mPY9Kory/8AtbUf+ghdf9/m/wAaP7W1H/oIXX/f5v8AGo/tin/KxfWV2PUKK8sl1G9njMc95cSI3VXlYg/gTVepecLpD8f+AL6yuiPVJ760tnCXN1DCxGQskgUkevNQvrOmojM1/bEKMnbKCfyHJrzGisnnE+kUT9ZfY9E/4SnRv+fz/wAhP/hUE/jHS4nCx+dOMZ3RpgD2+Yg1wVFYvNsQ1sv6+ZP1iZ17+OVDsI9PLLn5S02CR9McVDP44mZALayjjbPJkcuMfQAVy1FYPMcU/tfgv8iPbVO50X/Cbaj/AM8bX/vhv/iqoy+JNXmjMb3rAHqUVVP5gA1l0VjLF15aObJdSb6lv+1tR/6CF1/3+b/Go5767uUCXN1NMoOQskhYA+vNQUVi6k2rNsjmYUUUVAgooooAKKKKACiiigArovBP/Iam/wCvdv8A0Jah0Tw3/bFk9x9r8nbIU2+XuzwDnqPWuu0fRYNGhdYWaR5MeY7d8DsOw5P59a9fAYOq6karVo7nTRpS5lLoaNFFFfTneFFFFABRRRQAUUUUAcNqf/I/p/18QfyWu5rgNen+y+MpLjbv8qSJ9ucZwqnFaP8AwnX/AFDv/I//ANjXh4fFUaFSqqjteT7nJCpGEpcz6nXUVyP/AAnX/UO/8j//AGNH/Cdf9Q7/AMj/AP2Ndv8AaOF/m/B/5Gvt6fc66iuR/wCE6/6h3/kf/wCxo/4Tr/qHf+R//saP7Rwv834P/IPb0+511Fcj/wAJ1/1Dv/I//wBjT4vHMZkAnsWRO7JIGI/AgfzoWY4V/a/B/wCQe2p9zq6K53/hNtO/543X/fC//FUf8Jtp3/PG6/74X/4qr+u4b+dFe1h3OiorFi8WaRJGGedoieqPG2R+QI/Wn/8ACU6N/wA/n/kJ/wDCtFiqD+2vvQ/aQ7mvRWR/wlOjf8/n/kJ/8KP+Ep0b/n8/8hP/AIUfWaH86+9B7SHc16KyP+Ep0b/n8/8AIT/4Uf8ACU6N/wA/n/kJ/wDCj6zQ/nX3oPaQ7mvRWR/wlOjf8/n/AJCf/Cj/AISnRv8An8/8hP8A4UfWaH86+9B7SHc16KyP+Ep0b/n8/wDIT/4Uf8JTo3/P5/5Cf/Cj6zQ/nX3oPaQ7mvRWO/ivR1RmW6LkDIVYmyfbkYqr/wAJtp3/ADxuv++F/wDiqmWMw8d5oTqQXU6Kiud/4TbTv+eN1/3wv/xVVpfHMYkIgsWdOzPIFJ/AA/zqHj8Mt5i9tTXU6uiuQfxyxRhHp4VsfKWmyAfpjmqv/Cbaj/zxtf8Avhv/AIqspZnhls7/ACZLr0+53NFcN/wm2o/88bX/AL4b/wCKqGfxfqs23y3igxnPlx53fXdmpea4dLr9wvrEDv6K87/4SnWf+fz/AMhJ/hR/wlOs/wDP5/5CT/Co/teh2f4f5i+swPRKK87/AOEp1n/n8/8AISf4VVfWdSd2Y39yCxydspA/IcCplm9HpF/gJ4mPRHp1FeX/ANraj/0ELr/v83+NMl1G9njMc95cSI3VXlYg/gTUvOIdIsX1ldj1OivJKKz/ALY/ufj/AMAX1ryPW6qvqdhG7JJfWyspwytMoIPp1ry6iplnEukPx/4AniX0R6h/a2nf9BC1/wC/y/41DP4g0q22+ZfRHdnHlnf+e3OK81oqHm9S2kUL6zLsd7P4x0uJwsfnTjGd0aYA9vmINQv42sAjGO3uWbHyhgoBP1zxXEUVi80xD7fcT9YmdTP44mZALayjjbPJkcuMfQAVB/wm2o/88bX/AL4b/wCKrnaKweOxLd+cj21R9TYfxXrDOzC6CAnIVYlwPbkZqCfxBqtzt8y+lG3OPLOz89uM1nUVi8RWlo5v72TzyfUfLNJPIZJ5GkdurOxJP4mmUUVi23qyAooopAFFFFABRRRQAUUUUAFFFFABRRRQAUUUUAFFFFABRRRQAUUUUAFFFFABRRRQAUUUUAFFFFABRRRQAUUUUAFFFFABRRRQAUUUUAFFFFABRRSojSOqRqWZjhVUZJPpTASirf8AZOo/9A+6/wC/Lf4Uf2TqP/QPuv8Avy3+FX7Kp/KyuV9ipRVv+ydR/wCgfdf9+W/wpyaNqTuqiwuQWOBuiIH5ngUeyqfyv7g5ZdilRWv/AMItrP8Az5/+RU/xo/4RbWf+fP8A8ip/jWn1av8AyP7mP2c+xkUVvxeDdTkjDO1vET1R3OR+QI/WpovBF6ZAJ7m3RO7JuYj8CB/OtFgsS/sMr2U+xzVFdb/wgv8A1Ef/ACB/9lVmLwRZCMCe5uHfuybVB/Ag/wA61WW4l7xt80V7Cp2OJorvIvBumRyBna4lA6o7jB/IA/rV6Dw/pVtu8uxiO7GfMG/8t2cVtHKa7+JpFLDz6nmtFeof2Tp3/QPtf+/K/wCFW62jk8us/wAClhn1Z5XBY3dyhe2tZplBwWjjLAH04qeLRNTmkEaWFwCeheMqPzOBXptFbLJ4dZMr6surPO/+EW1n/nz/APIqf41b/wCEJ1H/AJ7Wv/fbf/E13NFbRyrDre7LWHgcN/whOo/89rX/AL7b/wCJq3/wgv8A1Ef/ACB/9lXXUVpHLMMt1f5saoU+xyP/AAgv/UR/8gf/AGVXP+EJ07/ntdf99r/8TXRUVpHAYaO0PzKVGmuhgReDdMjkDO1xKB1R3GD+QB/WrH/CLaN/z5/+RX/xrXorRYTDraC+4fs4LoMihjgjEcEaxovRUUAD8BT6KK6UraI0CiiigAooooAKKKKACiiigDzvxT/yMt1/wD/0BayK1/FP/Iy3X/AP/QFrIr4nE/x5+r/M8qp8bCiiiucgKKKKACiiigAooooAKKKKACiiigAooooAKKKKACiiigAooooAKKKKACiiigAooooAKKKKACirf9k6j/0D7r/vy3+FH9k6j/0D7r/vy3+FaeyqfysrlfYqUVb/ALJ1H/oH3X/flv8ACpINC1S4crHYzAgZ/eLsH5tgU1RqN2UX9wcsuxQorX/4RbWf+fP/AMip/jR/wi2s/wDPn/5FT/Gr+rV/5H9zH7OfYyKK6FPBepMisZLZCRkqznI9uBil/wCEJ1H/AJ7Wv/fbf/E1p9SxH8jH7KfY52iumg8EXbORc3UMa44MYLnP0OKn/wCEF/6iP/kD/wCyq1l+KavyfkV7Go+hyVFdb/wgv/UR/wDIH/2VX4vBumRyBna4lA6o7jB/IA/rVxyzEvdW+f8AkNUKjODor0T/AIRbRv8Anz/8iv8A41PBoWl26FY7GEgnP7xd5/Nsmt1lFa+sl+P+RX1aXc80qWC0ubrd9mt5ZtuN3loWx9cV6qiLGipGoVVGFVRgAelLW6yddZ/h/wAEv6t3Z5f/AGTqP/QPuv8Avy3+FaEHhHVpXKyRRwDGd0kgIPt8uTXoFFbRyiin7zbLWGj1Zw3/AAhOo/8APa1/77b/AOJp8Xgi9MgE9zbondk3MR+BA/nXbUVqsrw3Z/eV9Xgcj/wgv/UR/wDIH/2VPi8DRiQGe+Z07qkQUn8ST/KurorRZdhV9n8X/mP2NPsc7/whOnf89rr/AL7X/wCJpU8F6arqzSXLgHJVnGD7cDNdDRWn1LD/AMiK9lDsZH/CLaN/z5/+RX/xo/4RbRv+fP8A8iv/AI1r0Vf1ah/IvuQ/Zw7GR/wi2jf8+f8A5Ff/ABo/4RbRv+fP/wAiv/jWvRR9WofyL7kHs4djI/4RbRv+fP8A8iv/AI0f8Ito3/Pn/wCRX/xrXoo+rUP5F9yD2cOxkf8ACLaN/wA+f/kV/wDGj/hFtG/58/8AyK/+Na9FH1ah/IvuQezh2Mj/AIRbRv8Anz/8iv8A40+Lw3pEMgkSyUkdA7Mw/IkitSimsNQWqgvuQckOxU/snTv+gfa/9+V/wo/snTv+gfa/9+V/wq3RV+yp/wAqK5V2Kn9k6d/0D7X/AL8r/hR/ZOnf9A+1/wC/K/4Vboo9lT/lQcq7FT+ydO/6B9r/AN+V/wAKP7J07/oH2v8A35X/AAq3RR7Kn/Kg5V2Kn9k6d/0D7X/vyv8AhR/ZOnf9A+1/78r/AIVboo9lT/lQcq7FT+ydO/6B9r/35X/CrSIsaKkahVUYVVGAB6UtFVGEY7IEktgoooqhhRRRQAUUUUAFFFFABRRRQAUUUUAFFFFABRRRQAUUUUAFFFFABRRRQAUUUUAFFFFABRRRQAUUUUAFFFFABRRRQAUUUUAFFFFABRRRQAUUUUAFFFFABRRRQAUUUUAFFFFAGddaBpt7cvcXNtvlfG5vMYZwMdj7UyLw3pEMgkSyUkdA7Mw/IkitSisXh6LfM4K/oieSN72Kn9k6d/0D7X/vyv8AhR/ZOnf9A+1/78r/AIVboqvZU/5UPlXYqf2Tp3/QPtf+/K/4VDP4f0q52+ZYxDbnHljZ+e3Ga0aKTo02rOK+4XLF9DI/4RbRv+fP/wAiv/jR/wAIto3/AD5/+RX/AMa16Kj6tQ/kX3IXs4djFl8J6RJGVSBoiejpI2R+ZI/Sq/8AwhOnf89rr/vtf/ia6KipeDw73gheyg+hzv8AwhOnf89rr/vtf/iaP+EJ07/ntdf99r/8TXRUVP1LDfyIPZQ7HLT+B4WcG2vZI1xyJEDnP1BFRf8ACC/9RH/yB/8AZV11FQ8vwrd+X8X/AJk+xp9jkf8AhBf+oj/5A/8AsqP+EF/6iP8A5A/+yrrqKP7Owv8AL+L/AMw9hT7HI/8ACC/9RH/yB/8AZUf8IL/1Ef8AyB/9lXXUUf2dhf5fxf8AmHsKfY5H/hBf+oj/AOQP/sqcngZQ6mTUCy5+YLDgkfXPFdZRR/Z2F/l/F/5h7Cn2Od/4QnTv+e11/wB9r/8AE0f8ITp3/Pa6/wC+1/8Aia6Kir+pYb+RFeyh2MSDwjpMSFZIpJznO6SQgj2+XAqT/hFtG/58/wDyK/8AjWvRWiwtBK3IvuQ/Zw7GXF4b0iGQSJZKSOgdmYfkSRVn+ydO/wCgfa/9+V/wq3RVqjSjoor7h8sVsip/ZOnf9A+1/wC/K/4VYihjgjEcEaxovRUUAD8BT6KtQjHVIdktgoooqhhRRRQAUUUUAFFFFABRRRQAUUUUAFFFFABRRRQAUUUUAFFFFABRRRQAUUUUAFFFFABRRRQAUUUUAFFFFABRRRQAUUUUAFFFFABRRRQAUUUUAFFFFABRRRQAUUUUAFFFFABRRRQAUUUUAFFFFABRRRQAUUUUAFFFFABRRRQAUUUUAFFFFABRRRQAUUUUAFFFFABRRRQAUUUUAFFFFABRRRQAUUUUAFFFFABRRRQAUUUUAFFFFAH/2Q==)"
      ],
      "metadata": {
        "id": "hiKPre_xyjTS"
      }
    },
    {
      "cell_type": "code",
      "source": [
        "score_test= model.score(x_test,y_test)\n",
        "score_test"
      ],
      "metadata": {
        "colab": {
          "base_uri": "https://localhost:8080/"
        },
        "id": "yHTI8IIizEXC",
        "outputId": "6359b89b-316f-4ebd-c5a4-bb62aecf43c0"
      },
      "execution_count": null,
      "outputs": [
        {
          "output_type": "execute_result",
          "data": {
            "text/plain": [
              "0.9925623858292363"
            ]
          },
          "metadata": {},
          "execution_count": 47
        }
      ]
    },
    {
      "cell_type": "code",
      "source": [
        "score_training  = model.score(x_train,y_train)\n",
        "score_training"
      ],
      "metadata": {
        "colab": {
          "base_uri": "https://localhost:8080/"
        },
        "id": "MmjCfopnzpL_",
        "outputId": "00708914-7ad7-4b79-8980-43d908111d8c"
      },
      "execution_count": null,
      "outputs": [
        {
          "output_type": "execute_result",
          "data": {
            "text/plain": [
              "0.9883142038200097"
            ]
          },
          "metadata": {},
          "execution_count": 48
        }
      ]
    },
    {
      "cell_type": "code",
      "source": [
        "import numpy as np\n",
        "import pandas as pd\n"
      ],
      "metadata": {
        "id": "z7AqprPevFqI"
      },
      "execution_count": null,
      "outputs": []
    },
    {
      "cell_type": "code",
      "source": [
        "datas = pd.read_csv('/content/drive/MyDrive/Colab Notebooks/Sample_LR_dataset.csv')"
      ],
      "metadata": {
        "id": "SOLij96KLaW4"
      },
      "execution_count": null,
      "outputs": []
    },
    {
      "cell_type": "code",
      "source": [
        "datas"
      ],
      "metadata": {
        "colab": {
          "base_uri": "https://localhost:8080/",
          "height": 424
        },
        "id": "aozfn_GYMaRW",
        "outputId": "23a7c167-fe33-43d1-84a6-99e692ed5f75"
      },
      "execution_count": null,
      "outputs": [
        {
          "output_type": "execute_result",
          "data": {
            "text/html": [
              "\n",
              "  <div id=\"df-4144e630-9199-4fb6-bfc8-1a0c1b0a135d\">\n",
              "    <div class=\"colab-df-container\">\n",
              "      <div>\n",
              "<style scoped>\n",
              "    .dataframe tbody tr th:only-of-type {\n",
              "        vertical-align: middle;\n",
              "    }\n",
              "\n",
              "    .dataframe tbody tr th {\n",
              "        vertical-align: top;\n",
              "    }\n",
              "\n",
              "    .dataframe thead th {\n",
              "        text-align: right;\n",
              "    }\n",
              "</style>\n",
              "<table border=\"1\" class=\"dataframe\">\n",
              "  <thead>\n",
              "    <tr style=\"text-align: right;\">\n",
              "      <th></th>\n",
              "      <th>x</th>\n",
              "      <th>y</th>\n",
              "    </tr>\n",
              "  </thead>\n",
              "  <tbody>\n",
              "    <tr>\n",
              "      <th>0</th>\n",
              "      <td>24.0</td>\n",
              "      <td>21.549452</td>\n",
              "    </tr>\n",
              "    <tr>\n",
              "      <th>1</th>\n",
              "      <td>50.0</td>\n",
              "      <td>47.464463</td>\n",
              "    </tr>\n",
              "    <tr>\n",
              "      <th>2</th>\n",
              "      <td>15.0</td>\n",
              "      <td>17.218656</td>\n",
              "    </tr>\n",
              "    <tr>\n",
              "      <th>3</th>\n",
              "      <td>38.0</td>\n",
              "      <td>36.586398</td>\n",
              "    </tr>\n",
              "    <tr>\n",
              "      <th>4</th>\n",
              "      <td>87.0</td>\n",
              "      <td>87.288984</td>\n",
              "    </tr>\n",
              "    <tr>\n",
              "      <th>...</th>\n",
              "      <td>...</td>\n",
              "      <td>...</td>\n",
              "    </tr>\n",
              "    <tr>\n",
              "      <th>695</th>\n",
              "      <td>58.0</td>\n",
              "      <td>58.595006</td>\n",
              "    </tr>\n",
              "    <tr>\n",
              "      <th>696</th>\n",
              "      <td>93.0</td>\n",
              "      <td>94.625094</td>\n",
              "    </tr>\n",
              "    <tr>\n",
              "      <th>697</th>\n",
              "      <td>82.0</td>\n",
              "      <td>88.603770</td>\n",
              "    </tr>\n",
              "    <tr>\n",
              "      <th>698</th>\n",
              "      <td>66.0</td>\n",
              "      <td>63.648685</td>\n",
              "    </tr>\n",
              "    <tr>\n",
              "      <th>699</th>\n",
              "      <td>97.0</td>\n",
              "      <td>94.975266</td>\n",
              "    </tr>\n",
              "  </tbody>\n",
              "</table>\n",
              "<p>700 rows × 2 columns</p>\n",
              "</div>\n",
              "      <button class=\"colab-df-convert\" onclick=\"convertToInteractive('df-4144e630-9199-4fb6-bfc8-1a0c1b0a135d')\"\n",
              "              title=\"Convert this dataframe to an interactive table.\"\n",
              "              style=\"display:none;\">\n",
              "        \n",
              "  <svg xmlns=\"http://www.w3.org/2000/svg\" height=\"24px\"viewBox=\"0 0 24 24\"\n",
              "       width=\"24px\">\n",
              "    <path d=\"M0 0h24v24H0V0z\" fill=\"none\"/>\n",
              "    <path d=\"M18.56 5.44l.94 2.06.94-2.06 2.06-.94-2.06-.94-.94-2.06-.94 2.06-2.06.94zm-11 1L8.5 8.5l.94-2.06 2.06-.94-2.06-.94L8.5 2.5l-.94 2.06-2.06.94zm10 10l.94 2.06.94-2.06 2.06-.94-2.06-.94-.94-2.06-.94 2.06-2.06.94z\"/><path d=\"M17.41 7.96l-1.37-1.37c-.4-.4-.92-.59-1.43-.59-.52 0-1.04.2-1.43.59L10.3 9.45l-7.72 7.72c-.78.78-.78 2.05 0 2.83L4 21.41c.39.39.9.59 1.41.59.51 0 1.02-.2 1.41-.59l7.78-7.78 2.81-2.81c.8-.78.8-2.07 0-2.86zM5.41 20L4 18.59l7.72-7.72 1.47 1.35L5.41 20z\"/>\n",
              "  </svg>\n",
              "      </button>\n",
              "      \n",
              "  <style>\n",
              "    .colab-df-container {\n",
              "      display:flex;\n",
              "      flex-wrap:wrap;\n",
              "      gap: 12px;\n",
              "    }\n",
              "\n",
              "    .colab-df-convert {\n",
              "      background-color: #E8F0FE;\n",
              "      border: none;\n",
              "      border-radius: 50%;\n",
              "      cursor: pointer;\n",
              "      display: none;\n",
              "      fill: #1967D2;\n",
              "      height: 32px;\n",
              "      padding: 0 0 0 0;\n",
              "      width: 32px;\n",
              "    }\n",
              "\n",
              "    .colab-df-convert:hover {\n",
              "      background-color: #E2EBFA;\n",
              "      box-shadow: 0px 1px 2px rgba(60, 64, 67, 0.3), 0px 1px 3px 1px rgba(60, 64, 67, 0.15);\n",
              "      fill: #174EA6;\n",
              "    }\n",
              "\n",
              "    [theme=dark] .colab-df-convert {\n",
              "      background-color: #3B4455;\n",
              "      fill: #D2E3FC;\n",
              "    }\n",
              "\n",
              "    [theme=dark] .colab-df-convert:hover {\n",
              "      background-color: #434B5C;\n",
              "      box-shadow: 0px 1px 3px 1px rgba(0, 0, 0, 0.15);\n",
              "      filter: drop-shadow(0px 1px 2px rgba(0, 0, 0, 0.3));\n",
              "      fill: #FFFFFF;\n",
              "    }\n",
              "  </style>\n",
              "\n",
              "      <script>\n",
              "        const buttonEl =\n",
              "          document.querySelector('#df-4144e630-9199-4fb6-bfc8-1a0c1b0a135d button.colab-df-convert');\n",
              "        buttonEl.style.display =\n",
              "          google.colab.kernel.accessAllowed ? 'block' : 'none';\n",
              "\n",
              "        async function convertToInteractive(key) {\n",
              "          const element = document.querySelector('#df-4144e630-9199-4fb6-bfc8-1a0c1b0a135d');\n",
              "          const dataTable =\n",
              "            await google.colab.kernel.invokeFunction('convertToInteractive',\n",
              "                                                     [key], {});\n",
              "          if (!dataTable) return;\n",
              "\n",
              "          const docLinkHtml = 'Like what you see? Visit the ' +\n",
              "            '<a target=\"_blank\" href=https://colab.research.google.com/notebooks/data_table.ipynb>data table notebook</a>'\n",
              "            + ' to learn more about interactive tables.';\n",
              "          element.innerHTML = '';\n",
              "          dataTable['output_type'] = 'display_data';\n",
              "          await google.colab.output.renderOutput(dataTable, element);\n",
              "          const docLink = document.createElement('div');\n",
              "          docLink.innerHTML = docLinkHtml;\n",
              "          element.appendChild(docLink);\n",
              "        }\n",
              "      </script>\n",
              "    </div>\n",
              "  </div>\n",
              "  "
            ],
            "text/plain": [
              "        x          y\n",
              "0    24.0  21.549452\n",
              "1    50.0  47.464463\n",
              "2    15.0  17.218656\n",
              "3    38.0  36.586398\n",
              "4    87.0  87.288984\n",
              "..    ...        ...\n",
              "695  58.0  58.595006\n",
              "696  93.0  94.625094\n",
              "697  82.0  88.603770\n",
              "698  66.0  63.648685\n",
              "699  97.0  94.975266\n",
              "\n",
              "[700 rows x 2 columns]"
            ]
          },
          "metadata": {},
          "execution_count": 51
        }
      ]
    },
    {
      "cell_type": "code",
      "source": [
        "x= datas.iloc[0:100,0]\n",
        "y= datas.iloc[0:100,1]\n"
      ],
      "metadata": {
        "id": "EegLS4NXMF-X"
      },
      "execution_count": null,
      "outputs": []
    },
    {
      "cell_type": "code",
      "source": [
        "x.shape\n"
      ],
      "metadata": {
        "colab": {
          "base_uri": "https://localhost:8080/"
        },
        "id": "ybyay2ryMTC4",
        "outputId": "bc651ab4-ef49-41da-b316-f0984d2d26c0"
      },
      "execution_count": null,
      "outputs": [
        {
          "output_type": "execute_result",
          "data": {
            "text/plain": [
              "(100,)"
            ]
          },
          "metadata": {},
          "execution_count": 53
        }
      ]
    },
    {
      "cell_type": "code",
      "source": [
        "from sklearn.model_selection import train_test_split\n",
        "x_train,x_test,y_train,y_test = train_test_split(x,y,test_size=0.30)"
      ],
      "metadata": {
        "id": "n2lhLECPNCug"
      },
      "execution_count": null,
      "outputs": []
    },
    {
      "cell_type": "code",
      "source": [
        "x_train.shape"
      ],
      "metadata": {
        "colab": {
          "base_uri": "https://localhost:8080/"
        },
        "id": "PzIVDpkXNST3",
        "outputId": "638834a3-90a7-47df-cafe-018ae6441a34"
      },
      "execution_count": null,
      "outputs": [
        {
          "output_type": "execute_result",
          "data": {
            "text/plain": [
              "(70,)"
            ]
          },
          "metadata": {},
          "execution_count": 55
        }
      ]
    },
    {
      "cell_type": "markdown",
      "source": [
        "![c m.JPG](data:image/jpeg;base64,/9j/4AAQSkZJRgABAQEAYABgAAD/4RD6RXhpZgAATU0AKgAAAAgABAE7AAIAAAAQAAAISodpAAQAAAABAAAIWpydAAEAAAAgAAAQ0uocAAcAAAgMAAAAPgAAAAAc6gAAAAgAAAAAAAAAAAAAAAAAAAAAAAAAAAAAAAAAAAAAAAAAAAAAAAAAAAAAAAAAAAAAAAAAAAAAAAAAAAAAAAAAAAAAAAAAAAAAAAAAAAAAAAAAAAAAAAAAAAAAAAAAAAAAAAAAAAAAAAAAAAAAAAAAAAAAAAAAAAAAAAAAAAAAAAAAAAAAAAAAAAAAAAAAAAAAAAAAAAAAAAAAAAAAAAAAAAAAAAAAAAAAAAAAAAAAAAAAAAAAAAAAAAAAAAAAAAAAAAAAAAAAAAAAAAAAAAAAAAAAAAAAAAAAAAAAAAAAAAAAAAAAAAAAAAAAAAAAAAAAAAAAAAAAAAAAAAAAAAAAAAAAAAAAAAAAAAAAAAAAAAAAAAAAAAAAAAAAAAAAAAAAAAAAAAAAAAAAAAAAAAAAAAAAAAAAAAAAAAAAAAAAAAAAAAAAAAAAAAAAAAAAAAAAAAAAAAAAAAAAAAAAAAAAAAAAAAAAAAAAAAAAAAAAAAAAAAAAAAAAAAAAAAAAAAAAAAAAAAAAAAAAAAAAAAAAAAAAAAAAAAAAAAAAAAAAAAAAAAAAAAAAAAAAAAAAAAAAAAAAAAAAAAAAAAAAAAAAAAAAAAAAAAAAAAAAAAAAAAAAAAAAAAAAAAAAAAAAAAAAAAAAAAAAAAAAAAAAAAAAAAAAAAAAAAAAAAAAAAAAAAAAAAAAAAAAAAAAAAAAAAAAAAAAAAAAAAAAAAAAAAAAAAAAAAAAAAAAAAAAAAAAAAAAAAAAAAAAAAAAAAAAAAAAAAAAAAAAAAAAAAAAAAAAAAAAAAAAAAAAAAAAAAAAAAAAAAAAAAAAAAAAAAAAAAAAAAAAAAAAAAAAAAAAAAAAAAAAAAAAAAAAAAAAAAAAAAAAAAAAAAAAAAAAAAAAAAAAAAAAAAAAAAAAAAAAAAAAAAAAAAAAAAAAAAAAAAAAAAAAAAAAAAAAAAAAAAAAAAAAAAAAAAAAAAAAAAAAAAAAAAAAAAAAAAAAAAAAAAAAAAAAAAAAAAAAAAAAAAAAAAAAAAAAAAAAAAAAAAAAAAAAAAAAAAAAAAAAAAAAAAAAAAAAAAAAAAAAAAAAAAAAAAAAAAAAAAAAAAAAAAAAAAAAAAAAAAAAAAAAAAAAAAAAAAAAAAAAAAAAAAAAAAAAAAAAAAAAAAAAAAAAAAAAAAAAAAAAAAAAAAAAAAAAAAAAAAAAAAAAAAAAAAAAAAAAAAAAAAAAAAAAAAAAAAAAAAAAAAAAAAAAAAAAAAAAAAAAAAAAAAAAAAAAAAAAAAAAAAAAAAAAAAAAAAAAAAAAAAAAAAAAAAAAAAAAAAAAAAAAAAAAAAAAAAAAAAAAAAAAAAAAAAAAAAAAAAAAAAAAAAAAAAAAAAAAAAAAAAAAAAAAAAAAAAAAAAAAAAAAAAAAAAAAAAAAAAAAAAAAAAAAAAAAAAAAAAAAAAAAAAAAAAAAAAAAAAAAAAAAAAAAAAAAAAAAAAAAAAAAAAAAAAAAAAAAAAAAAAAAAAAAAAAAAAAAAAAAAAAAAAAAAAAAAAAAAAAAAAAAAAAAAAAAAAAAAAAAAAAAAAAAAAAAAAAAAAAAAAAAAAAAAAAAAAAAAAAAAAAAAAAAAAAAAAAAAAAAAAAAAAAAAAAAAAAAAAAAAAAAAAAAAAAAAAAAAAAAAAAAAAAAAAAAAAAAAAAAAAAAAAAAAAAAAAAAAAAAAAAAAAAAAAAAAAAAAAAAAAAAAAAAAAAAAAAAAAAAAAAAAAAAAAAAAAAAAAAAAAAAAAAAAAAAAAAAAAAAAAAAAAAAAAAAAAAAAAAAAAAAAAAAAAAAAAAAAAAAAAAAAAAAAAAAAAAAAAAAAAAAAAAAAAAAAAAAAAAAAAAAAAAAAAAAAAAAAAAAAAAAAAAAAAAAAAAAAAAAAAAAAAAAAAAAAAAAAAAAAAAAAAAAAAAAAAAAAAAAAAAAAAAAAAAAAAAAAAAAAAAAAAAAAAAAAAAAAAAAAAAAAAAAAAAAAAAAAAAAAAAAAAAAAAAAAAAAAAAAAAAAAAAAAAAAAAAAAAAAAAAAAAAAAAAAAAAAAAAAAAAAAAAAAAAAAAAAAAAAAAAAAAAAAAAAAAAAAAAAAAAAAAAAAAAAAAAAAAAAAAAAAAAAAAAAAAAAAAAAAAAAAAAAAAAAAAAAAAAAAAAAAAAAAAAAAAAAAAAAAAAAAAAAAAAAAAAAAAAAAAAAAAAAAAAAAAAAAAAAAAAAAAAAAAAAAAAAAAAAAAAAAAAAAAAAAAAAAAAAAAAAAAAAAAAAAAAAAAAAAAAAAAAAAAAAAAAAAAAAAAAAAAAAAAAAAAAAAAAAAAAAAAAAAAAAAAAAAAAAAAAAAAAAAAAAAAAAAAAAAAAAAAAAAAAAAAAAAAAAAAAAAAAAAAAAAAAAAAAAAAAAAAAAAAAAAAAAAAAAAAAAAAAAAAAAAAAAAAAAAAAAAAAAAAAAAAAAAAAAAAAAAAAAAAAAAAAAAAAAAAAAAAAAAAAAAAAAAAAAAAAAAAAAAAAAAAAAAAAAAAAAAAAAAAAAAAAAAAAAAAAAAAAAAAAAAAAAAAAAAAAAAAAAAAAAAAAAAAAAAAAAAAAAAAAAAAAAAAAAAAAAAAAAAAAAAAAAAAAAAAAAAAAAAAAAAAAAAAAAAAAAAAAAAAAAAAAAAAAAAAAAAAAAAAAAAAAAAAAAAAAAAAAAAAAAAAAAAAAAAAAAAAAAAAAAAAAAAAAAAAAAAAAAAAAAAAAAAAAAAAAAAGRlZW5kYXlhbCBqYXRhdgAABZADAAIAAAAUAAAQqJAEAAIAAAAUAAAQvJKRAAIAAAADNzAAAJKSAAIAAAADNzAAAOocAAcAAAgMAAAInAAAAAAc6gAAAAgAAAAAAAAAAAAAAAAAAAAAAAAAAAAAAAAAAAAAAAAAAAAAAAAAAAAAAAAAAAAAAAAAAAAAAAAAAAAAAAAAAAAAAAAAAAAAAAAAAAAAAAAAAAAAAAAAAAAAAAAAAAAAAAAAAAAAAAAAAAAAAAAAAAAAAAAAAAAAAAAAAAAAAAAAAAAAAAAAAAAAAAAAAAAAAAAAAAAAAAAAAAAAAAAAAAAAAAAAAAAAAAAAAAAAAAAAAAAAAAAAAAAAAAAAAAAAAAAAAAAAAAAAAAAAAAAAAAAAAAAAAAAAAAAAAAAAAAAAAAAAAAAAAAAAAAAAAAAAAAAAAAAAAAAAAAAAAAAAAAAAAAAAAAAAAAAAAAAAAAAAAAAAAAAAAAAAAAAAAAAAAAAAAAAAAAAAAAAAAAAAAAAAAAAAAAAAAAAAAAAAAAAAAAAAAAAAAAAAAAAAAAAAAAAAAAAAAAAAAAAAAAAAAAAAAAAAAAAAAAAAAAAAAAAAAAAAAAAAAAAAAAAAAAAAAAAAAAAAAAAAAAAAAAAAAAAAAAAAAAAAAAAAAAAAAAAAAAAAAAAAAAAAAAAAAAAAAAAAAAAAAAAAAAAAAAAAAAAAAAAAAAAAAAAAAAAAAAAAAAAAAAAAAAAAAAAAAAAAAAAAAAAAAAAAAAAAAAAAAAAAAAAAAAAAAAAAAAAAAAAAAAAAAAAAAAAAAAAAAAAAAAAAAAAAAAAAAAAAAAAAAAAAAAAAAAAAAAAAAAAAAAAAAAAAAAAAAAAAAAAAAAAAAAAAAAAAAAAAAAAAAAAAAAAAAAAAAAAAAAAAAAAAAAAAAAAAAAAAAAAAAAAAAAAAAAAAAAAAAAAAAAAAAAAAAAAAAAAAAAAAAAAAAAAAAAAAAAAAAAAAAAAAAAAAAAAAAAAAAAAAAAAAAAAAAAAAAAAAAAAAAAAAAAAAAAAAAAAAAAAAAAAAAAAAAAAAAAAAAAAAAAAAAAAAAAAAAAAAAAAAAAAAAAAAAAAAAAAAAAAAAAAAAAAAAAAAAAAAAAAAAAAAAAAAAAAAAAAAAAAAAAAAAAAAAAAAAAAAAAAAAAAAAAAAAAAAAAAAAAAAAAAAAAAAAAAAAAAAAAAAAAAAAAAAAAAAAAAAAAAAAAAAAAAAAAAAAAAAAAAAAAAAAAAAAAAAAAAAAAAAAAAAAAAAAAAAAAAAAAAAAAAAAAAAAAAAAAAAAAAAAAAAAAAAAAAAAAAAAAAAAAAAAAAAAAAAAAAAAAAAAAAAAAAAAAAAAAAAAAAAAAAAAAAAAAAAAAAAAAAAAAAAAAAAAAAAAAAAAAAAAAAAAAAAAAAAAAAAAAAAAAAAAAAAAAAAAAAAAAAAAAAAAAAAAAAAAAAAAAAAAAAAAAAAAAAAAAAAAAAAAAAAAAAAAAAAAAAAAAAAAAAAAAAAAAAAAAAAAAAAAAAAAAAAAAAAAAAAAAAAAAAAAAAAAAAAAAAAAAAAAAAAAAAAAAAAAAAAAAAAAAAAAAAAAAAAAAAAAAAAAAAAAAAAAAAAAAAAAAAAAAAAAAAAAAAAAAAAAAAAAAAAAAAAAAAAAAAAAAAAAAAAAAAAAAAAAAAAAAAAAAAAAAAAAAAAAAAAAAAAAAAAAAAAAAAAAAAAAAAAAAAAAAAAAAAAAAAAAAAAAAAAAAAAAAAAAAAAAAAAAAAAAAAAAAAAAAAAAAAAAAAAAAAAAAAAAAAAAAAAAAAAAAAAAAAAAAAAAAAAAAAAAAAAAAAAAAAAAAAAAAAAAAAAAAAAAAAAAAAAAAAAAAAAAAAAAAAAAAAAAAAAAAAAAAAAAAAAAAAAAAAAAAAAAAAAAAAAAAAAAAAAAAAAAAAAAAAAAAAAAAAAAAAAAAAAAAAAAAAAAAAAAAAAAAAAAAAAAAAAAAAAAAAAAAAAAAAAAAAAAAAAAAAAAAAAAAAAAAAAAAAAAAAAAAAAAAAAAAAAAAAAAAAAAAAAAAAAAAAAAAAAAAAAAAAAAAAAAAAAAAAAAAAAAAAAAAAAAAAAAAAAAAAAAAAAAAAAAAAAAAAAAAAAAAAAAAAAAAAAAAAAAAAAAAAAAAAAAAAAAAAAAAAAAAAAAAAAAAAAAAAAAAAAAAAAAAAAAAAAAAAAAAAAAAAAAAAAAAAAAAAAAAAAAAAAAAAAAAAAAAAAAAAAAAAAAAAAAAAAAAAAAAAAAAAAAAAAAAAAAAAAAAAAAAAAAAAAAAAAAAAAAAAAAAAAAAAAAAAAAAAAAAAAAAAAAAAAAAAAAAAAAAAAAAAAAAAAAAAAAAAAAAAAAAAAAAAAAAAAAAAAAAAAAAAAAAAAAAAAAAAAAAAAAAAAAAAAAAAAAAAAAAAAAAAAAAAAAAAAAAAAAAAAAAAAAAAAAAAAAAAAAAAAAAAAAAAAAAAAAAAAAAAAAAAAAAAAAAAAAAAAAAAAAAAAAAAAAAAAAAAAAAAAAAAAAAAAAAAAAAAAAAAAAAAAAAAAAAAAAAAAAAAAAAAAAAAAAAAAAAAAAAAAAAAAAAAAAAAAAAAAAAAAAAAAAAAAAAAAAAAAAAAAAAAAAAAAAAAAAAAAAAAAAAAAAAAAAAAAAAAAAAAAAAAAAAAAAAAAAAAAAAAAAAAAAAAAAAAAAAAAAAAAAAAAAAAAAAAAAAAAAAAAAAAAAAAAAAAAAAAAAAAAAAAAAAAAAAAAAAAAAAAAAAAAAAAAAAAAAAAAAAAAAAAAAAAAAAAAAAAAAAAAAAAAAAAAAAAAAAAAAAAAAAAAAAAAADIwMjI6MDI6MTggMTU6MTQ6NTAAMjAyMjowMjoxOCAxNToxNDo1MAAAAGQAZQBlAG4AZABhAHkAYQBsACAAagBhAHQAYQB2AAAA/+ELImh0dHA6Ly9ucy5hZG9iZS5jb20veGFwLzEuMC8APD94cGFja2V0IGJlZ2luPSfvu78nIGlkPSdXNU0wTXBDZWhpSHpyZVN6TlRjemtjOWQnPz4NCjx4OnhtcG1ldGEgeG1sbnM6eD0iYWRvYmU6bnM6bWV0YS8iPjxyZGY6UkRGIHhtbG5zOnJkZj0iaHR0cDovL3d3dy53My5vcmcvMTk5OS8wMi8yMi1yZGYtc3ludGF4LW5zIyI+PHJkZjpEZXNjcmlwdGlvbiByZGY6YWJvdXQ9InV1aWQ6ZmFmNWJkZDUtYmEzZC0xMWRhLWFkMzEtZDMzZDc1MTgyZjFiIiB4bWxuczpkYz0iaHR0cDovL3B1cmwub3JnL2RjL2VsZW1lbnRzLzEuMS8iLz48cmRmOkRlc2NyaXB0aW9uIHJkZjphYm91dD0idXVpZDpmYWY1YmRkNS1iYTNkLTExZGEtYWQzMS1kMzNkNzUxODJmMWIiIHhtbG5zOnhtcD0iaHR0cDovL25zLmFkb2JlLmNvbS94YXAvMS4wLyI+PHhtcDpDcmVhdGVEYXRlPjIwMjItMDItMThUMTU6MTQ6NTAuNjk5PC94bXA6Q3JlYXRlRGF0ZT48L3JkZjpEZXNjcmlwdGlvbj48cmRmOkRlc2NyaXB0aW9uIHJkZjphYm91dD0idXVpZDpmYWY1YmRkNS1iYTNkLTExZGEtYWQzMS1kMzNkNzUxODJmMWIiIHhtbG5zOmRjPSJodHRwOi8vcHVybC5vcmcvZGMvZWxlbWVudHMvMS4xLyI+PGRjOmNyZWF0b3I+PHJkZjpTZXEgeG1sbnM6cmRmPSJodHRwOi8vd3d3LnczLm9yZy8xOTk5LzAyLzIyLXJkZi1zeW50YXgtbnMjIj48cmRmOmxpPmRlZW5kYXlhbCBqYXRhdjwvcmRmOmxpPjwvcmRmOlNlcT4NCgkJCTwvZGM6Y3JlYXRvcj48L3JkZjpEZXNjcmlwdGlvbj48L3JkZjpSREY+PC94OnhtcG1ldGE+DQogICAgICAgICAgICAgICAgICAgICAgICAgICAgICAgICAgICAgICAgICAgICAgICAgICAgICAgICAgICAgICAgICAgICAgICAgICAgICAgICAgICAgICAgICAgICAgICAgICAgCiAgICAgICAgICAgICAgICAgICAgICAgICAgICAgICAgICAgICAgICAgICAgICAgICAgICAgICAgICAgICAgICAgICAgICAgICAgICAgICAgICAgICAgICAgICAgICAgICAgICAKICAgICAgICAgICAgICAgICAgICAgICAgICAgICAgICAgICAgICAgICAgICAgICAgICAgICAgICAgICAgICAgICAgICAgICAgICAgICAgICAgICAgICAgICAgICAgICAgICAgIAogICAgICAgICAgICAgICAgICAgICAgICAgICAgICAgICAgICAgICAgICAgICAgICAgICAgICAgICAgICAgICAgICAgICAgICAgICAgICAgICAgICAgICAgICAgICAgICAgICAgCiAgICAgICAgICAgICAgICAgICAgICAgICAgICAgICAgICAgICAgICAgICAgICAgICAgICAgICAgICAgICAgICAgICAgICAgICAgICAgICAgICAgICAgICAgICAgICAgICAgICAKICAgICAgICAgICAgICAgICAgICAgICAgICAgICAgICAgICAgICAgICAgICAgICAgICAgICAgICAgICAgICAgICAgICAgICAgICAgICAgICAgICAgICAgICAgICAgICAgICAgIAogICAgICAgICAgICAgICAgICAgICAgICAgICAgICAgICAgICAgICAgICAgICAgICAgICAgICAgICAgICAgICAgICAgICAgICAgICAgICAgICAgICAgICAgICAgICAgICAgICAgCiAgICAgICAgICAgICAgICAgICAgICAgICAgICAgICAgICAgICAgICAgICAgICAgICAgICAgICAgICAgICAgICAgICAgICAgICAgICAgICAgICAgICAgICAgICAgICAgICAgICAKICAgICAgICAgICAgICAgICAgICAgICAgICAgICAgICAgICAgICAgICAgICAgICAgICAgICAgICAgICAgICAgICAgICAgICAgICAgICAgICAgICAgICAgICAgICAgICAgICAgIAogICAgICAgICAgICAgICAgICAgICAgICAgICAgICAgICAgICAgICAgICAgICAgICAgICAgICAgICAgICAgICAgICAgICAgICAgICAgICAgICAgICAgICAgICAgICAgICAgICAgCiAgICAgICAgICAgICAgICAgICAgICAgICAgICAgICAgICAgICAgICAgICAgICAgICAgICAgICAgICAgICAgICAgICAgICAgICAgICAgICAgICAgICAgICAgICAgICAgICAgICAKICAgICAgICAgICAgICAgICAgICAgICAgICAgICAgICAgICAgICAgICAgICAgICAgICAgICAgICAgICAgICAgICAgICAgICAgICAgICAgICAgICAgICAgICAgICAgICAgICAgIAogICAgICAgICAgICAgICAgICAgICAgICAgICAgICAgICAgICAgICAgICAgICAgICAgICAgICAgICAgICAgICAgICAgICAgICAgICAgICAgICAgICAgICAgICAgICAgICAgICAgCiAgICAgICAgICAgICAgICAgICAgICAgICAgICAgICAgICAgICAgICAgICAgICAgICAgICAgICAgICAgICAgICAgICAgICAgICAgICAgICAgICAgICAgICAgICAgICAgICAgICAKICAgICAgICAgICAgICAgICAgICAgICAgICAgICAgICAgICAgICAgICAgICAgICAgICAgICAgICAgICAgICAgICAgICAgICAgICAgICAgICAgICAgICAgICAgICAgICAgICAgIAogICAgICAgICAgICAgICAgICAgICAgICAgICAgICAgICAgICAgICAgICAgICAgICAgICAgICAgICAgICAgICAgICAgICAgICAgICAgICAgICAgICAgICAgICAgICAgICAgICAgCiAgICAgICAgICAgICAgICAgICAgICAgICAgICAgICAgICAgICAgICAgICAgICAgICAgICAgICAgICAgICAgICAgICAgICAgICAgICAgICAgICAgICAgICAgICAgICAgICAgICAKICAgICAgICAgICAgICAgICAgICAgICAgICAgICAgICAgICAgICAgICAgICAgICAgICAgICAgICAgICAgICAgICAgICAgICAgICAgICAgICAgICAgICAgICAgICAgICAgICAgIAogICAgICAgICAgICAgICAgICAgICAgICAgICAgICAgICAgICAgICAgICAgICAgICAgICAgICAgICAgICAgICAgICAgICAgICAgICAgICAgICAgICAgICAgICAgICAgICAgICAgCiAgICAgICAgICAgICAgICAgICAgICAgICAgICAgICAgICAgICAgICAgICAgICAgICAgICAgICAgICAgICAgICAgICAgICAgICAgICAgICAgICAgICAgICAgICAgICAgICAgICAKICAgICAgICAgICAgICAgICAgICAgICAgICAgIDw/eHBhY2tldCBlbmQ9J3cnPz7/2wBDAAcFBQYFBAcGBQYIBwcIChELCgkJChUPEAwRGBUaGRgVGBcbHichGx0lHRcYIi4iJSgpKywrGiAvMy8qMicqKyr/2wBDAQcICAoJChQLCxQqHBgcKioqKioqKioqKioqKioqKioqKioqKioqKioqKioqKioqKioqKioqKioqKioqKioqKir/wAARCAESArwDASIAAhEBAxEB/8QAHwAAAQUBAQEBAQEAAAAAAAAAAAECAwQFBgcICQoL/8QAtRAAAgEDAwIEAwUFBAQAAAF9AQIDAAQRBRIhMUEGE1FhByJxFDKBkaEII0KxwRVS0fAkM2JyggkKFhcYGRolJicoKSo0NTY3ODk6Q0RFRkdISUpTVFVWV1hZWmNkZWZnaGlqc3R1dnd4eXqDhIWGh4iJipKTlJWWl5iZmqKjpKWmp6ipqrKztLW2t7i5usLDxMXGx8jJytLT1NXW19jZ2uHi4+Tl5ufo6erx8vP09fb3+Pn6/8QAHwEAAwEBAQEBAQEBAQAAAAAAAAECAwQFBgcICQoL/8QAtREAAgECBAQDBAcFBAQAAQJ3AAECAxEEBSExBhJBUQdhcRMiMoEIFEKRobHBCSMzUvAVYnLRChYkNOEl8RcYGRomJygpKjU2Nzg5OkNERUZHSElKU1RVVldYWVpjZGVmZ2hpanN0dXZ3eHl6goOEhYaHiImKkpOUlZaXmJmaoqOkpaanqKmqsrO0tba3uLm6wsPExcbHyMnK0tPU1dbX2Nna4uPk5ebn6Onq8vP09fb3+Pn6/9oADAMBAAIRAxEAPwD6RooooAKKKKACiiigAooooAKKKKACiiigAooooAKKKKACiiigAooooAKKKKACiiigAooooAKKKKACiiigAooooAKKKKACiiigAooooAKKKKACiiigAooooAKKKKACiiigAooooAKKKKACiioby8t9Pspru8lEUEKF3c9gP89KAJqKq6bcXF3YpPeWptJJCWELNllXPy7vRsYyOcHjJ60zT9Ti1Ga+ijR45LG5NvKr4+9tVwR7FXU/jQBdooooAKKK4jWPEmsaP4g1jTrKJLox2Y1aKS5z5cUKqVeLjB3F4+PTzCedu0gHb0Vxh8SardwabrloY7fSbu7t4IbWWHMk8crhPNLZ+X72VAHQAn72B2dAFLU9Ug0q3WSZZJZJW8uG3hXdJM+M7VHrgE5OAACSQATVuJmeFGkjMbMoLISCVPpkcVgapx498Pl/uG2vFUH+/wDuiD9dof8AM10NABWRqWp3ema1p4lWF9NvJBbEhSJIpSGKsTnBU7QuMAgsOcVr1z3jb/kAW+3/AFn9qafs9c/bIf8A6/4ZoA6GiiigAooooAKKKKACiiigAooooAKKKKACiiigAooooAKKKKACiiigAooooAKKKKACiiigAooooAKKKKACiiigAooooAKKKKACiiigAooooAKKKKACiiigAooooAKKKKACiiigAooooAKKKKACiiigAoozjrVPTtY03V1lbSdRtL5YX8uU206yBG/unaTg+xoAuUVma3qkmnCwitkWS5vryO2iV84xgu5/CNJCPcAVav4rqaydLC5Ftc8GORkDrkHOGB6qehxg4JwQeaALNFUNC1Qa1oVpqIiMJuIwzxE58tujLnvggjPtV/6UAFFcF/wk2r23xIt9FvkgjuJ7HeQLj/R9iSEtMFJ3BiuQFPIKnkqN1drZ6hZajG8mn3cF0kbmN2glDhWABKkg8HBHHvQBYooooAKM461xNhqcmg+F18PPaX0mr20LW9ukdrIUnIyI2EoXYARtJJYbec4xWj8P/tcfg+Gz1G6a8uNPuJ7JrhySZRFM6KST1OFAPuDSA25dUsobOK7e5j+zTMiJMp3IxchV5HGCSBnpzVa68SaNYx3D3Wp2sYtZVhnHmAmN2+6pA5BIOfpk9jUWu6CmoeEdT0bTVgsjeW8scZWPCI7g/MQP9o5PvWUvw50dpkkunnuB/Z7WUyOwCzFjJumb/pofOm5/6aNQB0GsapBomi3mp3W4xWsLSsq9WwPuj3PQe5rF8O+I7y+tdVutSNlNa2eGSfTwzITs3OgYk7ynA3DAJzwCCKmuvCp1Xw3caP4g1GTU45CDHNJCivGVwVJAG1iCM8jB9MUiaf4sSNbdNZ0eOFRtEiaU4YD0C+dtH16e1AGJP4t1zTrzw1LefYZovEdwkS2UcbK9orLvLeZuPmYHB+UAkg8dDo/EDUr3R9OsLrS9UltLya+gtLe18qN4rqSSRRtfKFwAoc/Iynr7Umn/AA20LT7eTylkF5LKkzXse2ORWRtwCBQFRc/wqMHPOTzXUTWsFy8L3EEcrQSeZEXUExvgruXPQ4YjPoTQBz1qt7oniqysrnU7nUIdSt5mdrnb8k0ZQjYAAFVlZvl7bBjqTUviD/S/EOgaZL/x7yTyXUqnpIYVBRf++2V8f7H1rZuLG2u7i1nnj3S2khlgbcRsYqyHp1+ViMHj8hTdR0uw1i0+y6rZwXkG4N5c8YcBh0Iz0PvQBZ3DdtyM4ziuf0L974q8R3EPNu00MQYdGlSPD4PfGVU+hUjqKnj8H6Db2s1vZaelkk+3zWsna3dwDkAuhDY9s45PrWra2lvY2kdrZwpBBEu1I41wqj0ApgSModSrcgjBri4fhzDbawL20vktgshZPLs4zKi/3RK249OM4z6YrtaKACs6XQ7KfU7y9uFaVryzSymjc5QxKznGPU+Y2fXA9K0aKAM2+0aO+m08NIY7WylEwt0UBXdf9Xk9gp5wO4Hpg6VFFAGXrumS6hDbT2Tol9YTi5tjJ90ttKsjY6BkZlzzjOcHGKtafdTXdmsl1ZS2U2SrwysrEEdwVJBB6g/mAeKtUUAFYSwT67q8F3dQSW+n2EpeCGZdr3EuCokZT0VcnaDySd2Bhc7tFABRRRQAUUUUAFFFFABRRRQAUUUUAFFFFABRRRQAUUUUAFFFFABRRRQAUUUUAFFFFABRRRQAUUUUAFFFFABRRRQAUUUUAFFFFABRRVDWNZs9Dshc35k2s4REhiaR5GwThVUEngE+wBPagC/RVOTV7CLR11WS5VbFollWbBwytjbgdSTkYHUkgVR0vxbpOr6o2m2sk8d+iPI9rc20kMiqvl5JDqP+esf13exwAbVFcrqPjm3gs5LvSrU6hbWtt9svZPM8ryIssMYIyZPkf5DjG05I4z0l7dR2NhcXc3+rgiaV/ooyf5UATUVleGPtZ8KaY+pStLdyWySTsxyd7Dcw+gJIHsKra7LJp2taPqEUjCOa4FjcRbjtdJAdjY/vK4Xn0ZqAN6iq9/eLYWT3LwzzBMfu7eIyO2TjhRz3/Cqulapdak8pn0a906JQPLe7aLMv0VHYj/gWKANKiisnUfD8eq3ZkvNR1MQYAFrb3bW8YPrmLa5z6FiPagDWorzqG0u/FNj4h0DTNSkk0GFntorppmeSRzEA0AkPLIrk5bJJzszgGup8P+ItP1S3hsDewLq0duputPaYC4gYABtyZ3DBOM9DkEEgikBrXt3Dp9hcXl0SsFvE0shVSxCqMnAHJ4HQVTh8Q6Xcax/ZkF0Hutm8KEbaflDYD42ltrK23O7BBxg5q4lrElitod0kQj8o+a5dmXGOWPJOOpPJrlNI+H8Vp4N07R72/uDeWsnnPfW77ZHcqUbkjoY2KeoGMYIBpgaej+KI9Z8QX+nwWzrBbRJJDdFhi5BeRHKj+6GjwD3zkcYJwNZ8QatqOt6pY+H5tThuNPYQWyW9gHguJygYmaaSMqsYLKpCsr8Me646k6BZpqFjd2hks3sofs6JbkKjxcYjZSDwCARjBHryahvfDFvc30t5aXt/ptzMQZXsrjashAABZGBQnAAztzgDngUgNK9uvsWm3F3Iu7yIWkZR32jOP0ryzRdZnn+I/hlbLU5roXFo763It0zwPPLC0kcQTcVQp5bEKAMAjOetd0fCtw3D+KNcZT1XzYRn8RED+Rq5pnhnR9I0+KysrCEQxTfaF8xfMYy/89CzZJf/AGutAGRrfhtrvxTp72kc6WV20h1cRzkRzqqDYjpnBywGSBkgFTwxFXrWzltvHt5MtsyWc2lW0UciqAm6OWbK+xAkXHtn0reopgYuv6bf3d5pV7pf2Z5tPuGl8q5dkVw0Txk7lBIIDnt3NXdTTU3t1GjT2kE275nu4GlXbjsqupznHertFAFHRtLj0bR7ewikaUQqcyP1diSWY49SSfxq9RRQBw//AArnTtege+8U27vqlxeC8YmbzFh2SZjjCnKYCBUbg5y3rXawwxW8KxW8aRRqMKiKFA+gFPooAKKKKAMzWdLu9Ra1ew1WfTZIHLFokDh1KkEFW4J5yCQcEdKs6bp0GlaelpaBvLQsxZzlnZmLMzHuWYkk+pNWqKACiiigAoorJvfFfh7Tm23+u6bbvnASW7RWJ9ACck+1AGtRXPf8Jxoj/wDHo97e+n2PTricH/gSIR+JOORR/wAJTcSf8efhfXbgdj5UMOf+/sqUAdDRXPf2z4jl/wBR4VMf/X1qESf+gb6PN8ZTf8ueh2fv9rmuMf8AkOOgDoaK57+zvFVx/wAfPiGxt19LLTCGH/ApJXB/75FI/g9byNo9X17WtQRwVdGuhbqwPYiBY+KAOiopAAqgDoBgUtABRRRQAUUUUAFFFFABRRRQAUUUUAFFFFABRRRQAUUUUAFFFFABRRRQAUUUUAFFFFABRRRQAUUUUAFFFFABRRRQAUyWaOCJpZ5FjjUZZ3YAD6k0+ue8ef8AIiar/wBcf/ZhQB0NFMmiE0EkTM6h1KlkYqwyOoI5B968/wDF1unhi2tV0LUtYGrX1xHAnmajNcqI3kVHkMcrsoxvGCADuKjpkUAeh1C13Al7HaNKouJI2kSPPJVSAzfQFlH4iuf8FX8MXhix0q7vEOo6fGtncxSygyiRPlyQTn5sBge4IIzmuCsJNevfHmmR32u3VpAs13plhd2luC9zGu5i7ySh0dg0BUgqOgYD5s0rgewPNFHJHG8iK8hIRSwBcgZOB345qva6rZ3uoX1jbTB7mwdEuY8EFC6B1+oIPUe/pWTqejQQ6TazXuv3NrNp0jSx6pO8IZNwKkNuTYQQ2OV9O/NUJNKXwprFprS3Ety9/cLa6rcS4DTeZhIXIUADa4RAAAAsjHrQBcv4j4e8QJrKSytaajMlvfpJIWWJiAkUijooDYRsdd+4/drpOlY/i6KGbwVrSXTbIjYTbnzjaNh5z2I61oadLNPpdrLdLsnkhRpFxjDFQSPzpgCtDqem5UyiG5i4JVonCsPQgMp59iK4C38Sa/PHpsVgZbuXRht1iKKMPJckXBtuM98RzS8EZ2r2PPo9VrTTbKwluZLK1ige7lM07RqAZXwBuPqcAUAcrZ32qaBrl3feJhfS22pwRSRxWlvLdJZyqzgxARqxGUMXzYwzK3qBTvF2hahrN5pmoRGe7sLVy7abbN9lmkDxspPmMy8/MBtJTgtk12NFAHF6r/butaXb2OleGH0v7NPBNC2pXMKxp5UiuBthaQlflxjj8Kr+GfDev2vjRtf1y3sfOuLeWK5kguWY72MeCqlBhNsSKBnI25JJNd5RSsByUPgzHhvxTppeOGXXrm7l81Pm2+au1SRx0GDj1z61vS2cuq+H5bLV444ZLu3aG4S2lLqu5SDtYqCevUgVfopgYWm2viW3mggvLzS3s4QFZ47aQSyqBgcb8If++vpUt7o15qWsQS3t9CdOtZkuIbSK2KyGRRwXkLkMATkAKvbJOOdiigAooooAKbIiyxtHIoZGBVlPQg9qdRQBDaWdtYWcdrY28VtbxLtjiiQKqD0AHAqaq91qFlYrm9u4LYYzmaVU/mfash/HfhVHKL4h02WQdY4LlZWH/AVJNAG/RXPf8JtpD/8AHtFql0ext9JunU/8CEe39aP+Erlf/j28N67P6f6OkWfT/WOv/wBbvigDoaK57+3tck/1PhC/T0+03dsv57JHo/tHxZJ/qfDump/18auy/wDoEDc/5zQB0NFc9v8AGUn/ACw0K3/7bTTf+yp/9f2o+yeMZPva1osI6EJpUrn6gm4A/Q0AdDRXPf2P4jk/13inZnr9n06NcfTeX/XNH/CN6m/+v8Ya03qscVoi/hiDd+tAHQ0Vz3/CIo//AB8a7rs3/b+0fPr8gX8untR/whOkt/rptXm9fN1q8cZ9cGXA/AUAdDTJZooFDTSJGCcAuwGawf8AhA/DR/1ulRz/APXd3l59fmJ59+tSReBvCcDFovDGjoxGCwsIsn6nbk0AWLjxV4etM/a9d0yDAJPm3ka4x16mqf8AwnvhVv8AU67ZXPvbSedn/vjNa1vpOnWmPslhawYII8qFVxjp0FW6AOe/4TbSn4t4NWuT/wBMdHumH/fXl4H4mj/hKbmT/j08La7cf9s4Yv8A0bKtdDRQBz39seJJf+Pfwssf/X3qMaf+gB6N3jKf/lnoVj/20musfpFmuhooA57+yfE03/H14nhi9fsOmLH/AOjHko/4RN5v+P8A8R67d+v+lLb5/wC/CR10NFAHP/8ACCeGn/4+9Ljvz66hI93n6+aWzWtZaXp+mrt06xtrQdMQQqn8hVqigAooooAKKKKACiiigAooooAKKKKACiiigAooooAKKKKACiiigAooooAKKKKACiiigAooooAKKKgvr6302xmvL2Ty4IVLu+CcD6Dk/QUXtqxxi5NRirtjdQ1C30uzN1dsViDohIGeXcIP1YVZrjPETXHiXwrcX0UTwafbRfbYFLDfdsg3rwCQqcZHOScdAOexjdZY1dDlWAIPqDWcZc0n2OqtQVKlFv4rtPyta3z1f/D3HUUVi+KNcl0PTopLO3F1dzShIoCcbwAXf/xxGx74qpSUVdmNKlOtNU4bs2qKzdQ1YRaVFPYbZ57wBbNO0jMMg/7oHzE9gDR4cvZtR8L6XeXbBri4tIpJSBgFygLcfXNHMublKdCap+0e17f19xpUUUVRgFFFFABRRRQAVR1rTE1rQb7TJWKLeW7wlh1XcpGfwzmr1FAGZ4f1RtU0iN7lRHewnybyH/nlMvDj6Z5B7qQRwaYfDenv4nOvzrJPeiJYovMfKQKN3KL0BO9vm5PJGccUupaGLy6F9Y3c2nagqhBcQ4IdR0WRD8rjk4zyMnaRk1Tz4yh+QLod3j/lsXmgz77MP/6FSA1rnStPvLqK5u7C1nuISDFLLCrPGQcggkZHPpVlI0iQLGiooJICjA55NVNLGqC3f+2XtGmLfKLRGCquOhLEknOeeKu0wM3W9GXWILcC5ktZ7ScXFvNGqtskCsuSrAhhhjwR7jBAIz28PapftHHruuLd2kcqS/Z4LNYfMZGDLvYsxIDKDhducc8cV0VFAGVd+H7fUNSF1f3N1cQqVZLJ5MW6sOhKADdyM/MWAPIA4rVoJwMngVjXni/w5YS+Vea7p0UvaI3KFz9FByfyoA2aK57/AITTTpf+PC01a+PYwaZPsP0dlCfrR/b2uXH/AB5eE7tB2a+u4Igf++GkP5igDoaK57PjK57aFp34zXmP/RWaP7D164/4/PFlxF6rYWUMQP8A38WQj88+9AHQ0yWaK3jMk8iRIOrOwAH4msH/AIQ2zl/4/tS1q8Pffqk0YP1WNlU/lUkXgfwvDIJP7BsJZR0lngWVx/wJ8n9aAFn8beF7eUxSeINNMw/5ZR3KO/8A3ypJ9ulRf8JrpUn/AB6QareHsbfSrllP/A9m39a3YLeG1iEdtDHDGOiRqFA/AVJQBz3/AAk1/L/x5+E9ZlH9+Q28Kj675Q3/AI7R/aPiyb/UeHtPgHrdaowI/BIWz+YroaKAOe8rxlN/y+aHZewtZrnH4+ZH/n8qP7E8QTf8fPiyWL1+xWEKfl5gkroaKAOe/wCETMv/AB++IddufX/TBDn/AL8qlH/CDaA3/HzbXF56/bb6e4z9fMds10NFAGPa+EPDdi2bPw/pcDZyWjs41JPqSByeK1kRI0CRqqKOiqMAU6igAooooAKKKKACiiigAooooAKKKKACiiigAooooAKKKKACikZlRCzkKqjJJOABVHS9d0zW4JZtKvYrqKF9kjoeFOAfywQc9CDQBforE0fxVZ61qctlbQXERWBbqGWUKFuYWYqJEwxO3Kn7wUnggEc1nXnjpI7sQWNhJM1vfRWmoea/l/ZfMnWFDwDuLbg4HHyckjIBAOsqG2u4LxZDayrKIpGicr0DqcMPwPB9wRWd4q1CfS/C99dWRC3IjEcDMMhJHIRWI7gMwP4Vd03T4NK0y3sbQEQwIEXccs3qSe5J5J7kk0ANv9Th02S1F0riK4lEPnADZG5+6G9Nx+UH1IHcVcqtqVhBqul3NhdjMNzE0T464Ixkeh96o+E7+fVPCGlXl4d11Jap9oI/56gYf/x4GgDXooooAKKKKACiiigAooqIXVubo2onjNwF3mLeN4X1x1xz1oGk3sS0UUUCCiiigAooooAKKKKAIJ722trJruaZVgUZLg5Hpxjqc8YHU1XsNZt9QmaFY7i3mC7xHcwtEzr03AHqPX0yM4yK5rRlEms2+gEAR6PPcXEi44OWBgyP92Ut/vID9Ok16K6k0G+Gmg/bTbyLAyEBgxH8J7H098VlGbkubsehUw9OlNU29ZbPZJX0b9Vr6NGhXK6TqN3c+PNRhkuHa2VHVYCflTZ5QBHuS8hPrx6Cq2gS3mlTagLLwvdR2F1cmS3SMxxlcIicozDaG2lt3XJOR63rfRtUtdTutatRZre3+0T2spbYqqMLtcc7sfeO3B46YyYcnKzRvGhCh7SMpJ3VltvpvZu1u/deZYHiq1udAtdW05GuILq8jtY8/LndOIS3fgcn3x2q7r99Ppnh2/vbOEzz28DyRxgZywHH4d6xtO8DW9ppNvY3WoXc8NufNihUrHHBKWLb02qG4YkgOzYrd0+zurQSC71Ka/3Y2mWONdn/AHwozn+lVH2jXvdjKssJCd6T5kpN2d9VdWW3bfbyuVfDSXa6Msl9eNdvM7SK7OrlVJ4Xcvyn8OMkgcAVrVRttE0qzvnvLTTLOC6cENPFborsD1BYDJ6VerSKaVmcdecZ1HOPXysFUNZ0xtVskgjuWtnjmjmVwgb5kYMMg9RkCr9FNpNWZEJypyU47oo2tha6Zov2N3zbxxt5skpA3A5LMx6DOST2rG8HX1/f6Hp21FSzt4fJeeXl7kp8mVAPyjIzk8noBjmrfiNbuSTT0gsZr61E5e4iiZBuwp2BtxA27sE/7o7cG5odhLpujw29wVM255Jdhyod3LsB7AsQPYVlZ89lsv8AgHc5JYZyk05Td/T4k9O/r5W120Kx5NPnuvGUV9OmLSxtCtvkj5pZG+c49lQDn++a2OlZEvivQIpDH/a9nJIOscMokcf8BXJq5cv2mc9BVbv2Ubu1tFe1/wDgaE1hoVhps5mtY33bSib5WcRKedqAnCLwOBjoPQU3w5Zz6f4etLS6TZJAhQrkHgEgcj2xUP8Awk9q/wDx62WqXHumnyqD+LqoNH9tajJ/x7+G9Q9mmlgQfpIT+lSnBO6/A3lDEyi41OtviaT0v3a7mzRXLXniXxBBdC2tfCj3MzAHaLvaqj1LlNg+m4n2rc0ybUprdn1e0t7SQn5Y4LgzYGO5KLzn0zVRmpOy/JmNTC1KUFOdrP8AvRb+5O5doooqzlCiiigAooooAKoXuvaPp2f7Q1WxtNvXz7lEx+Z9qtXdpb39pJa31vFc28q7ZIZkDo49CDwRVOy8PaLp2P7P0iwtNvTyLVEx+Q9qAM//AITnQJP+PC6m1L0Om2st0D/wKNWH45xR/wAJDq1z/wAg7wtfkdpL2aK3Q/huZ/8AxyuhooA57y/GF39+fRtLU9RHHLeN+DExD8Sp+lH/AAjN5cc6l4n1efPWOBorZB9PLQP+bGuhooA58eBfDjHN5pw1A+upTSXf/o1mrYs9Ps9Pi8uwtILWP+5DGEH5AVYooAKKKKACiiigAooooAKKKKACiiigAooooAKKj8+H7SbfzU88JvMW4btucZx1xnjNCXEMlxJAk0bTRBWkjDAsgbOCR2zg4+hoAkoozVN9Y06KSRJb2CNo7lLRg7hcTOqssfPViHUge9AFyioobqC5aVbeeOVoX8uUI4YxvgHa2OhwQcH1FcjqPi/VLvxFPpHhKwS6ezlWK6uJonMQYgFl3ghV2g88ls8BD1oA7OiuS8ceL5vDVjcNYpbGa2s3vZHumIjCqwVUGOSzs20dhyT2BjvvGrJ4Ci8X2cOy2QkyWdz8jSqZPLC7sfI+7GOCOSD6hXA7GgkAEk4A6k1zXh+TU7fxPqmm6vfm8f7LbXinaFSNpGmVkQdQo8oYzk88nJNSeNpAugxxznZYzXcKX8n8KW+7L7j2UgbSewY9OtMDdgnhurdJ7aVJoZFDJJGwZWB7gjgiqtpqiXOp3mnyxtDc2pVtrHPmRt92RfbIYH0Kn2Jj07X9E1KYWuk6tYXcix7/ACrW5SQhBgZwp6cgVnystz8RrJrQiT7Jptyl2UORGXkhMat7nZIQPQH15AOirnPFniebw1beYbLdFNsihu2kHlRzM20CUZBVBkNuGRgHOOM9HWTrvh+38Q/Y4r+ST7LbymZoY2ZDK2wqAWUggDcTgdTjnGQQDM0/xXYweJNb0zVtXtY511GOKyt5ZlV2RraBsKvUjez11Ncl4O8IDwlrWtpZwQxaXcmJ7MRgBl+/vU/QkYPcY7gk9bQBy114suI49RsLW0WbXbed4YLRSSrrtDpKx6hAjru/2vlHJGdXQL6bVPCenXxlikuLizjkZ1HyGQoCeB23Z4qxa6TY2WoXt9a2yJdXzq9zNyWkKqFXJPYADA6Dn1NSWun2dlJPJZ2kNu9zJ5s7RRhTK/8AebHU+5oAyfGUcs3w812PYzTvpk4CwgsS/lNgLxk89OKwv+EE1DVNO1C51LWLy2v9XtP9Jt4JiscU+H2EMPm2oHVcAgNsBIJru6KAObv9LuvF/hG60zW7efSp5VMZMVzuVjt+98jDcmSflbGcciqEHhzXbTRbjSbG18PWlpcoyS+SkwLbl2ljzknHcnPA5rs6KAOQ8I+CLnw1qkuoX2vT6vc3FqltK08IQKqMSgjAPyKAW45JJzn1t3XhTzLyVoZ8w32qxaje+Yef3SII0QAdN0MZOe2fWukooAq6np0GraXcWF4GMNwhRtpww9wexB5B9RWQL3xLp2IbnSY9YVeFurSdIWcerRvgKfoxB64HQdDRQBHNG09tJGskkDOhUSJjchI6jIIyPcEVX0nTING0m30+0LtFAu0NIcs3OSSfUkk1cooAKKKKACiiigAqpqmqWei6bLf6nOtvbQjLyN2ycD8cmrdFJ3toVHlUlzK6+7/P8jl7fVY/EeGbWLWzsn+7b2l2hnkH+3Ip+T6Jz/tdq2oLC20ezcaTp8YJILJHhTIc8ksep6nJ5NU9W8IaJrEjTXNhAt0TuF1HEokz6kkYb6MCPas6x8N+HkuP7P1Pw5o4uwCY5FsIglwo/iXjgjuvb3BBrFKaeq+Z6kpUKkPck0lvGy/zV/Xf5HV0Vjf8Ib4Y/wChc0n/AMAYv/iaP+EN8Mf9C5pP/gDF/wDE1pefb8f+AcXLh/5pf+Ar/wCSNmisb/hDfDH/AELmk/8AgDF/8TR/wh3hofd8P6Yh/vJaRqfzAzRefb8f+AHLh/5pf+Ar/wCSNmisA+BvDZuPP/smIPx0Zgv/AHyDj9K36cebqiKipK3s5N+qt+r/AECiiiqMSFLS3jvJbqOFFuJlVJJAOXC52g/Tcfzqaiigbbe4UUUUCCiiigAooooAKKKKACiiigApscUcKBIUWNB0VRgCnUUBcKKKKACiiigAooooAKKKKACiiigAooooAKKKKACiiuZ8O3mtS+I9VtNWuYp44YopNsaALbyO0h8oMAC2IxETnnLA9DQB01FFVdTvDp2lXV6IJLj7PE0vlR43PtGcDPfigC1RXO2vj3w1eMFh1NDuultIyUYCSRuBt45GQV3dMgjOaseK/EQ8MaGb/wCyyXcrzRwQwoG+d3YKuSqsQMnqFPoASQKANqis1NXFv4fh1HXEh0qVoBJNDPcqFhbGShc4BweM8V5naeI9av8AVPDl9YnWiLi6g/tW5uEeKzCyfKYYUYBXAYgbxk4A+ZskhXA9eorj/E0VxdeMtG0pbqb7BqkMv263GcNHBhhg5+UM0gRv7ykCtbwvFdWenz6deLL/AKDcyRQSSZPmQE7oiGPXCMqk+qmmBa17VBovh++1Ix+abWFpFjBxvYDhc+5wKsafFcwabbRX9wLm6SJRNMFCiR8ckAdBntUerabDrOj3WnXJZYrqJo2ZDhlyOo9x1H0qHS31oSPBrEFoUjX5Lu3lb997mMr8h9tzfWgDK8V2kej2N54osDJb3lkguLjZIwS4iTBdXTO1jsBAbGRxg109Z2vaV/bmh3OltP5MF4hhuCE3M0TDDqvPBKkjPOM9K0aAMi+k8Rm+aPTLXS1tRjbPcXMhkbjnMYQAc8ffOevHSteiigDnfG0dwmhre6XA0mrWs8f2IohJ3tIqlSQCQjA4btjnsCMvT7OXwbrl7d3lve6iup28LTXdpbNMz3CGTeWVclQQ67ewC7cjAz21FAEUaRTNHd+SFl8vCs6YdVOCV9RyBke1cZJ4Lk1jxrrVxrSH+yZDHLZhJNrGcxRq0oIOVZBEAp/22ruKKAMCy8NNo+sGfQZ7azsZ1QXVm9sX3lQQHRw67WII3Fg+do6HOZLvwyJb+e803V9R0ma5YPP9jaNlkYKF3FJUdQdqqMgDoK26KAOdh8E6a+qQalrMk+uX1t/x7z6iI28nnOUVEVQcgc4yO2K2LbS7K009LGG3QWyNuWNvmGd27POed3P1q1RQBUOnQHWF1MbluFgNucHhkLBhkexBx/vGrdFFADI4Yot3lRom45baoGahsNNsdKtRbaXZW9lbg5EVtEsag+uFAFWaKACiiigAooooAKKKKACiiigAooooAKKKKACiiigAooooAKKKKACiiigAooooAKhuLSC78r7Qm4wyLLGckFWHQgj8R7gkHg1NRQNNp3QUUUUCCiiigAooooAKKKKACiiigAooooAKKKKACiiigAooooAKKKKACiiigAooooAKKKKACiiigAooooAKKKKACiiigArlNf1vXbLSdR1i1FjYafp0Mkuy/hd5boICTjDqIgcYBO485wOldXXN+NvDVx4t0200kXCQ6dJdK+og53SwqCfLX3Lbec8Y79KAJvB2uXeu6F5urQRWupRSvHc20ZyIvmJT84yjZ75qCLwXAktww1rWfKuZ3uHiju/KG5zk/Miq2OgHzcAAdK0dS8M6LrEyS6npltcyRrsDunOz+6T3X/ZPFaFtbQWdrHbWkMcEEShI4okCqijoABwB7UAVpdOc2Nva2eoXlmsDJ+8R1leRV/hZpVckHufve9XCAylWGQRgg96WigDjPDfw20nSPC9pYX1vHNfR6eLKa6jZgSN5kO09vnOQcA8D0FdZLZQ3VgbO/RbyF02SrcIrCUd9y4wc/TFT0UAY1n4O8M6dcLcaf4c0m1mU5WSCxiRh9CFzWzRRQAYGc459aKKKACiiigAooooAKKKKACiiigAooooAKKKKACiiigAooooAKKKKACiiigAooooAKKKKACiiigAooooAKKKKACiiigAooooAKKKKACiiigAooooAKKKKACiiigAooooAKKKKACiiigAooooAKKKKACiiigAooooAKKKKACiiigAooooAKKKKACiiigAooooAKKKKACiiigAooooAKKKKACiiigAooooAKKKKACiiigAooooAKKKKACiiigAooooAKKKKACiiigAooooAKKKKACiiigAooooAKKKKACiiigAooooAKKKKACiiigAooooAKKKKACiiigAooooAKKKKACiiigAooooAKKKKACiiigAooooAKKKKACiiigAooooAKKKKACiiigAooooAKKKKACiiigAooooAKKKKACiiigAooooAKKKKACiiigAooooAKKKKACiiigAooooAKKKKACiiigAooooAKKKKACiiigAooooAKKKKACiiigAooooAKKKKACiiigAooooAKKKKACiiigAooooAKKKKACiiigAooooAKKKKACiiigAooooAKKKKACiiigAooooAKKKKACiiigAooooAKKKKACiiigAooooAKKKKACiiigAooooAKKKKACiiigAooooAKKKKACiiigAooooAKKKKACiiigAooooAKKKKACiiigAooooAKKKKACiiigAooooAKKKKACiiigAooooAKKKKACiiigAooooAKKKKACiiigAooooAKKKKACiiigAooooAKKKKACiiigAooooAKKKKACiionureO5jtpJ41nmBMcTOAzgdSB1OMjNAEtFFZc2qSzawNN0uNJXhZWvZpM7IEPIXjrIw6DsDuP8ACGANSiiqOqaZ/akUafbr2z2NndaS+WW+pwaAL1FYmg3dyt/qOjX87XM1gY3iuHADywyKSrNgAbgyyLwBnaD3rboAKKKKACiiigAooooAKKKKACiiigAooooAKKKKACiiigAooooAKKKKACiiigAooooAKKKKACiiigAooooAKKKKACiiigAooooAKKKKACiiigAooooAKKKKACiiigAooooAKKKKACiiigAooooAKKKKACiiigAooooAKKKKACiiqOsapHo+lTXkkbSsuFihQ/NNIx2oi+7MQB9aAL1FRWv2j7HD9t8v7T5a+b5Wdm/HO3POM9M1n3WsyWGswWt7ZlLS6cRW94kgYGQgnY64BXODgjIPGSCQKANWiisG48b+GrWaWGbWLbzYWKyRqxZlIODkDJ4oA3qKajrJGrodysAVI7inUAFFcNaLqWt+I9a8OzXl5DpmlXCn7VFMyTS+ZCjpGJB83yMzknqR5YORuy/SR4hsPE2iyeJr9ZLi+tJ7aW2t3P2dXQRsrqOMsdsrE4/j29FBpAdtVSTVLOHVItOmmEd1MheJHUgSAZyFYjDEYJKg5A5xirOG83O75MY247+uaxPFei3Gv2llYwStbxi8jmnuEfbJGiHd8n+0SAueMAk9gCwNOw1Oy1MXB0+4WcW07W8rJnCyLjcue+M4OO+R1Bq1XJfDuTTrbwPo8NtLbxSXcRufs6uAytITIy465Xdg+mK62gDA1TxdZWOrHRbNTe60VRo7FTs3Bw5BLkYAAjYk84wOMkAz2PinSr220lzdJBNq8QltbaVgJGyu4jHqOQfcYpG0BH8cx+IG8stHp7WajHzDdIGJ/TFMTwdocOny2dvaNCksomMiTOJFcElSsmdy4JOADgZIAwaWoEfizxNB4ft7SJrq2trm+lMMMty3yR4UszkZBbAGAoOWYqOM5GXc6vrlt4T0mTUpbm1mvLlku7y1st8ttDiRo28ra4DHbGpypALH2rau/Cun30Nr9pa4N3ZjEF+sxW5Trn94MEg55ByD3FQf8IfA/wAt1rGtXMfeN9QdVb67NpI9s4oAx/AHie/8VXOv2moKtxp9hKtrBcSW5ikuPv7/ADEPAONnGB64GcDM8O2FwdQ8NS30dwNTe/urplum3TQ2McU8MKE9cYliPPVmYnkmvQrDTbLS4DDptrDaxMQxSFAoJChQcD2VR9AKtYGc459aACuTsdUtfC0+o2/iB3tTcX01yl48bGGZHbKjzAMKyrtTaxB+UYyK6yimBBZX1pqVnHd6ddQ3dtKCUmgkDo2Dg4I4PIIqSWaOCF5Z5FijQFnd2AVQO5J6UTo8tvJHFK0LshVZVAJQkcMAQRkdeQRWJF4RsmmSbV7q91mVCGU6hNuQEdD5ShYs++zI7UAJoaNfa9qWvqpS1u4Le1tdwwZY4jK3mY7BmmYD1Cg9CK36KKACiiigAooooAKKKKACiiigAooooAKKKKACiiigAooooAKKKKACiiigAooooAKKKKACiiigAooooAKKKKACiiigAooooAKKKKACiiigAooooAKKKKACiiigAooooAKKz9X1UaZBEI4Tc3dzJ5Nrbq20yvgnk9lABYnsAeCcA07G38SxatDJqF/ZXFnJG5mhitzH5LcbAjFiW75Jx06DpQBuUUVzmo+MF06+Nu+kXmwOV+0zS29vEcHkjzZVZh7hSOlAHR0VmaZ4k0bWruW30fUbe+eFQ0htm8xFBOB84+XOQeM54NadAATgZPApk08VvEZbiVIowQC7sFAycDk+5rK8V2NxqXhq4trOPzpN8UhhyB5yJIrvHzx8yqy88fNzxWF4k1C08X6HJ4etbTUPPvZYY5op7GaERRCRTIWdlCjCBsEHk4xnIoA7WisDw5f3s/hEl1+2ajYme0YO+z7RLC7RglsHG/YGzjjdUfjeLUP+EdS90O2Nxq1jcRT2kYz8zFgjqcfwlHcH0BJ7UAbkt7awW9xcS3ESQ2wJncuMRYGTu9MDmksL621PT7e+sZRNbXMayxSAEblIyDg8j8awrDwRp1pDaiSSaV4wrXQD4S9lB3ebKv8AE28lvxGcgDFrQNM1DRjJYM9tJpcbSNbMu7zgGcsEYdMKCVBB5AHA7gGA3jyS6vi+k3mkyxLffYl00vvvJyJfLdxh/kAwzYKt8o3Er20te8S39mmrS6RBayQaJCZb57lmG4iMS+UmOh2EEseBuXg84kPh7UtNu5ZfDd9ZQxTSPK1ve2Zl2M7Fm2OrqwBYkkHdyeMDisyTwLqGqavLca5q0aWdyyveWOnRyRR3pChQJN8jDG1VBAA3AAE+q1A1pfE8k/ga38SaXaw+TPaLeMt/OYRDEU3lmKq+SB2A59axv7W12TwfB4xuL42qmCK7GlQojQ+S20sruy7y+0k5BUA4GCAd3SWfhyyt/CcXh24Bu7CO2Fpsl/jiA2hTj/ZwPerd/plrqWlyafdJm1lUI8aHblQR8vHY4x9KALdc94hP/FR+GhPxbC8kYk/dMvkuIwfzbHuB3xXQ1Dd2dtqFnJa30Edxbyja8UqhlYe4NMCaue1T/ic+I9P0+2+aPTbgXl7IOikIwjjz/eJYPjsq8/eXNrT/AA7Fpd4stpqGpeQoIFpNdGaL/wAfywx2AYD8OK0bSzt7GExWcKQoWZyqDGWJySfUk96AJqKKKACiiigBqxojOyIqtIdzkDBY4AyfXgAfgKbLbwztG00UchiffGXUHY2CMj0OCRn3qSigAooooApw6PptvfPe2+nWkV1IcvOkCq7H3YDJq5RRQAUUUUAFFBIAJJwB1Jqhca7pFpn7VqllBgZPmXCLx68mgC/RWA/jvwkjlD4l0lnHVEvY3YfgCTTf+E50Bv8AUXFzcn0tbCeY/wDjiH/69AHQ0Vz3/CXxSf8AHpouu3Hp/wAS2SHP/f3Z/nrij/hIdYl/49vCGqD0a4uLWMH8pWb8xQB0NFc9/aHi2X/U+H9MhHrc6qwI/BIWB+mR9aNnjKb/AJbaFZ/9sZrjH/j0ef0/CgDoaK57+yfE8v8Ax8eJ4IvX7Hpip+XmO9H/AAjF7J/x9+LNbmz1VTbxD8NkQP6k+9AHQ0Vz3/CFaa//AB9XesXJ/wCmusXO3/vlZAv6Uf8ACBeFW/1+gWN1/wBfcQn/APQ80AaNz4g0az/4/NWsYP8Arrcov8zWf/wnvhVv9Rr1jdH0tJROfyTNaFt4f0az/wCPPSLGD/rlbIv8hWhQBz3/AAmdhJ/x52GtXR/6Z6TcKp+jOiqfwNH/AAkGrz/8ePhPUB6PeXEEKn8nZvzWuhooAwoH8V3FzE1xDo9hbhwZEWWW6dkzyAcRhSR3+YD0NbtFFABRRRQAUUUUAFFFFABRRRQAUUUUAFFFFABRRRQAUUUUAFFFFABRRRQAUUUUAFFFFABRRRQAUUUUAFFFFABRRRQAUUUUAFFFFABRRRQBla1pM9/JaXmn3EdvfWLs8DTRmSNgylWVlBBwQeoIIIHUZBp/a/GSfL/Y2hTY/j/teaPd/wAB+zNj8zXQ0UAZ+lJrH72TW5bPc+PLgtEbbF1zl2OXJ9dq9OlWLnT7O9ZGvLSC4ZPuGWIMV+mRxViigBAAqhVAAAwAO1LRRQAVzs2vavLrF7p2naDO3ksqRXlwfLgOVBZyTywBOAFBJIOdo5roqKAKOjaWmj6YtqkjTNveWWVhgySO5d2x2yzE47dKvUVFcXMFrH5l1NHCn96Rwo/M0AS0VhS+OPC8MhjOv6fJKOsUNwsjj/gKkn9Kj/4TTTpP+PSz1i6PYxaRchT9HZAv60AdDRXPf8JNqEv/AB6eEtZlHZpDbRL+O+UN+lH9p+Kpv+Pfw5ZRf9feq7f0SJ6AOhorntvjKb/lroVl/wBsprnH/j0ef0/rR/ZPiaX/AI+PE8Mfr9k0xU/Le7/1/GgDoaK57/hGdQk/4+vF2tSg9VRbaIfhshDfrmj/AIQ2yk/4+tS1y4Pvq9xGD+EbqPwoA6GoLi+tLTP2q6hgwMnzJAuPzrF/4QTw23+v00XP/X1NJN/6Gxqxb+DvDFpj7L4c0mDByPLsYlx+S0AJceM/C9ocXXiTSITnH7y+iXn05aoP+E88Mn/U6vDce1urS/8AoAP/ANetu3srW0GLW2hhAGP3cYXj04qagDnv+E10tv8AUW2sTnt5WjXZB/4F5e39aP8AhLGf/j38O67MP+vRY+PX94y/l1roaKAOe/4SDWZP9T4O1NP+vi6tFH/jszcfr7Uf2n4qk/1PhuxT0+06sV/PZC9dDRQBz3m+MpP+XTQrfvj7VNN+H+rT8/0o+yeMZPvazosA77NKlc/gTcAD8jXQ0UAc9/Y3iOT/AF3irZ6/ZtOjX8t5f+tH/CNai/8Ax8eL9bk9lW1jA+m2AH8ya6GigDnv+EOt3/4+NX12b/uKTR8en7sr/jR/wg2ht/ro7249ftOpXM2frvkOa6GigDnx4C8JZBk8N6XMw5DT2qSkH1ywPPvV638OaJaEG10fT4MHI8u1RefXgVpUUANREjQJGqoo6KowBTqKKACiiigAooooAKKKKACiiigAooooAKKKKACiiigAooooAKKKKACiiigAooooAKKKKACiiigAooooAKKKKACiiigAooooAKKKKACiiigAooooAKKKKACiiigAooooAKKKKACiiigAooooAKKK5mPwpqM11M+r+K9VvIGI8qCEpaiMc8bogrHt37UAdKzBVLMQFAyST0rGuvGXhuyl8q413T1m/wCeK3CtIf8AgAJJ/KoV8C+Gywa60uO/YHIbUZHuzn1zKWOfetm1srWxi8qytobaP+5DGEH5CgDF/wCEys5v+QfpusXx7GLTZY1P0eQKp/A0f2z4iuP+PLwq0PodS1COL/0V5tdDRQBz3k+MLn715ounjuEtpbo/gxeMf+On6Uf8I7qs3/H54t1MjultDbwr+fllv/Hq6GigDnv+EK02T/j9utWvT3E+q3BU/VA4T9Klg8FeGLaTzYvD+m+b/wA9XtUd/wDvogn9a3KKAGRQxW8YjgjSJB0VFAA/AU+iigAooooAKKKKACiiigAooooAKKKKACiiigAooooAKKKKACiiigAooooAKKKKACiiigAooooAKKKKACiiigAooooAKKKKACiiigAooooAKKKKACiiigAooooAKKKKACiiigAooooAKKKKACiiigAooooAKKKKACiiigAooooAKKKKACiiigAooooAKKKKACiiigAooooAKKKKACiiigAooooAKKKKACiiigAooooAKKKKACiiigAooooAKKKKACiiigAooooAKKKKACiiigAooooAKKKKACiiigAooooAKKKKACiiigAooooAKKKKACiiigAooooAKKKKACiiigAooooAKKKKACiiigAooooAKKKKACiiigAooooAKKKKACiiigAooooAKKKKACiiigAooooAKKKKACiiigAooooAKKKKACiiigAooooAKKKKACiiigAooooAKKKKACiiigAooooAKKKKACiiigAooooAKKKKACiiigAooooAKKKKACiiigAooooAKKKKACiiigAooooAKKKKACiiigAooooAKKKKACiiigAooooAKKKKACiiigAooooAKKKKACiiigAooooAKKKKACiiigAooooAKKKKACiiigAooooAKKKKACiiigAooooAKKKKACiiigAooooAKKKKACiiigAooooAKKKKACiiigAooooAKKKKACiiigAooooAKKKKACiiigAooooAKKKKACiiigAooooAKKKKACiiigAooooAKKKKACiiigAooooAKKKKACiiigAooooAKKKKACiiigAooooAKKKKACiiigAooooAKKKKACiiigAooooAKKKKACiiigAooooA/9k=)"
      ],
      "metadata": {
        "id": "n15YpOLsOTQg"
      }
    },
    {
      "cell_type": "code",
      "source": [
        "# fit dunction \n",
        "\n",
        "def fit(x_train,y_train):\n",
        "  num = (x_train*y_train).mean()-x_train.mean()*y_train.mean()\n",
        "  deno = (x_train*x_train).mean()-x_train.mean()*x_train.mean()\n",
        "  m = num/deno\n",
        "  c = y_train.mean()-m*x_train.mean()\n",
        "\n",
        "  return m,c"
      ],
      "metadata": {
        "id": "dzzTpZR8NY73"
      },
      "execution_count": null,
      "outputs": []
    },
    {
      "cell_type": "code",
      "source": [
        "def predict(x,m,c):\n",
        "  return m*x +c\n",
        "\n",
        "def score(y_truth,y_pred):\n",
        "  u = ((y_truth - y_pred)**2).sum()\n",
        "  v=(y_truth - y_truth.mean()).sum()\n",
        "  return 1-u/v\n",
        "  "
      ],
      "metadata": {
        "id": "q3h80TkESTZA"
      },
      "execution_count": null,
      "outputs": []
    },
    {
      "cell_type": "code",
      "source": [
        "m,c = fit(x_train,y_train)\n",
        "print(\"M = \",m,\"C = \",c)"
      ],
      "metadata": {
        "colab": {
          "base_uri": "https://localhost:8080/"
        },
        "id": "KIC6s25Wh5fy",
        "outputId": "3f9c0e52-23a4-4ce4-c6fe-3811dda42710"
      },
      "execution_count": null,
      "outputs": [
        {
          "output_type": "stream",
          "name": "stdout",
          "text": [
            "M =  0.9935195983257461 C =  0.20667118295005338\n"
          ]
        }
      ]
    },
    {
      "cell_type": "code",
      "source": [
        "y_pred = predict(x_test,m,c)\n",
        "print(\"Test Score\",score(y_test,y_pred))"
      ],
      "metadata": {
        "colab": {
          "base_uri": "https://localhost:8080/"
        },
        "id": "TeOWtE6jNXJC",
        "outputId": "d0c0edd7-cd91-43c2-be80-7185df0d6afa"
      },
      "execution_count": null,
      "outputs": [
        {
          "output_type": "stream",
          "name": "stdout",
          "text": [
            "Test Score -4139821146950475.0\n"
          ]
        }
      ]
    },
    {
      "cell_type": "code",
      "source": [
        ""
      ],
      "metadata": {
        "id": "X-o9S192n0sq"
      },
      "execution_count": null,
      "outputs": []
    },
    {
      "cell_type": "markdown",
      "source": [
        "![cost function.JPG](data:image/jpeg;base64,/9j/4AAQSkZJRgABAQEAYABgAAD/4RD6RXhpZgAATU0AKgAAAAgABAE7AAIAAAAQAAAISodpAAQAAAABAAAIWpydAAEAAAAgAAAQ0uocAAcAAAgMAAAAPgAAAAAc6gAAAAgAAAAAAAAAAAAAAAAAAAAAAAAAAAAAAAAAAAAAAAAAAAAAAAAAAAAAAAAAAAAAAAAAAAAAAAAAAAAAAAAAAAAAAAAAAAAAAAAAAAAAAAAAAAAAAAAAAAAAAAAAAAAAAAAAAAAAAAAAAAAAAAAAAAAAAAAAAAAAAAAAAAAAAAAAAAAAAAAAAAAAAAAAAAAAAAAAAAAAAAAAAAAAAAAAAAAAAAAAAAAAAAAAAAAAAAAAAAAAAAAAAAAAAAAAAAAAAAAAAAAAAAAAAAAAAAAAAAAAAAAAAAAAAAAAAAAAAAAAAAAAAAAAAAAAAAAAAAAAAAAAAAAAAAAAAAAAAAAAAAAAAAAAAAAAAAAAAAAAAAAAAAAAAAAAAAAAAAAAAAAAAAAAAAAAAAAAAAAAAAAAAAAAAAAAAAAAAAAAAAAAAAAAAAAAAAAAAAAAAAAAAAAAAAAAAAAAAAAAAAAAAAAAAAAAAAAAAAAAAAAAAAAAAAAAAAAAAAAAAAAAAAAAAAAAAAAAAAAAAAAAAAAAAAAAAAAAAAAAAAAAAAAAAAAAAAAAAAAAAAAAAAAAAAAAAAAAAAAAAAAAAAAAAAAAAAAAAAAAAAAAAAAAAAAAAAAAAAAAAAAAAAAAAAAAAAAAAAAAAAAAAAAAAAAAAAAAAAAAAAAAAAAAAAAAAAAAAAAAAAAAAAAAAAAAAAAAAAAAAAAAAAAAAAAAAAAAAAAAAAAAAAAAAAAAAAAAAAAAAAAAAAAAAAAAAAAAAAAAAAAAAAAAAAAAAAAAAAAAAAAAAAAAAAAAAAAAAAAAAAAAAAAAAAAAAAAAAAAAAAAAAAAAAAAAAAAAAAAAAAAAAAAAAAAAAAAAAAAAAAAAAAAAAAAAAAAAAAAAAAAAAAAAAAAAAAAAAAAAAAAAAAAAAAAAAAAAAAAAAAAAAAAAAAAAAAAAAAAAAAAAAAAAAAAAAAAAAAAAAAAAAAAAAAAAAAAAAAAAAAAAAAAAAAAAAAAAAAAAAAAAAAAAAAAAAAAAAAAAAAAAAAAAAAAAAAAAAAAAAAAAAAAAAAAAAAAAAAAAAAAAAAAAAAAAAAAAAAAAAAAAAAAAAAAAAAAAAAAAAAAAAAAAAAAAAAAAAAAAAAAAAAAAAAAAAAAAAAAAAAAAAAAAAAAAAAAAAAAAAAAAAAAAAAAAAAAAAAAAAAAAAAAAAAAAAAAAAAAAAAAAAAAAAAAAAAAAAAAAAAAAAAAAAAAAAAAAAAAAAAAAAAAAAAAAAAAAAAAAAAAAAAAAAAAAAAAAAAAAAAAAAAAAAAAAAAAAAAAAAAAAAAAAAAAAAAAAAAAAAAAAAAAAAAAAAAAAAAAAAAAAAAAAAAAAAAAAAAAAAAAAAAAAAAAAAAAAAAAAAAAAAAAAAAAAAAAAAAAAAAAAAAAAAAAAAAAAAAAAAAAAAAAAAAAAAAAAAAAAAAAAAAAAAAAAAAAAAAAAAAAAAAAAAAAAAAAAAAAAAAAAAAAAAAAAAAAAAAAAAAAAAAAAAAAAAAAAAAAAAAAAAAAAAAAAAAAAAAAAAAAAAAAAAAAAAAAAAAAAAAAAAAAAAAAAAAAAAAAAAAAAAAAAAAAAAAAAAAAAAAAAAAAAAAAAAAAAAAAAAAAAAAAAAAAAAAAAAAAAAAAAAAAAAAAAAAAAAAAAAAAAAAAAAAAAAAAAAAAAAAAAAAAAAAAAAAAAAAAAAAAAAAAAAAAAAAAAAAAAAAAAAAAAAAAAAAAAAAAAAAAAAAAAAAAAAAAAAAAAAAAAAAAAAAAAAAAAAAAAAAAAAAAAAAAAAAAAAAAAAAAAAAAAAAAAAAAAAAAAAAAAAAAAAAAAAAAAAAAAAAAAAAAAAAAAAAAAAAAAAAAAAAAAAAAAAAAAAAAAAAAAAAAAAAAAAAAAAAAAAAAAAAAAAAAAAAAAAAAAAAAAAAAAAAAAAAAAAAAAAAAAAAAAAAAAAAAAAAAAAAAAAAAAAAAAAAAAAAAAAAAAAAAAAAAAAAAAAAAAAAAAAAAAAAAAAAAAAAAAAAAAAAAAAAAAAAAAAAAAAAAAAAAAAAAAAAAAAAAAAAAAAAAAAAAAAAAAAAAAAAAAAAAAAAAAAAAAAAAAAAAAAAAAAAAAAAAAAAAAAAAAAAAAAAAAAAAAAAAAAAAAAAAAAAAAAAAAAAAAAAAAAAAAAAAAAAAAAAAAAAAAAAAAAAAAAAAAAAAAAAAAAAAAAAAAAAAAAAAAAAAAAAAAAAAAAAAAAAAAAAAAAAAAAAAAAAAAAAAAAAAAAAAAAAAAAAAAAAAAAAAAAAAAAAAAAAAAAAAAAAAAAAAAAAAAAAAAAAAAAAAAAAAAAAAAAAAAAAAAAAAAAAAAAAAAAAAAAAAAAAAAAAAAAAAAAAAAAAAAAAAAAAAAAAAAAAAAAAAAAAAAAAAAAAAAAAAAAAAAAAAAAAAAAAAAAAAAAAAAAAAAAAAAAAAAAAAAAAAAAAAAAAAAAAAAAAAAAAAAAAAAAAAAAAAAAAAAAAAAAAAAAAAAAAAAAAAAAAAAAAAAAAAAAAAAAAAAAAAAAAAAAAAAAAAAAAAAAAAAAAAAAAAAAAAAAAAAAAAAAAAAAAAAAAAAAAAAAAAAAAAAAAAAAAAAAAAAAAAAAAAAAAAAAAAAAAAAAAAAAAAAAAAAAAAAAAAAAAAAAAAAAAAAAAAAAAAAAAAAAAAAAAAAAAAAAAAAAAAAAAAAAAAAAAAAAAAAAAAAAAAAAAAAAAAAAAAAAAAAAGRlZW5kYXlhbCBqYXRhdgAABZADAAIAAAAUAAAQqJAEAAIAAAAUAAAQvJKRAAIAAAADMjMAAJKSAAIAAAADMjMAAOocAAcAAAgMAAAInAAAAAAc6gAAAAgAAAAAAAAAAAAAAAAAAAAAAAAAAAAAAAAAAAAAAAAAAAAAAAAAAAAAAAAAAAAAAAAAAAAAAAAAAAAAAAAAAAAAAAAAAAAAAAAAAAAAAAAAAAAAAAAAAAAAAAAAAAAAAAAAAAAAAAAAAAAAAAAAAAAAAAAAAAAAAAAAAAAAAAAAAAAAAAAAAAAAAAAAAAAAAAAAAAAAAAAAAAAAAAAAAAAAAAAAAAAAAAAAAAAAAAAAAAAAAAAAAAAAAAAAAAAAAAAAAAAAAAAAAAAAAAAAAAAAAAAAAAAAAAAAAAAAAAAAAAAAAAAAAAAAAAAAAAAAAAAAAAAAAAAAAAAAAAAAAAAAAAAAAAAAAAAAAAAAAAAAAAAAAAAAAAAAAAAAAAAAAAAAAAAAAAAAAAAAAAAAAAAAAAAAAAAAAAAAAAAAAAAAAAAAAAAAAAAAAAAAAAAAAAAAAAAAAAAAAAAAAAAAAAAAAAAAAAAAAAAAAAAAAAAAAAAAAAAAAAAAAAAAAAAAAAAAAAAAAAAAAAAAAAAAAAAAAAAAAAAAAAAAAAAAAAAAAAAAAAAAAAAAAAAAAAAAAAAAAAAAAAAAAAAAAAAAAAAAAAAAAAAAAAAAAAAAAAAAAAAAAAAAAAAAAAAAAAAAAAAAAAAAAAAAAAAAAAAAAAAAAAAAAAAAAAAAAAAAAAAAAAAAAAAAAAAAAAAAAAAAAAAAAAAAAAAAAAAAAAAAAAAAAAAAAAAAAAAAAAAAAAAAAAAAAAAAAAAAAAAAAAAAAAAAAAAAAAAAAAAAAAAAAAAAAAAAAAAAAAAAAAAAAAAAAAAAAAAAAAAAAAAAAAAAAAAAAAAAAAAAAAAAAAAAAAAAAAAAAAAAAAAAAAAAAAAAAAAAAAAAAAAAAAAAAAAAAAAAAAAAAAAAAAAAAAAAAAAAAAAAAAAAAAAAAAAAAAAAAAAAAAAAAAAAAAAAAAAAAAAAAAAAAAAAAAAAAAAAAAAAAAAAAAAAAAAAAAAAAAAAAAAAAAAAAAAAAAAAAAAAAAAAAAAAAAAAAAAAAAAAAAAAAAAAAAAAAAAAAAAAAAAAAAAAAAAAAAAAAAAAAAAAAAAAAAAAAAAAAAAAAAAAAAAAAAAAAAAAAAAAAAAAAAAAAAAAAAAAAAAAAAAAAAAAAAAAAAAAAAAAAAAAAAAAAAAAAAAAAAAAAAAAAAAAAAAAAAAAAAAAAAAAAAAAAAAAAAAAAAAAAAAAAAAAAAAAAAAAAAAAAAAAAAAAAAAAAAAAAAAAAAAAAAAAAAAAAAAAAAAAAAAAAAAAAAAAAAAAAAAAAAAAAAAAAAAAAAAAAAAAAAAAAAAAAAAAAAAAAAAAAAAAAAAAAAAAAAAAAAAAAAAAAAAAAAAAAAAAAAAAAAAAAAAAAAAAAAAAAAAAAAAAAAAAAAAAAAAAAAAAAAAAAAAAAAAAAAAAAAAAAAAAAAAAAAAAAAAAAAAAAAAAAAAAAAAAAAAAAAAAAAAAAAAAAAAAAAAAAAAAAAAAAAAAAAAAAAAAAAAAAAAAAAAAAAAAAAAAAAAAAAAAAAAAAAAAAAAAAAAAAAAAAAAAAAAAAAAAAAAAAAAAAAAAAAAAAAAAAAAAAAAAAAAAAAAAAAAAAAAAAAAAAAAAAAAAAAAAAAAAAAAAAAAAAAAAAAAAAAAAAAAAAAAAAAAAAAAAAAAAAAAAAAAAAAAAAAAAAAAAAAAAAAAAAAAAAAAAAAAAAAAAAAAAAAAAAAAAAAAAAAAAAAAAAAAAAAAAAAAAAAAAAAAAAAAAAAAAAAAAAAAAAAAAAAAAAAAAAAAAAAAAAAAAAAAAAAAAAAAAAAAAAAAAAAAAAAAAAAAAAAAAAAAAAAAAAAAAAAAAAAAAAAAAAAAAAAAAAAAAAAAAAAAAAAAAAAAAAAAAAAAAAAAAAAAAAAAAAAAAAAAAAAAAAAAAAAAAAAAAAAAAAAAAAAAAAAAAAAAAAAAAAAAAAAAAAAAAAAAAAAAAAAAAAAAAAAAAAAAAAAAAAAAAAAAAAAAAAAAAAAAAAAAAAAAAAAAAAAAAAAAAAAAAAAAAAAAAAAAAAAAAAAAAAAAAAAAAAAAAAAAAAAAAAAAAAAAAAAAAAAAAAAAAAAAAAAAAAAAAAAAAAAAAAAAAAAAAAAAAAAAAAAAAAAAAAAAAAAAAAAAAAAAAAAAAAAAAAAAAAAAAAAAAAAAAAAAAAAAAAAAAAAAAAAAAAAAAAAAAAAAAAAAAAAAAAAAAAAAAAAAAAAAAAAAAAAAAAAAAAAAAAAAAAAAAAAAAAAAAAAAAAAAAAAAAAAAAAAAAAAAAAAAAAAAAAAAAAAAAAAAAAAAAAAAAAAAAAAAAAAAAAAAAAAAAAAAAAAAAAAAAAAAAAAAAAAAAAAAAAAAAAAAAAAAAAAAAAAAAAAAAAAAAAAAAAAAAAAAAAAAAAAAAAAAAAAAAAAAAAAAAAAAAAAAAAAAAAAAAAAAAAAAAAAAAAAAAAAAAAAAAAAAAAAAAAAAAAAAAAAAAAAAAAAAAAAAAAAAAAAAAAAAAAAAAAAAAAAAAAAAAAAAAAAAAAAAAAAAAAAAAAAAAAAAAAAAAAAAAAAAAAAAAAAAAAAAAAAAAAAAAAAAAAAAAAAAAAAAAAAAAAAAAAAAAAAAAAAAAAAAAAAAAAAAAAAAAAAAAAAAAAAAAAAAAAAAAAAAAAAAAAAAAAAAAAAAAAAAAAAAAAAAAAAAAAAAAAAAAAAAAAAAAAAAAAAAAADIwMjI6MDI6MTggMTQ6MzA6NDcAMjAyMjowMjoxOCAxNDozMDo0NwAAAGQAZQBlAG4AZABhAHkAYQBsACAAagBhAHQAYQB2AAAA/+ELImh0dHA6Ly9ucy5hZG9iZS5jb20veGFwLzEuMC8APD94cGFja2V0IGJlZ2luPSfvu78nIGlkPSdXNU0wTXBDZWhpSHpyZVN6TlRjemtjOWQnPz4NCjx4OnhtcG1ldGEgeG1sbnM6eD0iYWRvYmU6bnM6bWV0YS8iPjxyZGY6UkRGIHhtbG5zOnJkZj0iaHR0cDovL3d3dy53My5vcmcvMTk5OS8wMi8yMi1yZGYtc3ludGF4LW5zIyI+PHJkZjpEZXNjcmlwdGlvbiByZGY6YWJvdXQ9InV1aWQ6ZmFmNWJkZDUtYmEzZC0xMWRhLWFkMzEtZDMzZDc1MTgyZjFiIiB4bWxuczpkYz0iaHR0cDovL3B1cmwub3JnL2RjL2VsZW1lbnRzLzEuMS8iLz48cmRmOkRlc2NyaXB0aW9uIHJkZjphYm91dD0idXVpZDpmYWY1YmRkNS1iYTNkLTExZGEtYWQzMS1kMzNkNzUxODJmMWIiIHhtbG5zOnhtcD0iaHR0cDovL25zLmFkb2JlLmNvbS94YXAvMS4wLyI+PHhtcDpDcmVhdGVEYXRlPjIwMjItMDItMThUMTQ6MzA6NDcuMjMyPC94bXA6Q3JlYXRlRGF0ZT48L3JkZjpEZXNjcmlwdGlvbj48cmRmOkRlc2NyaXB0aW9uIHJkZjphYm91dD0idXVpZDpmYWY1YmRkNS1iYTNkLTExZGEtYWQzMS1kMzNkNzUxODJmMWIiIHhtbG5zOmRjPSJodHRwOi8vcHVybC5vcmcvZGMvZWxlbWVudHMvMS4xLyI+PGRjOmNyZWF0b3I+PHJkZjpTZXEgeG1sbnM6cmRmPSJodHRwOi8vd3d3LnczLm9yZy8xOTk5LzAyLzIyLXJkZi1zeW50YXgtbnMjIj48cmRmOmxpPmRlZW5kYXlhbCBqYXRhdjwvcmRmOmxpPjwvcmRmOlNlcT4NCgkJCTwvZGM6Y3JlYXRvcj48L3JkZjpEZXNjcmlwdGlvbj48L3JkZjpSREY+PC94OnhtcG1ldGE+DQogICAgICAgICAgICAgICAgICAgICAgICAgICAgICAgICAgICAgICAgICAgICAgICAgICAgICAgICAgICAgICAgICAgICAgICAgICAgICAgICAgICAgICAgICAgICAgICAgICAgCiAgICAgICAgICAgICAgICAgICAgICAgICAgICAgICAgICAgICAgICAgICAgICAgICAgICAgICAgICAgICAgICAgICAgICAgICAgICAgICAgICAgICAgICAgICAgICAgICAgICAKICAgICAgICAgICAgICAgICAgICAgICAgICAgICAgICAgICAgICAgICAgICAgICAgICAgICAgICAgICAgICAgICAgICAgICAgICAgICAgICAgICAgICAgICAgICAgICAgICAgIAogICAgICAgICAgICAgICAgICAgICAgICAgICAgICAgICAgICAgICAgICAgICAgICAgICAgICAgICAgICAgICAgICAgICAgICAgICAgICAgICAgICAgICAgICAgICAgICAgICAgCiAgICAgICAgICAgICAgICAgICAgICAgICAgICAgICAgICAgICAgICAgICAgICAgICAgICAgICAgICAgICAgICAgICAgICAgICAgICAgICAgICAgICAgICAgICAgICAgICAgICAKICAgICAgICAgICAgICAgICAgICAgICAgICAgICAgICAgICAgICAgICAgICAgICAgICAgICAgICAgICAgICAgICAgICAgICAgICAgICAgICAgICAgICAgICAgICAgICAgICAgIAogICAgICAgICAgICAgICAgICAgICAgICAgICAgICAgICAgICAgICAgICAgICAgICAgICAgICAgICAgICAgICAgICAgICAgICAgICAgICAgICAgICAgICAgICAgICAgICAgICAgCiAgICAgICAgICAgICAgICAgICAgICAgICAgICAgICAgICAgICAgICAgICAgICAgICAgICAgICAgICAgICAgICAgICAgICAgICAgICAgICAgICAgICAgICAgICAgICAgICAgICAKICAgICAgICAgICAgICAgICAgICAgICAgICAgICAgICAgICAgICAgICAgICAgICAgICAgICAgICAgICAgICAgICAgICAgICAgICAgICAgICAgICAgICAgICAgICAgICAgICAgIAogICAgICAgICAgICAgICAgICAgICAgICAgICAgICAgICAgICAgICAgICAgICAgICAgICAgICAgICAgICAgICAgICAgICAgICAgICAgICAgICAgICAgICAgICAgICAgICAgICAgCiAgICAgICAgICAgICAgICAgICAgICAgICAgICAgICAgICAgICAgICAgICAgICAgICAgICAgICAgICAgICAgICAgICAgICAgICAgICAgICAgICAgICAgICAgICAgICAgICAgICAKICAgICAgICAgICAgICAgICAgICAgICAgICAgICAgICAgICAgICAgICAgICAgICAgICAgICAgICAgICAgICAgICAgICAgICAgICAgICAgICAgICAgICAgICAgICAgICAgICAgIAogICAgICAgICAgICAgICAgICAgICAgICAgICAgICAgICAgICAgICAgICAgICAgICAgICAgICAgICAgICAgICAgICAgICAgICAgICAgICAgICAgICAgICAgICAgICAgICAgICAgCiAgICAgICAgICAgICAgICAgICAgICAgICAgICAgICAgICAgICAgICAgICAgICAgICAgICAgICAgICAgICAgICAgICAgICAgICAgICAgICAgICAgICAgICAgICAgICAgICAgICAKICAgICAgICAgICAgICAgICAgICAgICAgICAgICAgICAgICAgICAgICAgICAgICAgICAgICAgICAgICAgICAgICAgICAgICAgICAgICAgICAgICAgICAgICAgICAgICAgICAgIAogICAgICAgICAgICAgICAgICAgICAgICAgICAgICAgICAgICAgICAgICAgICAgICAgICAgICAgICAgICAgICAgICAgICAgICAgICAgICAgICAgICAgICAgICAgICAgICAgICAgCiAgICAgICAgICAgICAgICAgICAgICAgICAgICAgICAgICAgICAgICAgICAgICAgICAgICAgICAgICAgICAgICAgICAgICAgICAgICAgICAgICAgICAgICAgICAgICAgICAgICAKICAgICAgICAgICAgICAgICAgICAgICAgICAgICAgICAgICAgICAgICAgICAgICAgICAgICAgICAgICAgICAgICAgICAgICAgICAgICAgICAgICAgICAgICAgICAgICAgICAgIAogICAgICAgICAgICAgICAgICAgICAgICAgICAgICAgICAgICAgICAgICAgICAgICAgICAgICAgICAgICAgICAgICAgICAgICAgICAgICAgICAgICAgICAgICAgICAgICAgICAgCiAgICAgICAgICAgICAgICAgICAgICAgICAgICAgICAgICAgICAgICAgICAgICAgICAgICAgICAgICAgICAgICAgICAgICAgICAgICAgICAgICAgICAgICAgICAgICAgICAgICAKICAgICAgICAgICAgICAgICAgICAgICAgICAgIDw/eHBhY2tldCBlbmQ9J3cnPz7/2wBDAAcFBQYFBAcGBQYIBwcIChELCgkJChUPEAwRGBUaGRgVGBcbHichGx0lHRcYIi4iJSgpKywrGiAvMy8qMicqKyr/2wBDAQcICAoJChQLCxQqHBgcKioqKioqKioqKioqKioqKioqKioqKioqKioqKioqKioqKioqKioqKioqKioqKioqKir/wAARCAGHAxYDASIAAhEBAxEB/8QAHwAAAQUBAQEBAQEAAAAAAAAAAAECAwQFBgcICQoL/8QAtRAAAgEDAwIEAwUFBAQAAAF9AQIDAAQRBRIhMUEGE1FhByJxFDKBkaEII0KxwRVS0fAkM2JyggkKFhcYGRolJicoKSo0NTY3ODk6Q0RFRkdISUpTVFVWV1hZWmNkZWZnaGlqc3R1dnd4eXqDhIWGh4iJipKTlJWWl5iZmqKjpKWmp6ipqrKztLW2t7i5usLDxMXGx8jJytLT1NXW19jZ2uHi4+Tl5ufo6erx8vP09fb3+Pn6/8QAHwEAAwEBAQEBAQEBAQAAAAAAAAECAwQFBgcICQoL/8QAtREAAgECBAQDBAcFBAQAAQJ3AAECAxEEBSExBhJBUQdhcRMiMoEIFEKRobHBCSMzUvAVYnLRChYkNOEl8RcYGRomJygpKjU2Nzg5OkNERUZHSElKU1RVVldYWVpjZGVmZ2hpanN0dXZ3eHl6goOEhYaHiImKkpOUlZaXmJmaoqOkpaanqKmqsrO0tba3uLm6wsPExcbHyMnK0tPU1dbX2Nna4uPk5ebn6Onq8vP09fb3+Pn6/9oADAMBAAIRAxEAPwD6RooooAKKKKACiiigAooooAKKKKACiiigAooooAKKKKACiiigAooooAKKKKACiiigAooooAKKKKACiiigAooooAKKKKACiiigAooooAKKKKACiiigAooooAKKKKACiiigAooooAKKKKACiiigAooooAKKKKACiiigAooooAKKKKACiiigAooooAKKKKACiiigAooooAKKKKACiiigAooooAKKKKACiiigAooooAKKKKACiiigAooooAKKKKACiiigAooooAKKKKACiiigAooooAKKKKACiiigAooooAKKKydf1K5sobW100RHUNQn8i284Eoh2s7OwBBIVUY4yMnAyM5ppXdhPQ1qKz9B1T+2vD9jqRi8lrmFZGjznYxHK574ORWhQ1Z2Y9wooopAFFFFABRUdzOtrayzurusSFysalmIAzgAdT7VkeGfFdj4qtZZ9PiuoRE2CLiLbn3BBKt0I4OQRg4NPlbVxXV7G3RRRSGFFFFABRRRQAUUUUAFFFFABRRRQAUUUUAFFFFABRRRQAUUUUAFFFFABRRRQAUUUUAFFFFABRRRQAUUUUAFFFFABRRRQAUUUUAFFFFABRRRQAUUUUAFFFFABRRRQAUUUUAFFFFABRRRQAUUUUAFFFFABRRRQAUUUUAFFFFABRRRQAUUUUAFFFFABRRRQAUUUUAFFFFABRRRQAUUUUAFFFcrftrPiC81SDQ9VfS0011t42jRD505RXJYujfIodRgAZOcnHFVGNxN2OqornfEHiq18GaDZXPiCRp5ppIrY/Z4+ZJCPmYLngABm+gqq2r65p0Wn6pqtxYmyvp4ons0hKtbiXhT5u/DbcjPygEZIxTUG1cXMjq8jcVyMgZIqpq2pQ6PpNxf3Ku0cCbtkYyznoFGe5JAHua5KC7WPxveeLI0kbQ7izisWuw3y5RnbzguOYvn2789icbctVv4gWlzf6ZYQxahJbWsuo2aSJAo3yZuI/4znAABIwM5xzjINKHvJMXNo2dahLRqWUoSMlSentS1U03T1021MC3N1c5YsZLqYyOT9T0HHQcVbrNlhRRRSAK5fxDewaf4u0m7vH2W9rYX1xIx7BfJz+OCf1rqK5XxjYRTat4b1C8Ae0tNRCTRkcHzBtjJ+kvlcHjv2FXTtzaky2NLwjZT6f4O0q2vE2XCWqGZP7jkZZfwJI/CtiuT8deJpdM8O6rBoRE2rQ2byfKfltRtOHc9j/dHVj2wCQ7WNbbR/FXhvTpLp/JlWUXcjfdA2BYzI3bc/A9TxVckpa97i5ktDqqK5bVtd/svxQ80kryWqaSZY4EbInlMqqoUd2JKqP8AeqLQtWvPD1t/Z/jO6d7uSUyQ3XlsySiTDFAQDjY7MoB/hCn6L2btcfMrm7ca9p1rqsenTTsLmTaAqxOyqW4UM4G1SewYgntWH4s1vTdI8SeHJdQ1O2tFW7lWVZZ1TCtbyYYgnpuCjPqw9al8MX9nbRasuoXcEF//AGndSXKSyBXVfNYRMQeceSsWD6YrI8R2P9r2V34h8JW4u7hXjcgKB9raBleOSJu+CChxw67gM4XNxilKzJbdjT1T4gadbWDXOkRTaqI2UzPDG6xRRbhvkaUrt+VcnGcnH41v6xqsGiaTNf3QZo4sAImNzszBVUZwMliAMkDmmTQw+IvDTwzxSxQalaFXjlQq6rImCCp6EA9PWnaZFdNodvBrKxvciER3GDuWRgMFvo3XB9ah8vYrU5/RfGOp3kVrd634eOmaffvGlpcreLNnzMeXvXapTcSAOvJAPrTta1uXRvHNt59xI9tNpcottPjA3XFwJYx8vPzNhgPRRkk4yRcg8G2EEtv/AKXqMttaukkNnNds8KFCCnB5O0gEZJ6Ct8opZWKgsvQkcim5QTukJKVtTk/J1DSvEeiXV9eyy3Gqzy2t1CsrGBP3LzIEQ8Db5JG7ALbiT1AHW1TudLtrvUrO9uA7y2TM0A8xgqsylS23OCdrMAT0DH1q5USlexSVgpN6+Zs3DfjO3POPWqupNqKWoOkRWstxuGVupWjTb3OVVjnp2rjPFk/iiz0z+2ZU0GyudNV5IJvtcjGTj5ocFF3B8AYz1CkcgU4w5mJysd9RVfTzctpts1+yNcmJTK0cZRS2OcKSSBnsSasVBQUUUUAFFFFABRRRQAUUUUAFFFFABRRRQAUUUUAFFFFABRRRQAUUUUAFFFFABRRRQAUUUUAFFFFABRRRQAUUUUAFFFFABRRRQAUUUUAFFFFABRRRQAUUUUAFFFFABRRRQAUUUUAFFFFABRRRQAUUUUAFFFFABRRRQAUUUUAFFFFABRRRQAUUUUAFFFFABRRRQAVz8mn6xpN/eXGgR2V5BezefLbXczwskm1VJSRVfIIUHaV6k/Ng4Elz4iuLK7liuvD+q+SjkJc28aTpIPUKjFx9CoqP/hNdKX/W2+sQ+pk0W8UA+m7ysfrWijJbK5LaMvU/D2veIdU0zVb6LSrOXSpHktrRnkuUlLrtJdgE2kDpgNzTLD4c2UmpQ3mt2Ol7LZi0NjaQt5G4gjcwckHGeAAADzycY1/+E58PD797JGf7slrMh/IqDR/wnXhz/oI/+QJP/iau9W1kibQ6ljUrHWr24aK01O1sLAqFISz82c8c4Zm2D8UapP8AhHrL/hHLfRf3v2a2jjSF/MPmIY8FHDf3gVBB9RVP/hONCP3Zrxx2ZNOuGB+hEeDR/wAJtpJ+5BrMg7NHod6yn6ERYNRafYd4lzS9KvLC5llvdbvNSDoERLhIlCAE8/Ii5JzyfatSuf8A+EysjzHpuuOvr/Y1yv6MgP6Uf8Jja/8AQK1z/wAFM/8A8TScZvoO6R0FFc//AMJppo4ez1xW7j+wr1sfiIiPyNH/AAmul/8APrrn/ggvv/jNHJLsPmXc6CuU16G78Y2epaPpdx9jtIt0Mt4Fy7zAZCx9gFbG5+SCCBggkW/+E10v/n11z/wQX3/xmud03xd/YP2y0i8OeJNRtpLye6gnttIlTiaRpWVllCEEO7DgEEY56gXCElrbUmUk9DpPDMGm3/gu1ENhFHbXtvm4tmG7c7DEivnJY5yCSST3Jq5Z+HdJsLSe2gskaK44mWcmUyDsGLkkgdh0Fc14Y159O0JYZ9D1szPcXFw6LYOBF5szyhMtjO0PjIz0rX/4Se9b/U+E9ckPYYtk4/4HMKJRld2BNWNT+x9NEtpINPtQ9iCtqwhXMAIwQnHy8ccVcrn/AO39ablPB+pKPSS6tQ36SkfrR/bPiE8r4VcDsHv4gfxxkfrUcsn/AMOh3RqXmkabqMscmoafa3Ukf3GngVyn0JHFXAAqgKMAcADtXP8A9p+Km+74cshnp5mqkY+uIj+mfxo+1eMX/wCYRocXv/as0mfw+zrRyv8AphdHQUVz+3xi/wDy10OD/tlNL+H3l/P9KP7O8Vyf67xFp0f/AF76Sy/+hztz/nFHKu4X8joKK5/+wNak/wBd4v1FP+va1tV/9Difij/hEy//AB8+IdcnHp9rEX/otVo5V3C77HQVHNcQ20e+4lSJP7zsFH5msP8A4QnRm/4+DqV16i51W6lB/BpCB9AMVLb+C/DFrMJoPD+miZTkTG1RnHf7xGevvR7vf+vvHqbdZsfhzRY9VbU00qz+3sxY3JhUyZPUhiMj8K0qKlNrYYUUUUgCiiigAooooAKKKKACiiigAooooAKKKKACiiigAooooAKKKKACiiigAooooAKKKKACiiigAooooAKKKKACiiigAooooAKKKKACiiigAooooAKKKKACiiigAooooAKKKKACiiigAooooAKKKKACiiigAooooAKKKKACiiigAooooAKKKKACiiigAooooAKKKKACiiigAooooAKKKKACiiigAooooAKKKKACiiigAooooAKKKKACiiigAooooAKKKKACiiigAooooAKKKKACiiigAooooAKKKKACiiigAooooAKKKKACiiigAooooAKKKKACiiigAooooAKKKKACiiigAooooAKKKKACiiigAooooAKKKKACiiigAooooAKKKKACiiigAooooAKKKKACiiigAooooAKKKKACiiigAooooAKKKKACiiigAooooAKKKKACiiigAooooAKKKKACiiigAooooAKKKKACiiigAooooAKKKKACiiigAooooAKKKKACiiigAooooAKKKKACiiigAooooAKKKKACiiigAooooAKKKKACiiigAooooAKKKKACiiigAooooAKKKKACiiigAooooAKKKKACiiigAooooAKKKKACiiigAooooAKKKKACiiigAooooAKKKKACiiigAooooAKKKKACiiigAooooAKKKKACiiigAooooAKKKKACiiigAooooAKKKKACiiigAooooAKKKKACiiigAooooAKKKKACiiigAooooAKKKKACiiigAooooAKKKKACiiigAooooAKKKKACiiigAooooAKKKKACiiigAooooAKKKKACiiigAooooAKKKKACiiigAooooAKKKKACiiigAooooAKKKKACiimvIkeN7quemTiplOMI80nZBuOqleazpmn3UNtf6laWs85xDFPOqNIfRQTk/hWdr+ufZ1ttP06ZVvtQlMMUhXcIVClnlx0O0DgdCxUdDWbqiaHoXhPVpBZNMz2zmaSYeZLdNt4DMTliTgAfQDtXBLNsug0pVo3e1mn5dPMrkn0R2FFYek3s1notjbXKmSaG3jjkcvyzBQCenqKn/tOb+7H+R/xryKnFeUwdo1HL0i/1SNFQqPoatFZX9pzf3Y/yP+NH9pzf3Y/yP+NZf635X3l9xX1eZq0Vjm/uSSQ+PYKOKT7fc/8APT/x0VzPjXLr/BP7o/8AyQ/q0zZorG+33P8Az0/8dFXrC4edXEhyVI5/z9K7sv4nwWYYiOGpRkpO9rpW0V+jfQmdGUFdluiop51t4w7gkE44qq+qD/lnGTx1Y45r0sZnOAwMnDEVLPtq3+BEacpbIv0Vlf2nN/dj/I/40+PU33jzVXZ32jn+deVDi3K5SUeZq/dF/V5mlRVP+04f7sn5D/GmNqoDfLESPUtiuyfEeVQV3WXyu/yRPsaj6F+is/8AtX/pj/4//wDWo/tX/pj/AOP/AP1qy/1pyf8A5/f+Sy/+RH7Cp2NCiqtre/aZSnl7cDOd2atV7ODxtDG0vbYeV497NfnYzlFxdmFFFFdZIUUUUAFFFFABRRRQAUUUUAFFFFABRRRQAUUUUAFFFFABRRRQAUUUUAFFFFABRRRQAUUUUAFFFFABRRRQAUUUUAFFFFABRRRQAUUUUAFFFFABRRRQAUUUUAFFFFABRRRQAUUUUAFFFFABRRRQAUUUUAFFFFABRRRQAUUUUAFFMnnitreSe4kWKKJS7yOcKqgZJJ7ACnKwZQykEEZBB60ALRRWBJcX1l45tbZr6S4s9Qt55BbPGgFuY/KA2MFDHO9s7ieoxjHLSuJuxv0UUUhhRRRQAUUUUAFFFFABRRRQBHcf8esv+4f5VhVvTgm3kAGSUOAPpWDX5dxwn9Yovyf5nbhtmYL/AL34iRbv+XbS32+3mSrn/wBFCgf8VFqysOdL0+bKntc3Cnr/ALiH83H+xzk+MJWsvFGkP9rSxttTilsLm6d9nlDKyDa3QMwV0BzwWBHTB6NdQ0fS7GKMXllaW0SBIwZlRVUDAA59K+RnFxpwnFXbVl5atP53v+fY2WraZo0VxGs+LbrWLltK8EXKNKIfNn1MRh4LZSSFbc3ykfK5yN33CAOSVs6FpF3ruhWt74h1fU7hpk3eTFL9lTGTg4iCtgjBwzHris5YOVOn7SrLl8vtfd/m0P2l3aJ1Nzcw2dtJcXUixQxKWd3OAoHeotPu5L218+S1ktlZj5aS8OU7My/wk/3TyBjODkDhdRsodO8RiSxe4+xaZc2iT2k93LMlzLNIFB2uxAMYZXGOrdfug16JUV6MaUE1rf5W2dra9Gn/AMG44ybYUUUVyFhShmCkAkA9RnrSUU02tUBUutZ0+zuI7W+1G2t5WUukU0yqSueSAT0zUOl69p+s3F7Fplwtx9ilEUrocpuKhsBhwcZwfQ5FN1XUNDgK22uXenxlhvWK8kQZHTIDfjzXP6N4h8PWfiXXI01fTIoJDbyxYuYwuPK2YHOOPL6dq7oUHVpSlyybSXpul27GblZ2udnRVWx1Sw1NXbTb62u1Q4c28yyBT74PFWq4ZRcXaSsabnOXs+s3fi6bTNP1GCxtorGGclrTzZGZpJVOCWAAwi9Qfwq1ZXt7ZanHpesypcPOjPa3aR7PN2/eRl5AYAgjHUZ4G01nXGs6ZpnxCvTqeo2lmF0q35uJ1jz+9mPc9gP1pbnUoPEOraP/AGIJrlLO9+0SXQhdYQnlSIcSEBXJ34wpPX0r03Tk0k4+7y3vbra+/qY3XfW51NFFFeWbFiznW3mLuCQVxxV3+04f7sn5D/GsS2mlm83zrWS32SFE3sp8xR/GNpOAewPPqB0qavoMDn+Oy+j7Ci1bfa+5lKlGbuzehlE0QkUEA+tPqvYf8eMf4/zNWK/ZcBWnXwlKtPeUYt+rSZ50laTSCiiiuwkKKKKACiiigAooooAKKKKACiiigAooooAKKKKACiiigAooooAKKKKACiiigAooooAKKKKACiiigAooooAKKKKACiiigAooooAKKKKACiiigAooqEXcDXr2ayqbhI1laPPIRiQD9CVb8qAJqKKKACiiigAooooAKKZNLHBC80zhI41LOx6KAMk1W0i/bVNGtL97drY3UKzCFzlkDDIB98HmnbS4FyiiikAUUUUAFFFFABRRRQAVT1PU4dKtkuLpX8lpkiZ1AIj3sFDN/s5Iye2c9M0Pq+mxaommSahapfyLvS0adRKy+oTOSPwqa9s4NQsZ7O8jEtvcRtFKh6MrDBH5Gns9RehMQCCCMg9Qa5/RSdI1q48Pk/6N5X2rT8/wRZ2vF9EYjHosijtU3hS8nutBSK+kMt5ZSPZ3Dt1d42K7z/vABv8AgVQ69+48TeGbodWu5rRj/svbyP8A+hRJVpWbixX0udBXFJ4m0lfGmoXmqXLQNYobC1iMEhOMhpX4U/eYIo9o8967Wipi0txtNmRp/iWy1O8W3tINSywJ82bTLiGPj/bkRQc+xrXoopO3QNQooopDCiiigAooooAy77xPoGmSNHqWuabZun3luLuOMr9QTVP/AITrw23+o1RLr0+yRvPn6bAc1tJZ20c7TR28SSsdzSKgDE+pNTVXu9hanP8A/CZWT/8AHrp2t3Hpt0i4QH8XRR+OcViWWvXd7qkdv/wj2pW9uyljd3HlKq+gK7y3PHbvziu7qP7PD/zxj/75FfM5/kzzVU1BpcvNvfrbtbt1NqVRwvc5fVNMttY02Wxvk3wygZx1Ug5DD3BAI9xVPSPCNnY2qGTTrGe5yc3MOnpFu544A/r19OlduqhFwoCgdgKWvCo8GyjDkniHbso219b/AKK+hq8Qm78pyl74TsdXnjuL/SYLiWIbVeWMZ25ztOeq57Hitb+y5v70f5n/AArVor0KfB+AUVGrKUrd3ovRJE/WJX0Odl8K2kmpJqcmn2Ut/Gu1LkwqZVHoHIyBye9WfsFz/wA8/wDx4Vs0UVeDsvqNe9NW81+qYLETRjfYLn/nn/48KPsFz/zz/wDHhWzRWX+pWXfzz++P/wAiP6zMyv7Mm/vR/mf8KkGlHAzNg98L/wDXrRrO1jT73UbeNNO1m50l1bLSW8UUhcY6ESIw/Ku2nwllMX70G/WT/SxDxFQzbi0geZhNFHKUJUMyA1F9htP+fWH/AL9ipY/D2uou1/Geoyc/eaztQf0ix+lObwzqTrtfxlrbKeoMNjz/AOS1eLU4H1bp4m3Zcr+69zRYrvEZFBFCCIYkjB67FAzT6Z/whxbiTxDrLr6eZCv6rGD+tH/CEWbf63VNZk9P9PdMf984/WuT/Uev1rr7mV9aX8oxrO2e6Fy9vE04UKJSgLAA5Az1xk5qamf8IHpDcy3GsO3r/bV2v6LIB+lH/CA6B/HFfyH+9Jql07H8TJmj/Uis966+5/5h9Z8h9MkmihAM0iRg8AswGaePAfhkDD6TFKPSZ2k/H5iefepIvA/hSFiYvDOjox6sLCLJ+p2810LgWNtcR/5J/wDbC+tP+X8f+AY1z4p8P2bbbvXNNhboFku0BJ9MZ9qwZfHd7NcyJovh651KNWISWHzWEgzwQUidRnryw6ivS7XTrKxGLGzt7YdMQxKn8h7VZruw/BeCpv8AfTc/w/zIliJvbQxPCeoahqWiibVtGn0eYOVWCeRXZl67vl6dSMHB4rboor7OjShRpxpU1aMUkvRaHPdvVhRRRWoBRRRQAUUUUAFFFFABRRRQAUUUUAFFFFABRRRQAUUUUAFFFFABRRRQAUUUUAFFFFABRRRQAUUUUAFFFFABRRRQAUUUUAFFFFABRTXdI0LyMqKOrMcAVHFeW08hjhuIpHA3FUcEgeuBQBNRRRQAVz+nfvPiDrkvaOysoPoQ07n/ANGD9K6Cuf0H5vFXih+u27gjz9LaJsf+PfrVx2f9dUS90dBRVbUb+30rTLrUL1/LtrWFppWAJwqgknA5PA6VCNXhPiBdJ2MJWtPtQY8Dbu24x1zkips2O5foqvc31vZzWsVxJsa6l8mH5Thn2lsZ6DhT1+lWDwOmfakMKK55vE98VIg8J63JJj5Vb7OgJ92MuBW1ZSXM1jFJfW621wy5khWTzAh9N2Bn8qpxa3Encx/HBJ8H3duCR9teGxJHYTypCfpxIea3gAqhVAAAwAO1Y/i2ynv/AAteRWSeZdRhbiCMfxyROJEX8WQD8a0rG9g1LT7e9s38y3uI1ljb1UjIp/YQuo3UpbiDSbuayEbXEcLtEJM7S4UkZx2zXFR/El7m3S8tdPQ2l9C66WWkO6e5Vo08thjgF5NoIzxG59K7m6iaazmiTG542UZ9SMVz/hjwfZ6R4U8O6ff20M93o0KmOTqI5ihDsp9yzfpVQcEveFLmvoX/AAtqNzq3hawvL/Z9qkixP5a4XzFJVsDsMg1Q17xJd+Gb+Fr+CK6sr+X7PZrbhlm8/wAtmWMg5DbijANlcEgEd619K0mHR4JoLWSVoZJ5J1jkYERF2LMq8Z27iTg56+nFR6ho66hrOlX0s7BNNkkmSEDh5GQxhifZWfj/AGvalePM+w9bCeGtUk1zwrpWqzxLDJfWcVy0aHIUugbAP41cureK8jEEryL8yyDypWjb5WDDlSDjIAI6EcHg1maBY3mh+HRpjQrMNPTybRkcDz41HyZz91sYU9sjPQ4GLZ6z9u+IUV4um6pHatp/2TzpLKUKk5k3GNht4wAPn+523Uct22gvZK5f8e6+ugeEr+VJZ4blraQwSRQO+wgdSVUhcZzk4/StrTdSh1W1NxbR3UaBiuLq1kt2JH+xIqtjnril1Owi1XSLzTrnPk3cDwSY/uspU/oaltYpILOGKaXzpI41V5NuN5AwTjtmlePLbqPW5zHhe50w2F02pTWg1FdRuZrlZ3XzInErqhOeRiMKFP8AdwRwa6Sy1Cz1K38/TruC7h3FfMglDrkdRkHGRUV5oul6jMs2oabZ3UqfdeeBXZfoSKo3XijRbC5fTbW5hutRiwo02zZXnBxwCg+4OR8zYUDkkCm/feglpuRaB+78TeJ4V+4byGbHoWtowf8A0AH8aPEvz6t4ZiX7zaqW+gW2nYn9MfjVzQtNmsIbme9ZGvr+c3NyYzlVbaqKi+oVEVc8ZwTgZqnb/wDE48ZPeJ81npMb20TdnuHI8wj/AHFULn1dx1U07+9fy/Swuh0FFFFZFhRRRQAUUUUAFFFFABRRRQAUUUUAFFFFABRRRQAUUUUAFFFFABRRRQAUUUUAFFFFABRRRQAUUUUAFFFFABRRRQAUUUUAFFFFABRRRQAUUUUAFFFFABRUF3PNBHGbe1e6ZpURlRlXYpYBnO4jhRk4HJxwDU9ABRRRQAUUUUAFFFFABRRRQAUUUUAFFFFABRRRQAUUUUAFFFFABRRRQAUUUUAFFFFABRRRQAVX1CO6m024j064W2u3jZYZnTeI3xwxXvg1YqjqurQaVFF5iST3Fw/l29tCAZJ3wTtUEgdASSSAAMkimr30Ezh7nQrWKPzfFvg671gQZkkupNRW+iXA5cJM6EDHZUH0rsdD0vQ7Sziu9A0uzsormJXVre0WEshGRkAAj6Gsu6ht5Ct3451GzgjUh49Oa4CW8foXLEea3uw2jsuRk7ml6zput27z6Pf219DG/ltJbyiRQ2AcZHsQfoRWs5Nr+rExSTJra+tLxpls7qGdoHMcoikDGNh1VsdD7Gp64rQX0HTviRqOiaTpEdvcLaG5a7SQtuJdfMTB+6PnjPHXpgbRXa1Eo8rKTuFc/wCHOdf8WE9f7WjH4fYrX/E10Fc/pv8AoPjfWbSTgagkV/Cf75VBDIB/uhIs/wC+KI7MHujU1jToNX0S90+8dkguoHikdCAVUjBIJ4yOvPFcsumTaX450TWLvVJNSl1CKXTfNKKiBNhnTCrxnMTfN3yK6PX9HXXdJeyaXy8usg3IHRirBgroeHQkYK8ZHcdazY9H1q91DTm1mbTktdOm8+NLKJ1aRhGyAHccKoDk4GegGcZqouy3JktS3/wkAbx1/wAI4tqzbNO+3yXOflXMmxUxjqcOevatms638P6Va6o+pW1hDFeyFjJOgw8hbruP8Xtnp2xWjUSt0KV+oUUUVIwrnY3XwtqUqXDCLRbyTzIpWOFtJmPzIT/Cjk7lPQMWGeVFdFTZI0ljaOVFdHBVlYZDA9QRTTsJodRTIIYra3jgt41ihiUJHGi4VFAwAB2AFPpDCiiigAooooAKKKKACiiigDDn/wCEhv7iSz8m30213ENexXHmSOmeAilRtYjqTnaegbrWtZ2dvp9nFa2cQigiXaiDsP6n3PJqaim3fQVgooopDCiiigAooooAKKKKACiiigAooooAKKKKACiiigAooooAKKKKACiiigAooooAKKKKACiiigAooooAKKKKACiiigAooooAKKKKACiiigAooooAKKKKACiiigAooooAKKKKACiiigAooooAKKKKACiiigAooooAKKKKACiiigAooooAKKKKACiiigAooooAKpalo2mazCsOsadaX8SnKpdQLKoPqAwNXaKabWwGVY+FvD+mPu03QtMtGznNvZxxn9BWhDawQTTywxKklw4kmYDl2ChQT/wFVH4VLRQ23uKyOX0XwBpWgeJ7rXdPmuhc3XmebGzqYz5j72425+9znOeACSAK6iiinKTk7sEktgrP1XSV1JYXjne0vLZi9vdRgFoyRgjB4ZSOCD19iARoUUk7D3KunRX8Nrs1W6t7qfcf3lvbmFdvbKl2598/gKtUUUtwCiiigAooooAKKKKACiiigAooooAKKKKACiiigAooooAKKKKACiiigAooooAKKKKACiiigAooooAKKKKACiiigAooooAKKKKACiiigAooooAKKKKACiiigAooooAKKKKACiiigAooooAKKKKACiiigAooooAKKKKACiiigAooooAKKKKACiiigAooooAKKKKACiiigAooooAKKKKACiiigAooooAKKKKACiiigAooooAKKKKACiiigAooooAKKKKACiiigAooooAKKKKACiiigAooooAKKKKACiiigAooooAKKKKACiiigAooooAKKKKACiiigAooooAKKKKACiiigAooooAKKKKACiiigAooooAKKKKACiiigAooooAKKKKACiiigAooooAKKKKACiiigAooooAKKKKACiiigAooooAKKKKACiiigAooooAKKKKACiiigAooooAKKKKACiiigAooooAKKKKACiiigAooooAKKKKACiiigAooooAKKKKACiiigAooooAKKKKACiiigAooooAKKKKACiiigAooooAKKKKACiiigAooooAKKKKACiiigAooooAKKKKACiiigAooooAKKKKACiiigAooooAKKKKACiiigAooooAKKKKACiiigAooooAKKKKACiiigAooooAKKKKACiiigAooooAKKKKACiiigAooooAKKKKACiiigAooooAKKKKACiiigAooooAKKKKACiiigAooooAKKKKACiiigAooooAKKKKACiiigAooooAKKKKACiiigAooooAKKKKACiiigAooooAKKKKACiiigAooooAKKKKACiiigAooooAKKKKACiiigAooooAKKKKACiiigAooooAKKKKACiiigAooooAKKKKACiiigAooooAKKKKACiiigAooooAKKKxPFGo6hYWtimkGAXd3exwJ56koRhmYHHI4U89uvNNK7sJuxt0VR0fU01jS47tI2iYlo5YWOWikVirofcMCM98Zq19oh/57R/8AfQrKpVp0napJL1dhq72JKKrm+tgSDJ09Aaa+o264wWf6Dp+defPOMuppuVeGn95P8FqX7Ob6Fqiqf9pw/wB2T8h/jUZ1UZOIcjtlv/rVyVOI8ppq7rL5Jv8AJMpUaj6GhRWa2qMR8kQB9zmo21KdhgbV9wP8a4qvF2VQ+GTl6J/rYpYebNaisGSV5TmRy31PSmV4s+OYKTUKF15yt+HK/wAzX6t3ZvNNEjYaRFI7FhUbXturYMoz7AmuW1zVRoujzag1u9wISuYoyAzZYLwSQO+eSOlUP7b1iP8AeXPhm6WAfeMVzFJIo9dgPP0BJ9Aa55cYY6pHmo0opX6v8N490HsIJ2bOzOpwAkAOfcAc0f2nD/dk/If41iWl3BfWkdzaSCWGQZVh/LHYg8EHkHipq8uXF2aptNpfI0+r0zYhv4ppRGquCfUCrNY1h/x/R/j/ACNbNfe8N5liMxwkq2ItdSa0VtLJ/qctaChKyCiiivpTEKKKKACiiigAooooAKKKKACiiigAooooAKKKKACiiigAooooAKKKKACiiigAooooAKKKKACiiigAooooAKKKKACiiigAooooAKKKKACiiigAooooAKKKKACiiigAooooAKKKKACiiigAooooAKKKKACiiigAooooAKKKKACiiigAorj9ZbV0+IVtZaRcC3XVNOZpLh18wQC3k5ZUPBZjcKvPbnsK3fDmpyax4ftby4RUnYFJ1T7okRij49tynHtVuNlclO7sadFFFQUFFFFADXDmNhGVV8HaWGQD2yOM1Q0XVG1K1dbmMQX1s/lXcAOfLcDOQe6kEMp7gjocgaNYHiFW0qaPxHbKc2q7L5FH+utupOO7ISXHfG8D71VFX0E9NTfopFZXQOjBlYZDA5BFLUjCiiigAooooAKKKKAMu+uZluXjWQqoxgDjtXMeJ55luNBlMr7Y9Vjydx43RyIP1YCuiv8A/j+k/D+Qrm/GVvPP4RvnsgDd2qrd24IzmSFhKo/EoB+NfiONxmIebVYuo7c8lu9Fdr7keior2e3Qb4X+Y6zIv+rfVZtg9NoVW/8AHlat6s7QLSCy0CzitJjPGYxJ556zM/zM592LFvxqrrPii10m/i02ON7vUp1VobVCBuDPtGWPA/iP0RvSvGqRlXrtU1f/ACXft5miajHU26K5DXtRlv8AQrTVdEvrmx1Bbn7PDbEhlkl83y5IpI+j7Srcg8bSQcVuaLqU979ttr1I1u9PnFvM0WfLkJjSQMueQCrrwc4ORk8EqeGlGnz+t11VtPu1QKabsadFFFcxZV1K4uLSxe4tbf7S0XzPCDhnUddv+1joDwemRnNYtrqWva3ZR6rov9nxWEyebbQ3UTtJcoeVYsGAi3DkfK5AIyM5A6J13xsvTcCM1h+CNLvNE8EaVpmpAC6tYBFIAwYcE4wR7YrrpyhGi5WXMmt+zTvp8l95Du5W6GnpeoxatpcF9bhlSZc7HGGQ9Cp9wQQfcVbqhpumf2bNflJd0N1cm4SPbjyiyjeM9wWDN9WNX6wqcvO+Tb+vyKV7amT4qtHvvB+r20P+tkspVj9n2HafzxV+xu0v9OtryL7lxEsq/RgCP51P161zGm6T4gttLttLhu7XTbKzjWCKRB9puHRRhTlgqIcAfwvWsLTpcraVnfXz38+iJekrlnT/APRvGurWkH+oltoLx0HRJWaRGP8AwIRqfqpPet6qemaVBpkTpb+bLLM++WaZy8kz4xlifYAADgDgADitEW05IAifn1U1UqdTETvSi5bLRdlYF7q1JtOiZ7jzBjCdfxBrWqnp8EkHmeau3djHIPrVyv2HhfCSwuWxU4uMpNtp6O97bPySOCtLmnoFFFFfSmIUVT1TWNO0SzN1q99b2UGceZPIEBPoM9T7DmsLRPiJoniPXP7M0MXt4QpZ7lLVlhjwM/MzYxntxzkVShJq6WguZJ2OpoooqRhRRRQAUUUUAFFFFABRRRQAUUUUAFFFFABRRRQAUUUUAFFFFABRRRQAUUUUAFFFFABRRRQAUUUUAFFFFABRRRQAUUUUAFFFFABRRRQAUUVQ1v8AtH+xLr+xNv2/Z+53gYzn346Z68U1q7AX6KxNCvLwajqOk6jcfa5bExOlyUCNJHIpI3BcDIZXHAAwB3zW3Q1Z2EncKKKKQwooooAKKKKACiiigAooooAKK5HxVqWp6V4i0uLTJGP9tZsAG+ZbeQHeJgp4yI/OyP4iqA8Cqt7canoniGHw5p97d3TaxAXt7i6PmtalG/fSbsdNjKVU8bsDocVoqbaJ5rHcUVzmgWjaP4g1TS1NwbR0iurZppHkySCkgDsTzuVWIz1fPetHW9es/D8NvcamxitZZfKe4ONkPyMwLexK7eO7CpcdbId9Ls0qyZteFtrkNhcWF1FDPJ5MV6+wRPLtL7AN27oDyRjIxnNJpHiD+076azn0+60+eOJJ0S52ZkiYsAw2scHKnKnBGRnrUfibQD4ihsLSSREtIrtJ7pTndKig4QEEYy2M+2R3ppJO0hN3WhN4e12LxFYT3tqFNut1LBDIj7hKsbFd4PoSD+VatYmk6Pd6JeyQWUtu2kSyyziFoyssDyMXYKw+VlLMTggEZ6npVjxHqx0Pw9d6iiK7QKCqucAkkAD9aGk5WiCempJHa219qNrrGyZJ4YJreMSKUwsjRlsqRnOYVx7fWnaTpkWkWJtYHd0M80+XxnMkrSEcdgXIHtV2ipu7WHYKw5fF+jW/iR9Hur+0gmWBJQ0tyi7mZ2XYATnd8vT3FXtU0XTtajjj1W2W6jjJIjdjsOfVc4b8Qaxr3w9b6Nf2Oq+H9HgxZo8M1laRRxmSJ9pyg4XerIpGSOC46kVUVF7id+h09Z+uap/ZGltcRxefcO6w28O7HmyuwVFz2GSMnsMntVq0uPtdpHP5MsHmDPlzLtdfYjtVTWtJ/ta0iRLhrae3mW4gmVQ2yRc4yp6jBII9+oPNJWvqN7aEenWWtW13v1DVor6GRTvj+zCPy27bCD932bJ9+x1CAylWAIIwQe9YH9neK5fkuPEWnRxnq1ppDJKPoXndQfqp+natq0t/stpHAZpZyi4Mszbnf3J9aJd7gjG8KE2cN5oUhJOkz+VDnvbsN8P4BTs+sZrfrn5v9D+IltJ0TUtOeJj6vA4ZB/3zNL+VdBTnvfuKPYKKKKgoKa7rHGzucKoJJxninUUAc/8A8Jto5/1UerTD+9Dot5IPzWIij/hONCH+tnuoP+u+n3EWD6fMg59utdBRV3j2/H/gE6mba3trq+lvfW8Mio28I00JjZtpI3AMM4OMg9xiqHXrW9OCbeQAZJQ4A+lYNflPG1OMMTScY2un+Z6GGb5Xc5HQ9Zh0fS20La9zqGnzyWkFnDy7RqQYieyr5bR5Y4A/IVSW3htNS1hvGWnyXVzqMsUkDWdpNMnlpGoWNWQEqyP5nJ2k7t3GcB3g6R4/FF9LcMXl1cXEjFjkh7a6eIr7AI8Kgf7H1rua+YxFRYerJJfFu07O97u3ZKS/rpcVzRRzPg/wta6LYi5lshHqE0s0paVzLJCkkjOI95J6AgHBwSCeetWpvDIa/urqz1fUrD7ZIJbiK3ePbI21Vz86MV4VR8pHStyiuGWKqyqSqN6v5/maKEUrENraxWVrHb24IjjGBuYsT7knkn3PJqaipbeBp5goB25+YjsKijSqYmqqcFeUn+LKbUVcybvxDounyNHf6vYWzr95ZrlEI+oJql/wnHhg/wCq12xn9Ps8wlz9Nuc108vhTRp5WlnsYJJGOWd4UJP1JFXYtMtIYVjSLCoMKAcYHYYHFfZ0+D8XLSSS/wC3tPwizleIRxf/AAmejt/qTfz/APXvplzLn3+WM0f8JXG/+o0fWpf+3B4//Q9v+etdwtlbq2REM+5JqVI0jzsRVz1wMV3UeC5v+LNL0bl+kSXiH0OGXW9WmXNt4P1lweju1si/rNn9Kelz4pnz5HhYJ/186gif+gq3NdxRXqU+DcEre0d/S6/VkPET6HFxQ+NTMjHStFtwGHJ1GSXHPXHkr+X61qeT4xk/5ftDtv8Atymmx/5FTP6V0FFfR5ZlmHyyEoYdaN311MZyc3eRz/8AZfiiT/XeJLRP+vfS9v8A6HI3H+c0f8I9q7/67xhqoHpDb2iA/nCT+RFdBRXrc7/pIz5Uc/8A8ImX/wCPjxBrk3r/AKYI8/8AftVo/wCEK0pv9fPq857+drN2wz67fMwPwFdBRRzy7hyo59fAnhYSK8mhWVw6nKtcxCYr9N+cVuwwxW8KxW8aRRqMKiKFA+gFPoqXJvdjSS2CiiikMKKKKACiiigAooooAKKKKACiiigAooooAKKKKACiiigAooooAKKKqarqMOkaRd6jc5MVrC0rBerYGcD3PQULXQC3RWdoFteWmg2kepytNelPMuGZi37xiWYD/ZBJAHYACtGm9GAUUZopAFFFFABRVS11KC6vbqzUPHcWpHmRyDBKt91x6qcHB9QR1BFTwXEN1Ak9tKk0TjKSRsGVh6gjrTs0BJVG21RbnXL7TliINnHE7SZ4bzN3GPbb+tTefcf2l5H2U/ZvJ3/afMGN+cbNvXpznpWPpn7rx3r0cnDywWsyZ7ph14+jKfzHrTS0YmzoKKK5HR/Gby+LtU0HWbW4tp47r/iXt9jlC3EGAN27bjhgfmzjBX3oUXJOwNpbnXUUVx1/4zvmbWLfSbCL7XoavNfLcuduwAtGqEfxSIN2ei55BojFy2BtLc7GiuZ0Xxa2tazbpFaqmm39rLPY3Bc75hE6KzFcYAPmArycgZ74G1qGrWGleR/aN3FbfaJVhh8xsb3JwAKHFp2BNPUuUUV534lvtQ0DUE03SNYur251GGdJhd4kFq3lPKsi7VGG2xSgJwDx0C04R5nYUnY9EpGYIpZjhVGST2FZnhhdnhHR1LmTbYwjeTnd+7HOe9W7RkaW62Xn2nE2GXcp8g7V/d/KOP73OT83pipasx3ON0HxZp019qWsNBqkr38irCkGk3UoWGMEJlljKgsS7cngMAehrqtL1qHVWlEVrf2/lgE/a7OSDdn03AZ6Vo0VUpReyEk0c1qPjPTLDXdNgfVdNSyuUmE0r3CjY6hSgzuwMjf19BXQ21zDeWsVzaSpNBMgeOSNgyupGQQR1FZs/hjRp3gkGn28MlvMs0ckMSowYe4HQgkEehNa1EuWysNX6hRRRUDIopmkmmRoJYxEwUO+NsmQDlcEnHOOQOQaS3nlmecS20kAjl2Izsp81cA7xgnAySOcHg8dKmopgU7xtSW6thYQ2r25b/SGmlZWVePuAKQT16kdqi1WfWYTD/YlhZXm7d5v2u9e32dMY2xPnPPpWjRRcRW0+S+ks1bVLe3trnJ3R207TIBnjDMiE8f7IqzRRSGRS20E80Es0KPJbuXhZlyY2KlSR6HazD6E1LgZzjn1oooAKy/EOjjXtI+wuyKv2m3mO9NwIjmSQjHuEx+NalFNNp3QPUz30vPiWLVllxttHtni2/fy6srZ7Y2sMd93tzoUUUXuAVzl74Oh1WS5h1bUr290y4lMp0+RlCK3UYcAPgHkDdgHHoK6OihSa2E0nuVdO06DS7MW9s0zruLM88rSu5PUlmJJq1RRS3GFFFFABRRRQAUUZx1rIvfFOi2Eogk1CGW6YfJaW7ebPJ/uxrlj9cYHemk3sK6RW1j95408ORJ99PtVw3+4Iwh/8elSugrH0qxuJdSm1rU08q5miEMNuSD9mhBztJHBdjgtjjhRztydinLogXcKKKKkYUUUUAFFFFABUL2lu+MxKMenH8qmorCth6OIjy1oKS80n+Y02tjgJPC93p/j2xe0glksJ7mebz1wVtxJCTIjDrgyRowPQlyDjAz1/wDZX/Tb/wAc/wDr1oUV5Nfh7K67TnRWito5L8n5lxqzjszP/sr/AKbf+Of/AF6VdLUH55SR7DFX6KxjwxlEXdUfxk/1K9tU7lVdOt1GCpb3Lf4VZVQi4UBQOwFLRXr4bA4XCfwKaj6JX+b3ZnKUpbsKKKK7CQooooAKKKKACiiigAooooAKKKKACiiigAooooAKKKKACiiigAooooAKKKjuLiG0tpLi6lSGGJC8kjthUUDJJJ6ACgCSiuRvtb8U6rcwr4O0uCG0OfMvtajeNSO2yIMJD/wIKOnNdPYx3UVjEmoTx3Fyq4klii8tXPqFycfmapxstRJ3J6pazqcei6Ff6pcIzxWNtJcuq9WVFLED3wKt70EgjLLvILBc8kDqcfiPzrB8ec+ANaX/AJ6Wjp9dwx/WiKvJJg9EdADkAkY9j2oooqRkVxdQWiI91MkKvIsSl2A3OxCqo9ySABUtec69ba9a+Bv7Bh0W5v7qxeGa3vFlQwzLBMso3EsHViqYxtPJ4JHNegWd3Df2MF3auJILiNZY3H8SsMg/kauUbK5Kd2TUVl6Df6bqtvdXukXUlzFJdSJIXkdgkifu2VQ33R8ucDA5z3qzqWn/ANpWoh+13Vphg3mWsmxj7Zx05qbWdmO+hbrn/Fv7+PR9PP3b7VIEYeoj3TkflDz7Zq9pehxaVNJKl5qF1JIoVjd3kkoGPRSdqn3AFUfEfGveFXb7i6o+T6E2dwB/PH4iqjbm0E9joKhurpLSNHkjmcNIkYEMTSEFmABIUHAGck9AMk1NRUFHK/2hF4f8QeKJrs4h+yx6r/vBYzE+PcCFP++hWbqXiDxYngu6to9Lkj8TLaM4migY2q/Lu3hjkbuwQ5O7tt+auk1rw1Z67dWk91JNG1s2GERAE0e5XMb5BypaNCfpjoTnYrXmirO1yLMhtLqK+sobq2cSQzxrJG4OQykZB/I0Wl3Bf2UF5ZyrNb3EayxSKeHRhkEexBqKw0qy0vzv7Pt1t1mfzHRCdu7uQvQfhiqnhjTp9H8O2ul3O0/YV+zxOpzviXhGPoduMjsc9qjS2hWpz3ip11D4g6FolnNNDcTW0730kA5WzOPlJ6jc6BQw6c4wSDWn4OMOleHf7GuClvNpG6KWNiFCx7m8uQf7LKAQfqOoIHQiCIXDTiJBMyhGkCjcVBJAJ9ASePc0ssUc8LxTxrJG6lXR1yGB6gg9RVOd4qIuXW5iaDq0uqa94gjE6TWlldRQQFCpCnyEdxkdeX71p3Om211e213IrC4tSfLkRypweqnHVTgEqeMgHqBVW18OaZp+oLeadbmyYLtaG2kaOF+MAtEpCEgd8Z6egrUpSav7o1e2oVk61ptxcS2mo6Z5f9oWLMY1kYqs0bDDxMQDgHCkHBwyqeQCDrUVKdncHqIpJUEjaSOQe1ZNvoESX+uTXOyWLV3TfHtwQghWMqT36H8616KE2tgsZsuh2xm0yS1/0U6ZlYFjA2+WV2mMj0wB06FR9DifEG90210u0t9QntraW+uY7eOedguxN6yS4Y/7MfA7ttFdbRVRlZpsTWljFtfEi6ndRxaRp97cws37y7lgaCFF9QZAC/tsDD1I60Wnhe0t9evNVllmuZLmYzLFMVMcDGNY2KgDqVQDJJwMgYBOdqilzW2HbuYJEXg/TZJA99daeJI44rWOHzTaKW2nbtG4oMg4O4gDjjAFLwhFqkF5qcs+neRY6lfS3sUssxEoB2qoaIrlSQu7k8A84PFdXRT5tGK2oUUUVBQUUUUAFFFFABRRRQAUUUUAFFFFABRRRQAUUUUAFFFFABRRRQAUUUUAFFFFABRRRQBBeWVrqNnJaahbQ3VtIAHhnjDo/OeVPB5FNstNsdMiMem2VvaRk5KQRLGD+AFWaKd3awBRRRSAKKKKACiiigAooooAKKKKACiiigAooooAKKKKACiiigAooooAKKKKACiiigAooooAKKKKACiiigAooooAKKKKACiiigAooooAKjuLeG7t5Le6ijmhlUpJHIoZXU9QQeCPapKKAOV1Dwx4Y0m0NxIl1YxghUWzvriIlj0VEjcZY9AAOela2gfbYNCsYdalzfsh3B2Bf1AJHDMFwCRwSCag1bwpp+tarBqF5LfJcW8ZjjNveywhQeuNjDBPQkc4AqWw8K6Fpl0Lqy0m1S6X/l6aMPMeMcyNlj1PU961ck46vUhJp6EzX2lyeI49Odom1WK2NzGjR5dIS2wsGxwCRgjNQeK7CfU/COqWdou64ltXEK/3nAyo/MCsGbR9bm+Ik/iXTbKCDZYDSwuoTY81RK0hlQR7uOQAGIJ9Fxz2tJ2i00Na3uVtOv4NU0y2v7Rt0NzEsqE9cEZwfQ+1WawZbe58PXEtzptvJd6dM5kns4hmSFzy0kQ7gnJZOuSSvJIOjpmr2WsQPLYSM6xtscPE8bK2M4KsAQfwqXHqthp9GVtV8RWujXsEN9BeeXNGzi4htXlRSCBtOwEgnJI47Gs7w7/aOm+B7VLbTZJ5Y3kWC2lfyWEHmt5Wdw+U+Xs+UjI6YBrp6KOZWtYLa3OM8B6Vqvhqz/sa70rYjTz3U18tyjxMZHLKqDhyRkA7lUfLnJziuzooolLmd2CVlYKz9c0s6vpbW8cvkTo6TW823PlyowZCR3GQMjuCR3rQopJ2d0PcytN1i5uLr7FqWlXVldKpJfb5kD47rKvGPQMFb2rVooodmIKKKKQwooooAKKKKACiiigAooooAKKKKACiiigAooooAKKKKACiiigAooooAKKKKACiiigAooooAKKKKACiiigAooooAKKKKACiiigAooooAKKKKACiszU9Tm0m4We5hDaWVxLOmS1u2fvOO8eMZI+7jJ4yV0kdZI1eNgyMMqynII9adnuAtFUdN1RdQa5heIwXVpKY5oWOSO6sD3Vhgg/UHBBAtzTR28LzTyLFFGpd3dgFVQMkknoBRZp2AfRXP3PjXR7fIjF/eNgMostNuJw4IyCrIhBGDnIOKzrLx/c3940cXgzxLHCAcS3FmIix7YVmH6kVXs5PWxPMjsaK5/8AtzXZv+PXwndR+hvbyCMf+Q2kP6Ub/GNx/wAsdDsPrLNdY/8AHYqOVhzHQUVz/wDZXiab/j58TQxf9eWmLH/6MeSj/hFriT/j78T65cDv+9ihz/36jSjlXcLvsdBTJZooI988iRp/edgB+tYX/CE6O/8Ax8tqV2e/2nVbmQH/AICZMD8BT4vBHhaGTzF8O6Y0n/PSS1R3/wC+mBNFo9/6+8NSS48Y+GbRtt14i0qFum172MEn0xmoP+E58PN/qL9rr/r1tpZ8/wDfCmtm2srWzXbaW0MA6YijC/yqej3ewanP/wDCYWz/APHrpOuT/wDcKmi/9GKtH/CR6pJ/x7+ENXI/vSy2sY/WbP6V0FFF49gs+5z/APaniiT/AFPhq1T/AK+dU2/+gRvR5vjGT/ly0O3/AO3uabHt/q0z9a6CmxyJLGskTq6OAyspyGB6EGjmXYLeZg+R4xk/5iOh2/8A24TS49v9cufrx9KP7L8UN8z+JbVX7LFpeE/ENITj/gQ+tdBRRzv+kPlMzStTluJ5dP1ONIdSt1DSLHnZKhJAkTPO04IIPKkYOeCdOuf8W/6BaQa/H8smkyeZK3rbMQJ1PsF+fH96Na6Ck1pdAuwUUUVIwooooAKKKKACiiigAooooAKKKKACiiigAooooAKKKKACiiigAooooAKKKKACiiigAooooAKKKKACiiigAooooAKKKKACiiigAooooAKKKKACiiigAooooAKKKKACiiigAooooAKKKKACiiigAooooAKKKKACiiigAooooAKKKKACiiigAooooAKKKKACiiigAooooAKKKKACsF9KvNEkafw2qyWxO6XS3banuYW6Rt/sn5Cf7pJat6s7VLjWIpI49HsLa43g7prm5MaxH3UKS30GOnUdaqN72EzAh1uyvvH2nNpzOlzNaTQX9tLGUkQIVeMup/ukuAeh8w4JyDWh4758B6up6PblGHqGIBH5E1c0zSJLa5e/1K5+26lImxpgmxI0znZGmTtXIyckknGScACn47/5EbVP+uP/ALMK0TTnGxOvK7nQVHHPDM8qQypI0L7JArAlGwGwfQ4YHHoRUlcrpN9a6XH4pl1OUQ/Z7+SefJwRG0abGHrlQAMdwR1FZqN0U3Y6qiua+Ht1dXPgXTo9SEq39ohtLpZm3OJIyUO49ycA59629Rvm0+085LO5vW3BRFaqpc+/zEDH40OLUuUE7q5aorm38YSxK5fw1rQ8sZf5YPlH/f2tbR9Vj1nTkuo4pLck4eCZkMkR6gMEZgCQQcZzgjOKHFpXC6ZepjzRRyRxySIjykrGrMAXIBJAHfgE/QVwXiA3eoa/deCmu7hE1SSO8SdHO+G2wxlVW9BJEo9hOB0qeXSPEGu6hp2p3sC2d9oKf6Osko8q8nbCyvlclYygKqSMjzCSvGDfs11ZPN2O5pk88VtbyT3EixQxIXkdzgKoGSSewAqnHE+r6O0Os2P2cygrLbibfxn+8uOv4Vwlhp9zr/hvUvBenTyWltYzXNtdXrguXBdjFFz94lSpc56cdXyqjBPdjcrHpEUqTQpLEweN1DKynIIPQ1y9t4yjufG9/pFrFcXkFvHAge2tmZY5jJKsu+T7oACoOvUMOSCBpWE/iRryOPUtN0qG1Gd81tqEkj9OMRmFQOcfxce9Q2+lXuneLLm7sYLNtPvo4xNmVo5IWTfyqBCH3FhnLLjnrQkle4O7tYbc/wDFRa5d6TKSunWAj+1IpwbmR13CM/8ATMLtJH8W7B4BDb6IscapGoVFGFVRgAelZmp+HNN1a4W4uopo7hV2C4tbmW2lK/3S8bKxHXgnHJqn/wAIVpf/AD9a4frr99/8eovFoNToKKzdP0vTvDOkyxabbSR26F52RC8zu3UkZJZicdKo/wDCXRt/qtE1yQd/+Jc6Y/76xU8rew723NbVLFNT0i8sJPuXUDwt9GUg/wA6p+Fb59S8H6Rey8Sz2UTyA9nKDcPwORWRf+P4dMMX27QdXgWdtsTzCCJHPYbnlAUnPAYgmrfg6O+hsb2G80240+2F5JJZx3EkTP5T4cj927gAOzgDP3QtW4tQ1JunLQ6KiiisiwooooAKKKKACiiigAooooAKKKKACiiigAooooAKKKKACiiigAooooAKKKKACiiigAooooAKKKKACiiigAooooAKKKKACiiigAooooAKKKKACiiigAooooAKKKKACiiigAooooAKKKKACiiigAooooAKKKKACiiigAooooAKKKKACiiigAooooAKKKKACiiigAooooAKKKKACiiigArn/HfHgPV27Jblz9AQT/KugrC8cxmX4e+IUX7zaZc7fr5TY/Wrh8SFLZm7VO50fTb2+t728060uLu1/wBRcSwK0kX+6xGV/CifV9Ps7VJ76+trWN1DBp5lQYPuSK4a38Qm8to7a/8AGEd/CihXbw/YSzTXGO5kj37c9wigjPDU4wk9UJySOl8M86r4mePmBtW/dsOhItoFfH0dXB9w3pXQVzNpr6W1pHa6J4W1mWCJdqItsluAP+2zofX3/Opv7W8Szf8AHv4Yhi9PtmpKn5+WklEotsE0kTTeDfDFxfSXlz4d0qa6lcu88tlG7sx7liM1p2djaadbi30+1htYQSRHBGEUE9TgcVjZ8YzfwaHZ/wDA5rnH6R0f2X4nm/4+PEtrF6/Y9LCfl5kklDu9HINOiNs20Bu1ujDGbhUMay7RuCkglc9cEgHHsKlrn/8AhGLuX/j88U61P6qrQwj8PLiU/qT70f8ACE6O/wDx9HUbw9/tWp3MoP8AwFpNo/AUrR6sNexr3mo2Wnpvv7y3tU67ppVQfqa5+z8U+ENPWaPStSgufNnknkWxL3ZaR2LMfk3HqTx26DgVpWfhLw7YPvstC02CTqZEtEDH6tjJrXACqAowBwAO1F4ruGpz/wDwlgm/48NA1y79P9C+z5/7/mP9aP7W8Sz/APHp4Yjh9Pt+pJH+flLLXQUUcy7BZ9zn9vjGf/lpodj/ANs5rrH6x5o/snxLJ/rvE8Ufr9m01U/9Dd/8+tdBRRzsOU5//hG9Sk/4+PF+st/sxx2saj6Yhz+po/4Q+3k/4+tW1yf/ALik0X/oplroKKOeQ+VHPN4D8NyqVutON4rDBF5cSz5+u9jW7bW0FnaxW1pDHBBCgSOKNQqooGAABwAB2qSik5Se7BJLYKKKKkYUUUUAFFFFABRRRQAUUUUAFFFFABRRRQAUUUUAFFFFABRRRQAUUUUAFFFFABRRRQAUUUUAFFFFABRRRQAUUUUAFFFFABRRRQAUUUUAFFFFABRRRQAUUUUAFFFFABRRRQAUUUUAFFFFABRRRQAUUUUAFFFFABRRRQAUUUUAFFFFABRRRQAUUUUAFFFFABRRRQAUUUUAFFFFABRRRQAU2WKOeF4pkWSORSrowyGB4II9KdRQBkWXhPw9prbtP0LTbZ/78VoisfqQMmteiim23uKyQUUUUhhRRRQAUUUUAFFFFABRRRQAUUUUAFFFFABRRRQAUUUUAFFFFABRRRQAUUUUAFFFFABRRRQAUUUUAFFFFABRRRQAUUUUAFFFFABRRRQAUUUUAFFFFABRRRQAUUUUAFFFFABRRRQAUUUUAFFFFABRRRQAUUUUAFFFFABRRRQAUUUUAFFFFABRRRQAUUUUAFFFFABRRRQAUUUUAFFFFABRRRQAUUUUAFFFFABRRRQAUUUUAFFFFABRRRQAUUUUAFFFFABRRRQAUUUUAFFFFABRRRQAUUUUAFFFFABRRRQAUUUUAFFFFABRRRQAUUUUAFFFFABRRRQAUUUUAFFFFABRRRQAUUUUAFFFFABRRRQAUUUUAFFFFABRRRQAUUUUAFFFFABRRRQAUUUUAFFFFABRRRQAUUUUAFFFFABRRRQAUUUUAFFFFABRRRQAUUUUAFFFFABRRRQAUUUUAFFFFABRRRQAUUUUAFFFFABRRRQAUUUUAFFFFABRRRQAUUUUAFFFFABRRRQAUUUUAFFFFABRRRQAUUUUAFFFFABRRRQAUUUUAFFFFABRRRQAUUUUAFFFFABRRRQAUUUUAFFFFABRRRQAUUUUAFFFFABRRRQB/9k=)"
      ],
      "metadata": {
        "id": "LAUCg41fEoNA"
      }
    },
    {
      "cell_type": "code",
      "source": [
        "def cost(x,y,m,c):\n",
        "  return ((y-m*x-c)**2).mean()  # .sum()  or mean ( )"
      ],
      "metadata": {
        "id": "GxmvGGl6oETj"
      },
      "execution_count": null,
      "outputs": []
    },
    {
      "cell_type": "code",
      "source": [
        "print(\"Cost on training Data: \",cost(x_train,y_train,m,c))"
      ],
      "metadata": {
        "colab": {
          "base_uri": "https://localhost:8080/"
        },
        "id": "HdwE4VgYo52d",
        "outputId": "5df0f00f-5598-451c-bb5e-564829de91ce"
      },
      "execution_count": null,
      "outputs": [
        {
          "output_type": "stream",
          "name": "stdout",
          "text": [
            "Cost on training Data:  8.326564155813042\n"
          ]
        }
      ]
    },
    {
      "cell_type": "code",
      "source": [
        ""
      ],
      "metadata": {
        "id": "8uwNNweBqr2s"
      },
      "execution_count": null,
      "outputs": []
    }
  ]
}