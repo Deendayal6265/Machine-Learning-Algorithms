{
  "nbformat": 4,
  "nbformat_minor": 0,
  "metadata": {
    "colab": {
      "name": "Statistics.ipynb",
      "provenance": [],
      "collapsed_sections": [],
      "mount_file_id": "10_jTgLdHoNE0OS7bubsvCEIpDCiymF3w",
      "authorship_tag": "ABX9TyMnZ9QGlTx96k0MYD7oHKfp",
      "include_colab_link": true
    },
    "kernelspec": {
      "name": "python3",
      "display_name": "Python 3"
    },
    "language_info": {
      "name": "python"
    }
  },
  "cells": [
    {
      "cell_type": "markdown",
      "metadata": {
        "id": "view-in-github",
        "colab_type": "text"
      },
      "source": [
        "<a href=\"https://colab.research.google.com/github/Deendayal6265/Machine-Learning-Algorithms/blob/main/Statistics/Startup%20Funding%20project%20.ipynb\" target=\"_parent\"><img src=\"https://colab.research.google.com/assets/colab-badge.svg\" alt=\"Open In Colab\"/></a>"
      ]
    },
    {
      "cell_type": "code",
      "execution_count": null,
      "metadata": {
        "id": "2Eur8IaHYiYm"
      },
      "outputs": [],
      "source": [
        ""
      ]
    },
    {
      "cell_type": "code",
      "source": [
        "from google.colab import drive\n",
        "drive.mount('/content/drive')"
      ],
      "metadata": {
        "colab": {
          "base_uri": "https://localhost:8080/"
        },
        "id": "pn5O2CH1YtGm",
        "outputId": "9c08f21e-15b4-4265-ef0c-bc669243de6d"
      },
      "execution_count": null,
      "outputs": [
        {
          "output_type": "stream",
          "name": "stdout",
          "text": [
            "Drive already mounted at /content/drive; to attempt to forcibly remount, call drive.mount(\"/content/drive\", force_remount=True).\n"
          ]
        }
      ]
    },
    {
      "cell_type": "code",
      "source": [
        "import pandas as pd\n"
      ],
      "metadata": {
        "id": "XY2HQEA3Y4rz"
      },
      "execution_count": null,
      "outputs": []
    },
    {
      "cell_type": "code",
      "source": [
        "data = pd.read_csv('/content/drive/MyDrive/Colab Notebooks/startup_funding.csv')"
      ],
      "metadata": {
        "id": "JUww6MdfY7YF"
      },
      "execution_count": null,
      "outputs": []
    },
    {
      "cell_type": "code",
      "source": [
        "data.head(2)"
      ],
      "metadata": {
        "colab": {
          "base_uri": "https://localhost:8080/",
          "height": 246
        },
        "id": "9NAATueuZAoV",
        "outputId": "9f9790d9-036f-40ce-8f8b-d9013afc2d75"
      },
      "execution_count": null,
      "outputs": [
        {
          "output_type": "execute_result",
          "data": {
            "text/html": [
              "\n",
              "  <div id=\"df-6b546622-dc52-4fa5-b0b0-4613a70c4dfd\">\n",
              "    <div class=\"colab-df-container\">\n",
              "      <div>\n",
              "<style scoped>\n",
              "    .dataframe tbody tr th:only-of-type {\n",
              "        vertical-align: middle;\n",
              "    }\n",
              "\n",
              "    .dataframe tbody tr th {\n",
              "        vertical-align: top;\n",
              "    }\n",
              "\n",
              "    .dataframe thead th {\n",
              "        text-align: right;\n",
              "    }\n",
              "</style>\n",
              "<table border=\"1\" class=\"dataframe\">\n",
              "  <thead>\n",
              "    <tr style=\"text-align: right;\">\n",
              "      <th></th>\n",
              "      <th>SNo</th>\n",
              "      <th>Date</th>\n",
              "      <th>StartupName</th>\n",
              "      <th>IndustryVertical</th>\n",
              "      <th>SubVertical</th>\n",
              "      <th>CityLocation</th>\n",
              "      <th>InvestorsName</th>\n",
              "      <th>InvestmentType</th>\n",
              "      <th>AmountInUSD</th>\n",
              "      <th>Remarks</th>\n",
              "    </tr>\n",
              "  </thead>\n",
              "  <tbody>\n",
              "    <tr>\n",
              "      <th>0</th>\n",
              "      <td>0</td>\n",
              "      <td>01/08/2017</td>\n",
              "      <td>TouchKin</td>\n",
              "      <td>Technology</td>\n",
              "      <td>Predictive Care Platform</td>\n",
              "      <td>Bangalore</td>\n",
              "      <td>Kae Capital</td>\n",
              "      <td>Private Equity</td>\n",
              "      <td>1,300,000</td>\n",
              "      <td>NaN</td>\n",
              "    </tr>\n",
              "    <tr>\n",
              "      <th>1</th>\n",
              "      <td>1</td>\n",
              "      <td>02/08/2017</td>\n",
              "      <td>Ethinos</td>\n",
              "      <td>Technology</td>\n",
              "      <td>Digital Marketing Agency</td>\n",
              "      <td>Mumbai</td>\n",
              "      <td>Triton Investment Advisors</td>\n",
              "      <td>Private Equity</td>\n",
              "      <td>NaN</td>\n",
              "      <td>NaN</td>\n",
              "    </tr>\n",
              "  </tbody>\n",
              "</table>\n",
              "</div>\n",
              "      <button class=\"colab-df-convert\" onclick=\"convertToInteractive('df-6b546622-dc52-4fa5-b0b0-4613a70c4dfd')\"\n",
              "              title=\"Convert this dataframe to an interactive table.\"\n",
              "              style=\"display:none;\">\n",
              "        \n",
              "  <svg xmlns=\"http://www.w3.org/2000/svg\" height=\"24px\"viewBox=\"0 0 24 24\"\n",
              "       width=\"24px\">\n",
              "    <path d=\"M0 0h24v24H0V0z\" fill=\"none\"/>\n",
              "    <path d=\"M18.56 5.44l.94 2.06.94-2.06 2.06-.94-2.06-.94-.94-2.06-.94 2.06-2.06.94zm-11 1L8.5 8.5l.94-2.06 2.06-.94-2.06-.94L8.5 2.5l-.94 2.06-2.06.94zm10 10l.94 2.06.94-2.06 2.06-.94-2.06-.94-.94-2.06-.94 2.06-2.06.94z\"/><path d=\"M17.41 7.96l-1.37-1.37c-.4-.4-.92-.59-1.43-.59-.52 0-1.04.2-1.43.59L10.3 9.45l-7.72 7.72c-.78.78-.78 2.05 0 2.83L4 21.41c.39.39.9.59 1.41.59.51 0 1.02-.2 1.41-.59l7.78-7.78 2.81-2.81c.8-.78.8-2.07 0-2.86zM5.41 20L4 18.59l7.72-7.72 1.47 1.35L5.41 20z\"/>\n",
              "  </svg>\n",
              "      </button>\n",
              "      \n",
              "  <style>\n",
              "    .colab-df-container {\n",
              "      display:flex;\n",
              "      flex-wrap:wrap;\n",
              "      gap: 12px;\n",
              "    }\n",
              "\n",
              "    .colab-df-convert {\n",
              "      background-color: #E8F0FE;\n",
              "      border: none;\n",
              "      border-radius: 50%;\n",
              "      cursor: pointer;\n",
              "      display: none;\n",
              "      fill: #1967D2;\n",
              "      height: 32px;\n",
              "      padding: 0 0 0 0;\n",
              "      width: 32px;\n",
              "    }\n",
              "\n",
              "    .colab-df-convert:hover {\n",
              "      background-color: #E2EBFA;\n",
              "      box-shadow: 0px 1px 2px rgba(60, 64, 67, 0.3), 0px 1px 3px 1px rgba(60, 64, 67, 0.15);\n",
              "      fill: #174EA6;\n",
              "    }\n",
              "\n",
              "    [theme=dark] .colab-df-convert {\n",
              "      background-color: #3B4455;\n",
              "      fill: #D2E3FC;\n",
              "    }\n",
              "\n",
              "    [theme=dark] .colab-df-convert:hover {\n",
              "      background-color: #434B5C;\n",
              "      box-shadow: 0px 1px 3px 1px rgba(0, 0, 0, 0.15);\n",
              "      filter: drop-shadow(0px 1px 2px rgba(0, 0, 0, 0.3));\n",
              "      fill: #FFFFFF;\n",
              "    }\n",
              "  </style>\n",
              "\n",
              "      <script>\n",
              "        const buttonEl =\n",
              "          document.querySelector('#df-6b546622-dc52-4fa5-b0b0-4613a70c4dfd button.colab-df-convert');\n",
              "        buttonEl.style.display =\n",
              "          google.colab.kernel.accessAllowed ? 'block' : 'none';\n",
              "\n",
              "        async function convertToInteractive(key) {\n",
              "          const element = document.querySelector('#df-6b546622-dc52-4fa5-b0b0-4613a70c4dfd');\n",
              "          const dataTable =\n",
              "            await google.colab.kernel.invokeFunction('convertToInteractive',\n",
              "                                                     [key], {});\n",
              "          if (!dataTable) return;\n",
              "\n",
              "          const docLinkHtml = 'Like what you see? Visit the ' +\n",
              "            '<a target=\"_blank\" href=https://colab.research.google.com/notebooks/data_table.ipynb>data table notebook</a>'\n",
              "            + ' to learn more about interactive tables.';\n",
              "          element.innerHTML = '';\n",
              "          dataTable['output_type'] = 'display_data';\n",
              "          await google.colab.output.renderOutput(dataTable, element);\n",
              "          const docLink = document.createElement('div');\n",
              "          docLink.innerHTML = docLinkHtml;\n",
              "          element.appendChild(docLink);\n",
              "        }\n",
              "      </script>\n",
              "    </div>\n",
              "  </div>\n",
              "  "
            ],
            "text/plain": [
              "   SNo        Date StartupName  ...  InvestmentType AmountInUSD Remarks\n",
              "0    0  01/08/2017    TouchKin  ...  Private Equity   1,300,000     NaN\n",
              "1    1  02/08/2017     Ethinos  ...  Private Equity         NaN     NaN\n",
              "\n",
              "[2 rows x 10 columns]"
            ]
          },
          "metadata": {},
          "execution_count": 142
        }
      ]
    },
    {
      "cell_type": "code",
      "source": [
        "amount =data.AmountInUSD  # select only the amount colomn."
      ],
      "metadata": {
        "id": "TIr-NtW9ZH-1"
      },
      "execution_count": null,
      "outputs": []
    },
    {
      "cell_type": "code",
      "source": [
        "amount"
      ],
      "metadata": {
        "colab": {
          "base_uri": "https://localhost:8080/"
        },
        "id": "At5u3-FwbPB8",
        "outputId": "d93c2d7a-98d7-4d2b-d80b-7016caa7409e"
      },
      "execution_count": null,
      "outputs": [
        {
          "output_type": "execute_result",
          "data": {
            "text/plain": [
              "0       1,300,000\n",
              "1             NaN\n",
              "2             NaN\n",
              "3         500,000\n",
              "4         850,000\n",
              "          ...    \n",
              "2367    4,500,000\n",
              "2368      825,000\n",
              "2369    1,500,000\n",
              "2370          NaN\n",
              "2371      140,000\n",
              "Name: AmountInUSD, Length: 2372, dtype: object"
            ]
          },
          "metadata": {},
          "execution_count": 144
        }
      ]
    },
    {
      "cell_type": "code",
      "source": [
        "amount.dropna(inplace=True)\n",
        "amount"
      ],
      "metadata": {
        "colab": {
          "base_uri": "https://localhost:8080/"
        },
        "id": "XljA2-G8bQvL",
        "outputId": "522374ae-f3ce-46b3-91f9-88442a7667c7"
      },
      "execution_count": null,
      "outputs": [
        {
          "output_type": "execute_result",
          "data": {
            "text/plain": [
              "0       1,300,000\n",
              "3         500,000\n",
              "4         850,000\n",
              "5       1,000,000\n",
              "6       2,600,000\n",
              "          ...    \n",
              "2366    2,500,000\n",
              "2367    4,500,000\n",
              "2368      825,000\n",
              "2369    1,500,000\n",
              "2371      140,000\n",
              "Name: AmountInUSD, Length: 1525, dtype: object"
            ]
          },
          "metadata": {},
          "execution_count": 145
        }
      ]
    },
    {
      "cell_type": "code",
      "source": [
        "amount.reset_index(inplace=True,drop=True)\n",
        "amount"
      ],
      "metadata": {
        "colab": {
          "base_uri": "https://localhost:8080/"
        },
        "id": "8syd2fCYb7HM",
        "outputId": "ffdb301d-3fc0-4e94-a3b4-30d9e4580723"
      },
      "execution_count": null,
      "outputs": [
        {
          "output_type": "execute_result",
          "data": {
            "text/plain": [
              "0       1,300,000\n",
              "1         500,000\n",
              "2         850,000\n",
              "3       1,000,000\n",
              "4       2,600,000\n",
              "          ...    \n",
              "1520    2,500,000\n",
              "1521    4,500,000\n",
              "1522      825,000\n",
              "1523    1,500,000\n",
              "1524      140,000\n",
              "Name: AmountInUSD, Length: 1525, dtype: object"
            ]
          },
          "metadata": {},
          "execution_count": 146
        }
      ]
    },
    {
      "cell_type": "code",
      "source": [
        "a1 = amount.str.replace(',',\"\")   # it remove the comma from the number's . \n",
        "a1"
      ],
      "metadata": {
        "colab": {
          "base_uri": "https://localhost:8080/"
        },
        "id": "tqBKfQeDcbcs",
        "outputId": "0e1597f7-5f45-4b79-a24f-8b5a4f5b7f79"
      },
      "execution_count": null,
      "outputs": [
        {
          "output_type": "execute_result",
          "data": {
            "text/plain": [
              "0       1300000\n",
              "1        500000\n",
              "2        850000\n",
              "3       1000000\n",
              "4       2600000\n",
              "         ...   \n",
              "1520    2500000\n",
              "1521    4500000\n",
              "1522     825000\n",
              "1523    1500000\n",
              "1524     140000\n",
              "Name: AmountInUSD, Length: 1525, dtype: object"
            ]
          },
          "metadata": {},
          "execution_count": 147
        }
      ]
    },
    {
      "cell_type": "code",
      "source": [
        "a1.dtype"
      ],
      "metadata": {
        "colab": {
          "base_uri": "https://localhost:8080/"
        },
        "id": "vsMfAEmEdSKk",
        "outputId": "ac2b69c3-003c-4824-fc18-9c9092ab29a8"
      },
      "execution_count": null,
      "outputs": [
        {
          "output_type": "execute_result",
          "data": {
            "text/plain": [
              "dtype('O')"
            ]
          },
          "metadata": {},
          "execution_count": 148
        }
      ]
    },
    {
      "cell_type": "code",
      "source": [
        "a2 = pd.to_numeric(a1)\n",
        "a2\n"
      ],
      "metadata": {
        "colab": {
          "base_uri": "https://localhost:8080/"
        },
        "id": "1t30HTMQc030",
        "outputId": "964156f6-e004-4e70-8c4b-a52f4f9e175d"
      },
      "execution_count": null,
      "outputs": [
        {
          "output_type": "execute_result",
          "data": {
            "text/plain": [
              "0       1300000\n",
              "1        500000\n",
              "2        850000\n",
              "3       1000000\n",
              "4       2600000\n",
              "         ...   \n",
              "1520    2500000\n",
              "1521    4500000\n",
              "1522     825000\n",
              "1523    1500000\n",
              "1524     140000\n",
              "Name: AmountInUSD, Length: 1525, dtype: int64"
            ]
          },
          "metadata": {},
          "execution_count": 149
        }
      ]
    },
    {
      "cell_type": "code",
      "source": [
        "a2.dtypes"
      ],
      "metadata": {
        "colab": {
          "base_uri": "https://localhost:8080/"
        },
        "id": "4QtHDSJscXlw",
        "outputId": "7391417e-e0d1-42fa-fc32-00d9dc3a81db"
      },
      "execution_count": null,
      "outputs": [
        {
          "output_type": "execute_result",
          "data": {
            "text/plain": [
              "dtype('int64')"
            ]
          },
          "metadata": {},
          "execution_count": 150
        }
      ]
    },
    {
      "cell_type": "code",
      "source": [
        "a2[0]"
      ],
      "metadata": {
        "colab": {
          "base_uri": "https://localhost:8080/"
        },
        "id": "KdGDvCzidhOZ",
        "outputId": "3e65e16d-791d-4c28-d7ab-7fecf6423ce2"
      },
      "execution_count": null,
      "outputs": [
        {
          "output_type": "execute_result",
          "data": {
            "text/plain": [
              "1300000"
            ]
          },
          "metadata": {},
          "execution_count": 151
        }
      ]
    },
    {
      "cell_type": "code",
      "source": [
        "pop_avg = a2.mean()\n",
        "pop_max = a2.max()\n",
        "pop_min = a2.min()\n",
        "\n",
        "print(pop_avg,\"This is the average .\\n \")\n",
        "print(pop_max,\"maximum\\n\")\n",
        "print(pop_min,\"minimum\\n\")"
      ],
      "metadata": {
        "colab": {
          "base_uri": "https://localhost:8080/"
        },
        "id": "tXr1EVwEd1UB",
        "outputId": "868e56a6-e589-4cf9-c2a8-111c8cb645c4"
      },
      "execution_count": null,
      "outputs": [
        {
          "output_type": "stream",
          "name": "stdout",
          "text": [
            "12031073.099016393 This is the average .\n",
            " \n",
            "1400000000 maximum\n",
            "\n",
            "16000 minimum\n",
            "\n"
          ]
        }
      ]
    },
    {
      "cell_type": "code",
      "source": [
        "population = a2\n",
        "sample_size = 100\n",
        "sample = population.sample(sample_size, random_state = 2)\n",
        "print(sample)\n",
        "print()\n",
        "print(sample.shape)"
      ],
      "metadata": {
        "colab": {
          "base_uri": "https://localhost:8080/"
        },
        "id": "gqBuo2UffJV5",
        "outputId": "897152dd-bca9-409a-a864-991bd660b3dc"
      },
      "execution_count": null,
      "outputs": [
        {
          "output_type": "stream",
          "name": "stdout",
          "text": [
            "1108       400000\n",
            "665       8900000\n",
            "421       6700000\n",
            "246      13000000\n",
            "1459     13000000\n",
            "          ...    \n",
            "675     100000000\n",
            "1411       166000\n",
            "1303       200000\n",
            "834        250000\n",
            "1428     25000000\n",
            "Name: AmountInUSD, Length: 100, dtype: int64\n",
            "\n",
            "(100,)\n"
          ]
        }
      ]
    },
    {
      "cell_type": "code",
      "source": [
        "\n",
        "sample_avg = sample.mean()\n",
        "sample_max = sample.max()\n",
        "sample_min = sample.min\n",
        "\n",
        "print(sample_avg)\n",
        "print(sample_max)\n",
        "print(sample_min)"
      ],
      "metadata": {
        "colab": {
          "base_uri": "https://localhost:8080/"
        },
        "id": "W7kxvkmygyM8",
        "outputId": "f20edf76-0c11-482a-fc80-192927dfac61"
      },
      "execution_count": null,
      "outputs": [
        {
          "output_type": "stream",
          "name": "stdout",
          "text": [
            "11903637.68\n",
            "260000000\n",
            "<bound method NDFrame._add_numeric_operations.<locals>.min of 1108       400000\n",
            "665       8900000\n",
            "421       6700000\n",
            "246      13000000\n",
            "1459     13000000\n",
            "          ...    \n",
            "675     100000000\n",
            "1411       166000\n",
            "1303       200000\n",
            "834        250000\n",
            "1428     25000000\n",
            "Name: AmountInUSD, Length: 100, dtype: int64>\n"
          ]
        }
      ]
    },
    {
      "cell_type": "code",
      "source": [
        "bang = data[data.CityLocation == (\"Bangalore\")]\n",
        "mum = data[data.CityLocation == \"Mumbai\"]\n",
        "\n",
        "bang= pd.DataFrame(bang)\n",
        "mum = pd.DataFrame(mum)\n",
        "\n",
        "mum_bang = pd.concat([bang,mum])\n"
      ],
      "metadata": {
        "id": "06Yvov0vhHiP"
      },
      "execution_count": null,
      "outputs": []
    },
    {
      "cell_type": "code",
      "source": [
        "bang.count()   # total startup in bangalore. "
      ],
      "metadata": {
        "colab": {
          "base_uri": "https://localhost:8080/"
        },
        "id": "R05YatxyoU0L",
        "outputId": "4a736d69-3fd6-4a25-b6ad-fcfa551ab6f7"
      },
      "execution_count": null,
      "outputs": [
        {
          "output_type": "execute_result",
          "data": {
            "text/plain": [
              "SNo                 627\n",
              "Date                627\n",
              "StartupName         627\n",
              "IndustryVertical    627\n",
              "SubVertical         427\n",
              "CityLocation        627\n",
              "InvestorsName       626\n",
              "InvestmentType      627\n",
              "AmountInUSD         405\n",
              "Remarks              98\n",
              "dtype: int64"
            ]
          },
          "metadata": {},
          "execution_count": 156
        }
      ]
    },
    {
      "cell_type": "code",
      "source": [
        "mum.count() # total startups in mumbai . "
      ],
      "metadata": {
        "colab": {
          "base_uri": "https://localhost:8080/"
        },
        "id": "CrUMn28zoZk6",
        "outputId": "004088e8-0df8-4d9b-b66c-b3d96bbfedc3"
      },
      "execution_count": null,
      "outputs": [
        {
          "output_type": "execute_result",
          "data": {
            "text/plain": [
              "SNo                 446\n",
              "Date                446\n",
              "StartupName         446\n",
              "IndustryVertical    446\n",
              "SubVertical         280\n",
              "CityLocation        446\n",
              "InvestorsName       442\n",
              "InvestmentType      445\n",
              "AmountInUSD         300\n",
              "Remarks              78\n",
              "dtype: int64"
            ]
          },
          "metadata": {},
          "execution_count": 157
        }
      ]
    },
    {
      "cell_type": "code",
      "source": [
        ""
      ],
      "metadata": {
        "id": "mZdeiy8Kpgdd"
      },
      "execution_count": null,
      "outputs": []
    },
    {
      "cell_type": "code",
      "source": [
        "mum_bang.count()"
      ],
      "metadata": {
        "colab": {
          "base_uri": "https://localhost:8080/"
        },
        "id": "CNNf1IVul4YO",
        "outputId": "f1580250-dc62-40c5-b2ff-c8de440d607a"
      },
      "execution_count": null,
      "outputs": [
        {
          "output_type": "execute_result",
          "data": {
            "text/plain": [
              "SNo                 1073\n",
              "Date                1073\n",
              "StartupName         1073\n",
              "IndustryVertical    1073\n",
              "SubVertical          707\n",
              "CityLocation        1073\n",
              "InvestorsName       1068\n",
              "InvestmentType      1072\n",
              "AmountInUSD          705\n",
              "Remarks              176\n",
              "dtype: int64"
            ]
          },
          "metadata": {},
          "execution_count": 158
        }
      ]
    },
    {
      "cell_type": "code",
      "source": [
        "mum_bang"
      ],
      "metadata": {
        "colab": {
          "base_uri": "https://localhost:8080/",
          "height": 939
        },
        "id": "TXngWbHioEba",
        "outputId": "bb691267-cee8-43aa-f81a-e9f9d395449e"
      },
      "execution_count": null,
      "outputs": [
        {
          "output_type": "execute_result",
          "data": {
            "text/html": [
              "\n",
              "  <div id=\"df-3c54e2c9-ebad-47e1-ae31-095d47fc599d\">\n",
              "    <div class=\"colab-df-container\">\n",
              "      <div>\n",
              "<style scoped>\n",
              "    .dataframe tbody tr th:only-of-type {\n",
              "        vertical-align: middle;\n",
              "    }\n",
              "\n",
              "    .dataframe tbody tr th {\n",
              "        vertical-align: top;\n",
              "    }\n",
              "\n",
              "    .dataframe thead th {\n",
              "        text-align: right;\n",
              "    }\n",
              "</style>\n",
              "<table border=\"1\" class=\"dataframe\">\n",
              "  <thead>\n",
              "    <tr style=\"text-align: right;\">\n",
              "      <th></th>\n",
              "      <th>SNo</th>\n",
              "      <th>Date</th>\n",
              "      <th>StartupName</th>\n",
              "      <th>IndustryVertical</th>\n",
              "      <th>SubVertical</th>\n",
              "      <th>CityLocation</th>\n",
              "      <th>InvestorsName</th>\n",
              "      <th>InvestmentType</th>\n",
              "      <th>AmountInUSD</th>\n",
              "      <th>Remarks</th>\n",
              "    </tr>\n",
              "  </thead>\n",
              "  <tbody>\n",
              "    <tr>\n",
              "      <th>0</th>\n",
              "      <td>0</td>\n",
              "      <td>01/08/2017</td>\n",
              "      <td>TouchKin</td>\n",
              "      <td>Technology</td>\n",
              "      <td>Predictive Care Platform</td>\n",
              "      <td>Bangalore</td>\n",
              "      <td>Kae Capital</td>\n",
              "      <td>Private Equity</td>\n",
              "      <td>1,300,000</td>\n",
              "      <td>NaN</td>\n",
              "    </tr>\n",
              "    <tr>\n",
              "      <th>5</th>\n",
              "      <td>5</td>\n",
              "      <td>01/07/2017</td>\n",
              "      <td>Billion Loans</td>\n",
              "      <td>Consumer Internet</td>\n",
              "      <td>Peer to Peer Lending platform</td>\n",
              "      <td>Bangalore</td>\n",
              "      <td>Reliance Corporate Advisory Services Ltd</td>\n",
              "      <td>Seed Funding</td>\n",
              "      <td>1,000,000</td>\n",
              "      <td>NaN</td>\n",
              "    </tr>\n",
              "    <tr>\n",
              "      <th>8</th>\n",
              "      <td>8</td>\n",
              "      <td>05/07/2017</td>\n",
              "      <td>Jumbotail</td>\n",
              "      <td>eCommerce</td>\n",
              "      <td>online marketplace for food and grocery</td>\n",
              "      <td>Bangalore</td>\n",
              "      <td>Kalaari Capital, Nexus India Capital Advisors</td>\n",
              "      <td>Private Equity</td>\n",
              "      <td>8,500,000</td>\n",
              "      <td>NaN</td>\n",
              "    </tr>\n",
              "    <tr>\n",
              "      <th>11</th>\n",
              "      <td>11</td>\n",
              "      <td>06/07/2017</td>\n",
              "      <td>Minjar</td>\n",
              "      <td>Technology</td>\n",
              "      <td>Cloud Solutions provider</td>\n",
              "      <td>Bangalore</td>\n",
              "      <td>Blume Ventures, Contrarian Capital India Partn...</td>\n",
              "      <td>Seed Funding</td>\n",
              "      <td>NaN</td>\n",
              "      <td>NaN</td>\n",
              "    </tr>\n",
              "    <tr>\n",
              "      <th>13</th>\n",
              "      <td>13</td>\n",
              "      <td>07/07/2017</td>\n",
              "      <td>Clip App</td>\n",
              "      <td>Consumer Internet</td>\n",
              "      <td>Digital Media Video platform</td>\n",
              "      <td>Bangalore</td>\n",
              "      <td>India Quotient, Shunwei Capital</td>\n",
              "      <td>Seed Funding</td>\n",
              "      <td>1,000,000</td>\n",
              "      <td>NaN</td>\n",
              "    </tr>\n",
              "    <tr>\n",
              "      <th>...</th>\n",
              "      <td>...</td>\n",
              "      <td>...</td>\n",
              "      <td>...</td>\n",
              "      <td>...</td>\n",
              "      <td>...</td>\n",
              "      <td>...</td>\n",
              "      <td>...</td>\n",
              "      <td>...</td>\n",
              "      <td>...</td>\n",
              "      <td>...</td>\n",
              "    </tr>\n",
              "    <tr>\n",
              "      <th>2169</th>\n",
              "      <td>2169</td>\n",
              "      <td>18/04/2015</td>\n",
              "      <td>Doormint</td>\n",
              "      <td>On-Demand Handyman Services</td>\n",
              "      <td>NaN</td>\n",
              "      <td>Mumbai</td>\n",
              "      <td>Powai Lake Ventures</td>\n",
              "      <td>Seed Funding</td>\n",
              "      <td>NaN</td>\n",
              "      <td>NaN</td>\n",
              "    </tr>\n",
              "    <tr>\n",
              "      <th>2179</th>\n",
              "      <td>2179</td>\n",
              "      <td>23/04/2015</td>\n",
              "      <td>Craftstvilla</td>\n",
              "      <td>Ethnic Product eCommerce</td>\n",
              "      <td>NaN</td>\n",
              "      <td>Mumbai</td>\n",
              "      <td>Sequoia Capital, Nexus venture Partners, Light...</td>\n",
              "      <td>Private Equity</td>\n",
              "      <td>18,000,000</td>\n",
              "      <td>Series B</td>\n",
              "    </tr>\n",
              "    <tr>\n",
              "      <th>2185</th>\n",
              "      <td>2185</td>\n",
              "      <td>24/04/2015</td>\n",
              "      <td>Coverfox</td>\n",
              "      <td>Online Insurance Aggregator</td>\n",
              "      <td>NaN</td>\n",
              "      <td>Mumbai</td>\n",
              "      <td>Accel US, Accel India, SAIF Partners.</td>\n",
              "      <td>Private Equity</td>\n",
              "      <td>12,000,000</td>\n",
              "      <td>Series B</td>\n",
              "    </tr>\n",
              "    <tr>\n",
              "      <th>2187</th>\n",
              "      <td>2187</td>\n",
              "      <td>27/04/2015</td>\n",
              "      <td>Grab</td>\n",
              "      <td>Food Logistics &amp; Delivery</td>\n",
              "      <td>NaN</td>\n",
              "      <td>Mumbai</td>\n",
              "      <td>Oliphans Capital, Haresh Chawla</td>\n",
              "      <td>Seed Funding</td>\n",
              "      <td>1,000,000</td>\n",
              "      <td>NaN</td>\n",
              "    </tr>\n",
              "    <tr>\n",
              "      <th>2193</th>\n",
              "      <td>2193</td>\n",
              "      <td>28/04/2015</td>\n",
              "      <td>Naaptol.com</td>\n",
              "      <td>Tele-Shopping / eCommerce</td>\n",
              "      <td>NaN</td>\n",
              "      <td>Mumbai</td>\n",
              "      <td>Mitsui &amp; Co &amp; existing investors</td>\n",
              "      <td>Private Equity</td>\n",
              "      <td>21,500,000</td>\n",
              "      <td>Series C</td>\n",
              "    </tr>\n",
              "  </tbody>\n",
              "</table>\n",
              "<p>1073 rows × 10 columns</p>\n",
              "</div>\n",
              "      <button class=\"colab-df-convert\" onclick=\"convertToInteractive('df-3c54e2c9-ebad-47e1-ae31-095d47fc599d')\"\n",
              "              title=\"Convert this dataframe to an interactive table.\"\n",
              "              style=\"display:none;\">\n",
              "        \n",
              "  <svg xmlns=\"http://www.w3.org/2000/svg\" height=\"24px\"viewBox=\"0 0 24 24\"\n",
              "       width=\"24px\">\n",
              "    <path d=\"M0 0h24v24H0V0z\" fill=\"none\"/>\n",
              "    <path d=\"M18.56 5.44l.94 2.06.94-2.06 2.06-.94-2.06-.94-.94-2.06-.94 2.06-2.06.94zm-11 1L8.5 8.5l.94-2.06 2.06-.94-2.06-.94L8.5 2.5l-.94 2.06-2.06.94zm10 10l.94 2.06.94-2.06 2.06-.94-2.06-.94-.94-2.06-.94 2.06-2.06.94z\"/><path d=\"M17.41 7.96l-1.37-1.37c-.4-.4-.92-.59-1.43-.59-.52 0-1.04.2-1.43.59L10.3 9.45l-7.72 7.72c-.78.78-.78 2.05 0 2.83L4 21.41c.39.39.9.59 1.41.59.51 0 1.02-.2 1.41-.59l7.78-7.78 2.81-2.81c.8-.78.8-2.07 0-2.86zM5.41 20L4 18.59l7.72-7.72 1.47 1.35L5.41 20z\"/>\n",
              "  </svg>\n",
              "      </button>\n",
              "      \n",
              "  <style>\n",
              "    .colab-df-container {\n",
              "      display:flex;\n",
              "      flex-wrap:wrap;\n",
              "      gap: 12px;\n",
              "    }\n",
              "\n",
              "    .colab-df-convert {\n",
              "      background-color: #E8F0FE;\n",
              "      border: none;\n",
              "      border-radius: 50%;\n",
              "      cursor: pointer;\n",
              "      display: none;\n",
              "      fill: #1967D2;\n",
              "      height: 32px;\n",
              "      padding: 0 0 0 0;\n",
              "      width: 32px;\n",
              "    }\n",
              "\n",
              "    .colab-df-convert:hover {\n",
              "      background-color: #E2EBFA;\n",
              "      box-shadow: 0px 1px 2px rgba(60, 64, 67, 0.3), 0px 1px 3px 1px rgba(60, 64, 67, 0.15);\n",
              "      fill: #174EA6;\n",
              "    }\n",
              "\n",
              "    [theme=dark] .colab-df-convert {\n",
              "      background-color: #3B4455;\n",
              "      fill: #D2E3FC;\n",
              "    }\n",
              "\n",
              "    [theme=dark] .colab-df-convert:hover {\n",
              "      background-color: #434B5C;\n",
              "      box-shadow: 0px 1px 3px 1px rgba(0, 0, 0, 0.15);\n",
              "      filter: drop-shadow(0px 1px 2px rgba(0, 0, 0, 0.3));\n",
              "      fill: #FFFFFF;\n",
              "    }\n",
              "  </style>\n",
              "\n",
              "      <script>\n",
              "        const buttonEl =\n",
              "          document.querySelector('#df-3c54e2c9-ebad-47e1-ae31-095d47fc599d button.colab-df-convert');\n",
              "        buttonEl.style.display =\n",
              "          google.colab.kernel.accessAllowed ? 'block' : 'none';\n",
              "\n",
              "        async function convertToInteractive(key) {\n",
              "          const element = document.querySelector('#df-3c54e2c9-ebad-47e1-ae31-095d47fc599d');\n",
              "          const dataTable =\n",
              "            await google.colab.kernel.invokeFunction('convertToInteractive',\n",
              "                                                     [key], {});\n",
              "          if (!dataTable) return;\n",
              "\n",
              "          const docLinkHtml = 'Like what you see? Visit the ' +\n",
              "            '<a target=\"_blank\" href=https://colab.research.google.com/notebooks/data_table.ipynb>data table notebook</a>'\n",
              "            + ' to learn more about interactive tables.';\n",
              "          element.innerHTML = '';\n",
              "          dataTable['output_type'] = 'display_data';\n",
              "          await google.colab.output.renderOutput(dataTable, element);\n",
              "          const docLink = document.createElement('div');\n",
              "          docLink.innerHTML = docLinkHtml;\n",
              "          element.appendChild(docLink);\n",
              "        }\n",
              "      </script>\n",
              "    </div>\n",
              "  </div>\n",
              "  "
            ],
            "text/plain": [
              "       SNo        Date    StartupName  ...  InvestmentType AmountInUSD   Remarks\n",
              "0        0  01/08/2017       TouchKin  ...  Private Equity   1,300,000       NaN\n",
              "5        5  01/07/2017  Billion Loans  ...    Seed Funding   1,000,000       NaN\n",
              "8        8  05/07/2017      Jumbotail  ...  Private Equity   8,500,000       NaN\n",
              "11      11  06/07/2017         Minjar  ...    Seed Funding         NaN       NaN\n",
              "13      13  07/07/2017       Clip App  ...    Seed Funding   1,000,000       NaN\n",
              "...    ...         ...            ...  ...             ...         ...       ...\n",
              "2169  2169  18/04/2015       Doormint  ...    Seed Funding         NaN       NaN\n",
              "2179  2179  23/04/2015   Craftstvilla  ...  Private Equity  18,000,000  Series B\n",
              "2185  2185  24/04/2015       Coverfox  ...  Private Equity  12,000,000  Series B\n",
              "2187  2187  27/04/2015           Grab  ...    Seed Funding   1,000,000       NaN\n",
              "2193  2193  28/04/2015    Naaptol.com  ...  Private Equity  21,500,000  Series C\n",
              "\n",
              "[1073 rows x 10 columns]"
            ]
          },
          "metadata": {},
          "execution_count": 159
        }
      ]
    },
    {
      "cell_type": "code",
      "source": [
        "amount_bang = bang.AmountInUSD"
      ],
      "metadata": {
        "id": "wQJNS6S5qJDf"
      },
      "execution_count": null,
      "outputs": []
    },
    {
      "cell_type": "code",
      "source": [
        "amount_bang.dropna(inplace=True)"
      ],
      "metadata": {
        "id": "UsPdiAbBqQFk"
      },
      "execution_count": null,
      "outputs": []
    },
    {
      "cell_type": "code",
      "source": [
        "amount_bang1= amount_bang.str.replace(\",\",\"\")\n",
        "amount_bang1 = pd.to_numeric(amount_bang1)"
      ],
      "metadata": {
        "id": "MWyYRjj5qXUt"
      },
      "execution_count": null,
      "outputs": []
    },
    {
      "cell_type": "code",
      "source": [
        "amount_bang1.dropna()"
      ],
      "metadata": {
        "colab": {
          "base_uri": "https://localhost:8080/"
        },
        "id": "i_VT9U-4quoe",
        "outputId": "fdef8092-3a6c-4e43-b641-48fd5eb4ed57"
      },
      "execution_count": null,
      "outputs": [
        {
          "output_type": "execute_result",
          "data": {
            "text/plain": [
              "0        1300000\n",
              "5        1000000\n",
              "8        8500000\n",
              "13       1000000\n",
              "19      18500000\n",
              "          ...   \n",
              "2178    15000000\n",
              "2181      500000\n",
              "2190    10000000\n",
              "2196     3500000\n",
              "2198      400000\n",
              "Name: AmountInUSD, Length: 405, dtype: int64"
            ]
          },
          "metadata": {},
          "execution_count": 166
        }
      ]
    },
    {
      "cell_type": "code",
      "source": [
        "print(amount_bang1.mean())\n",
        "print(amount_bang1.min())\n",
        "print(amount_bang1.max())\n"
      ],
      "metadata": {
        "colab": {
          "base_uri": "https://localhost:8080/"
        },
        "id": "f01Xf__yq-6z",
        "outputId": "9b6eec5e-3262-4312-cbe3-dc014317ffc0"
      },
      "execution_count": null,
      "outputs": [
        {
          "output_type": "stream",
          "name": "stdout",
          "text": [
            "20700676.809876543\n",
            "18000\n",
            "1400000000\n"
          ]
        }
      ]
    },
    {
      "cell_type": "markdown",
      "source": [
        "FOR SAMPLE ERROR"
      ],
      "metadata": {
        "id": "nPH79NlQs-4o"
      }
    },
    {
      "cell_type": "code",
      "source": [
        "population = amount_bang1\n",
        "sample_size = 50\n",
        "sample=population.sample(sample_size,random_state=1)\n",
        "sample\n"
      ],
      "metadata": {
        "colab": {
          "base_uri": "https://localhost:8080/"
        },
        "id": "3edZD0YqtBIF",
        "outputId": "cdc941c8-e8e1-45e6-c920-6a9cf3f79fea"
      },
      "execution_count": null,
      "outputs": [
        {
          "output_type": "execute_result",
          "data": {
            "text/plain": [
              "2033    50000000\n",
              "280       500000\n",
              "1780     3300000\n",
              "396      5000000\n",
              "699       150000\n",
              "1589     1200000\n",
              "1267     1200000\n",
              "1614     9000000\n",
              "116     10000000\n",
              "831       700000\n",
              "1643    10000000\n",
              "2088    15000000\n",
              "971      1200000\n",
              "352      3000000\n",
              "1981    50000000\n",
              "401     55000000\n",
              "1573     2500000\n",
              "23        540000\n",
              "2131     1000000\n",
              "2058     6000000\n",
              "2137    12000000\n",
              "1931    16200000\n",
              "660     27000000\n",
              "1198      250000\n",
              "74       5500000\n",
              "1631    10000000\n",
              "2178    15000000\n",
              "1556      600000\n",
              "450      1400000\n",
              "262       275000\n",
              "1025    25000000\n",
              "19      18500000\n",
              "1893      300000\n",
              "902      4000000\n",
              "24       1700000\n",
              "392       440000\n",
              "1235       22500\n",
              "861      1350000\n",
              "1052     1000000\n",
              "962       210000\n",
              "354       400000\n",
              "903      2000000\n",
              "1285     1000000\n",
              "1949    11000000\n",
              "298       191000\n",
              "2101     2000000\n",
              "1480      150000\n",
              "615     50000000\n",
              "492     15000000\n",
              "1491    22500000\n",
              "Name: AmountInUSD, dtype: int64"
            ]
          },
          "metadata": {},
          "execution_count": 170
        }
      ]
    },
    {
      "cell_type": "code",
      "source": [
        "pop_mean = population.mean()\n",
        "sample_mean = sample.mean()\n",
        "\n",
        "sample_error = pop_mean-sample_mean\n",
        "\n",
        "print(\"This is the sample error --- \",sample_error)"
      ],
      "metadata": {
        "colab": {
          "base_uri": "https://localhost:8080/"
        },
        "id": "q8hTIGK0tY6K",
        "outputId": "3381bef7-6ff0-4baf-e84c-3ee5519c9caf"
      },
      "execution_count": null,
      "outputs": [
        {
          "output_type": "stream",
          "name": "stdout",
          "text": [
            "This is the sample error ---  11295106.809876543\n"
          ]
        }
      ]
    }
  ]
}